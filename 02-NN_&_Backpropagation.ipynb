{
  "cells": [
    {
      "cell_type": "markdown",
      "metadata": {
        "id": "G1ivCcAyJxSj"
      },
      "source": [
        "<img src=\"https://raw.githubusercontent.com/alan-barzilay/NLPortugues/master/imagens/logo_nlportugues.png\"   width=\"150\" align=\"right\">\n",
        "\n",
        "\n",
        "# Lista 2 - NN & Backpropagation\n"
      ]
    },
    {
      "cell_type": "markdown",
      "source": [
        "\n",
        "_________________________________________\n",
        "\n",
        "Antes de começar o exercício,  não se esqueça de instalar todos os pacotes necessários para a sua execução.  "
      ],
      "metadata": {
        "id": "5EbG7paYJ-sT"
      }
    },
    {
      "cell_type": "code",
      "execution_count": null,
      "metadata": {
        "id": "hF9mL2iuJxSl",
        "outputId": "5ce3b955-9d9f-4e44-e5f6-aeb62ca25039",
        "colab": {
          "base_uri": "https://localhost:8080/",
          "height": 35
        }
      },
      "outputs": [
        {
          "output_type": "execute_result",
          "data": {
            "text/plain": [
              "'2.17.0'"
            ],
            "application/vnd.google.colaboratory.intrinsic+json": {
              "type": "string"
            }
          },
          "metadata": {},
          "execution_count": 96
        }
      ],
      "source": [
        "import tensorflow as tf\n",
        "import pandas as pd\n",
        "import numpy as np\n",
        "import matplotlib.pyplot as plt\n",
        "import seaborn as sns\n",
        "from tensorflow import keras\n",
        "from sklearn.model_selection import train_test_split\n",
        "%matplotlib inline\n",
        "tf.__version__"
      ]
    },
    {
      "cell_type": "markdown",
      "metadata": {
        "id": "4U58nHrAJxSn"
      },
      "source": [
        "## Perceptron\n",
        "\n",
        "O perceptron é uma \"rede neural\" de um só neurônio.  No nosso caso, temos a rede mais simples possível, com uma só entrada e uma só saída, sem ativação.\n",
        "\n",
        "Temos 100 dados que serão usados para treinar 300 épocas do percéptron.\n",
        "\n",
        "Vamos utilizar o modelo percéptron para aprender uma simples regressão linear, o objetivo é faze-lo aprender uma simples equação linear e tambem se acostumar com a sintaxe e funcionamento do TensorFlow\n"
      ]
    },
    {
      "cell_type": "code",
      "execution_count": null,
      "metadata": {
        "id": "YElbceStJxSn"
      },
      "outputs": [],
      "source": [
        "def f1(x):\n",
        "    '''\n",
        "    Funcao a ser aprendida\n",
        "    '''\n",
        "    return 5 + 10*x"
      ]
    },
    {
      "cell_type": "code",
      "execution_count": null,
      "metadata": {
        "id": "JDqMORncJxSo",
        "outputId": "d0c55f93-9348-40f2-bac9-fb90fcf573bd",
        "colab": {
          "base_uri": "https://localhost:8080/"
        }
      },
      "outputs": [
        {
          "output_type": "stream",
          "name": "stdout",
          "text": [
            "100 xs= [ 0.          0.1010101   0.2020202   0.3030303   0.4040404   0.50505051\n",
            "  0.60606061  0.70707071  0.80808081  0.90909091  1.01010101  1.11111111\n",
            "  1.21212121  1.31313131  1.41414141  1.51515152  1.61616162  1.71717172\n",
            "  1.81818182  1.91919192  2.02020202  2.12121212  2.22222222  2.32323232\n",
            "  2.42424242  2.52525253  2.62626263  2.72727273  2.82828283  2.92929293\n",
            "  3.03030303  3.13131313  3.23232323  3.33333333  3.43434343  3.53535354\n",
            "  3.63636364  3.73737374  3.83838384  3.93939394  4.04040404  4.14141414\n",
            "  4.24242424  4.34343434  4.44444444  4.54545455  4.64646465  4.74747475\n",
            "  4.84848485  4.94949495  5.05050505  5.15151515  5.25252525  5.35353535\n",
            "  5.45454545  5.55555556  5.65656566  5.75757576  5.85858586  5.95959596\n",
            "  6.06060606  6.16161616  6.26262626  6.36363636  6.46464646  6.56565657\n",
            "  6.66666667  6.76767677  6.86868687  6.96969697  7.07070707  7.17171717\n",
            "  7.27272727  7.37373737  7.47474747  7.57575758  7.67676768  7.77777778\n",
            "  7.87878788  7.97979798  8.08080808  8.18181818  8.28282828  8.38383838\n",
            "  8.48484848  8.58585859  8.68686869  8.78787879  8.88888889  8.98989899\n",
            "  9.09090909  9.19191919  9.29292929  9.39393939  9.49494949  9.5959596\n",
            "  9.6969697   9.7979798   9.8989899  10.        ]\n",
            "100 ys= [  5.           6.01010101   7.02020202   8.03030303   9.04040404\n",
            "  10.05050505  11.06060606  12.07070707  13.08080808  14.09090909\n",
            "  15.1010101   16.11111111  17.12121212  18.13131313  19.14141414\n",
            "  20.15151515  21.16161616  22.17171717  23.18181818  24.19191919\n",
            "  25.2020202   26.21212121  27.22222222  28.23232323  29.24242424\n",
            "  30.25252525  31.26262626  32.27272727  33.28282828  34.29292929\n",
            "  35.3030303   36.31313131  37.32323232  38.33333333  39.34343434\n",
            "  40.35353535  41.36363636  42.37373737  43.38383838  44.39393939\n",
            "  45.4040404   46.41414141  47.42424242  48.43434343  49.44444444\n",
            "  50.45454545  51.46464646  52.47474747  53.48484848  54.49494949\n",
            "  55.50505051  56.51515152  57.52525253  58.53535354  59.54545455\n",
            "  60.55555556  61.56565657  62.57575758  63.58585859  64.5959596\n",
            "  65.60606061  66.61616162  67.62626263  68.63636364  69.64646465\n",
            "  70.65656566  71.66666667  72.67676768  73.68686869  74.6969697\n",
            "  75.70707071  76.71717172  77.72727273  78.73737374  79.74747475\n",
            "  80.75757576  81.76767677  82.77777778  83.78787879  84.7979798\n",
            "  85.80808081  86.81818182  87.82828283  88.83838384  89.84848485\n",
            "  90.85858586  91.86868687  92.87878788  93.88888889  94.8989899\n",
            "  95.90909091  96.91919192  97.92929293  98.93939394  99.94949495\n",
            " 100.95959596 101.96969697 102.97979798 103.98989899 105.        ]\n"
          ]
        }
      ],
      "source": [
        "xs = np.linspace(0,10,100)  # gera 100 valores no intervalo [0.10]\n",
        "ys = f1(xs)                 # computa o valor de f1 nestes 100 valores\n",
        "print(len(xs), \"xs=\", xs)\n",
        "print(len(ys), \"ys=\", ys)"
      ]
    },
    {
      "cell_type": "code",
      "execution_count": null,
      "metadata": {
        "scrolled": true,
        "id": "0FPmfqsRJxSp",
        "outputId": "8b7300ea-91ab-4b81-bb3e-64e2cb96e8af",
        "colab": {
          "base_uri": "https://localhost:8080/"
        }
      },
      "outputs": [
        {
          "output_type": "stream",
          "name": "stdout",
          "text": [
            "Epoch 1/300\n",
            "\u001b[1m4/4\u001b[0m \u001b[32m━━━━━━━━━━━━━━━━━━━━\u001b[0m\u001b[37m\u001b[0m \u001b[1m0s\u001b[0m 3ms/step - loss: 1794.4802  \n",
            "Epoch 2/300\n",
            "\u001b[1m4/4\u001b[0m \u001b[32m━━━━━━━━━━━━━━━━━━━━\u001b[0m\u001b[37m\u001b[0m \u001b[1m0s\u001b[0m 3ms/step - loss: 3.4740 \n",
            "Epoch 3/300\n",
            "\u001b[1m4/4\u001b[0m \u001b[32m━━━━━━━━━━━━━━━━━━━━\u001b[0m\u001b[37m\u001b[0m \u001b[1m0s\u001b[0m 3ms/step - loss: 3.1158 \n",
            "Epoch 4/300\n",
            "\u001b[1m4/4\u001b[0m \u001b[32m━━━━━━━━━━━━━━━━━━━━\u001b[0m\u001b[37m\u001b[0m \u001b[1m0s\u001b[0m 3ms/step - loss: 3.2271 \n",
            "Epoch 5/300\n",
            "\u001b[1m4/4\u001b[0m \u001b[32m━━━━━━━━━━━━━━━━━━━━\u001b[0m\u001b[37m\u001b[0m \u001b[1m0s\u001b[0m 3ms/step - loss: 3.0402 \n",
            "Epoch 6/300\n",
            "\u001b[1m4/4\u001b[0m \u001b[32m━━━━━━━━━━━━━━━━━━━━\u001b[0m\u001b[37m\u001b[0m \u001b[1m0s\u001b[0m 3ms/step - loss: 2.6375 \n",
            "Epoch 7/300\n",
            "\u001b[1m4/4\u001b[0m \u001b[32m━━━━━━━━━━━━━━━━━━━━\u001b[0m\u001b[37m\u001b[0m \u001b[1m0s\u001b[0m 3ms/step - loss: 2.4472 \n",
            "Epoch 8/300\n",
            "\u001b[1m4/4\u001b[0m \u001b[32m━━━━━━━━━━━━━━━━━━━━\u001b[0m\u001b[37m\u001b[0m \u001b[1m0s\u001b[0m 3ms/step - loss: 2.8051 \n",
            "Epoch 9/300\n",
            "\u001b[1m4/4\u001b[0m \u001b[32m━━━━━━━━━━━━━━━━━━━━\u001b[0m\u001b[37m\u001b[0m \u001b[1m0s\u001b[0m 3ms/step - loss: 2.5629 \n",
            "Epoch 10/300\n",
            "\u001b[1m4/4\u001b[0m \u001b[32m━━━━━━━━━━━━━━━━━━━━\u001b[0m\u001b[37m\u001b[0m \u001b[1m0s\u001b[0m 3ms/step - loss: 2.3338 \n",
            "Epoch 11/300\n",
            "\u001b[1m4/4\u001b[0m \u001b[32m━━━━━━━━━━━━━━━━━━━━\u001b[0m\u001b[37m\u001b[0m \u001b[1m0s\u001b[0m 3ms/step - loss: 2.2877 \n",
            "Epoch 12/300\n",
            "\u001b[1m4/4\u001b[0m \u001b[32m━━━━━━━━━━━━━━━━━━━━\u001b[0m\u001b[37m\u001b[0m \u001b[1m0s\u001b[0m 3ms/step - loss: 2.0459 \n",
            "Epoch 13/300\n",
            "\u001b[1m4/4\u001b[0m \u001b[32m━━━━━━━━━━━━━━━━━━━━\u001b[0m\u001b[37m\u001b[0m \u001b[1m0s\u001b[0m 4ms/step - loss: 2.0065 \n",
            "Epoch 14/300\n",
            "\u001b[1m4/4\u001b[0m \u001b[32m━━━━━━━━━━━━━━━━━━━━\u001b[0m\u001b[37m\u001b[0m \u001b[1m0s\u001b[0m 3ms/step - loss: 2.0322 \n",
            "Epoch 15/300\n",
            "\u001b[1m4/4\u001b[0m \u001b[32m━━━━━━━━━━━━━━━━━━━━\u001b[0m\u001b[37m\u001b[0m \u001b[1m0s\u001b[0m 3ms/step - loss: 1.8616 \n",
            "Epoch 16/300\n",
            "\u001b[1m4/4\u001b[0m \u001b[32m━━━━━━━━━━━━━━━━━━━━\u001b[0m\u001b[37m\u001b[0m \u001b[1m0s\u001b[0m 4ms/step - loss: 1.9864 \n",
            "Epoch 17/300\n",
            "\u001b[1m4/4\u001b[0m \u001b[32m━━━━━━━━━━━━━━━━━━━━\u001b[0m\u001b[37m\u001b[0m \u001b[1m0s\u001b[0m 5ms/step - loss: 2.0366 \n",
            "Epoch 18/300\n",
            "\u001b[1m4/4\u001b[0m \u001b[32m━━━━━━━━━━━━━━━━━━━━\u001b[0m\u001b[37m\u001b[0m \u001b[1m0s\u001b[0m 3ms/step - loss: 1.6827 \n",
            "Epoch 19/300\n",
            "\u001b[1m4/4\u001b[0m \u001b[32m━━━━━━━━━━━━━━━━━━━━\u001b[0m\u001b[37m\u001b[0m \u001b[1m0s\u001b[0m 3ms/step - loss: 1.6804 \n",
            "Epoch 20/300\n",
            "\u001b[1m4/4\u001b[0m \u001b[32m━━━━━━━━━━━━━━━━━━━━\u001b[0m\u001b[37m\u001b[0m \u001b[1m0s\u001b[0m 3ms/step - loss: 1.5659 \n",
            "Epoch 21/300\n",
            "\u001b[1m4/4\u001b[0m \u001b[32m━━━━━━━━━━━━━━━━━━━━\u001b[0m\u001b[37m\u001b[0m \u001b[1m0s\u001b[0m 3ms/step - loss: 1.6064 \n",
            "Epoch 22/300\n",
            "\u001b[1m4/4\u001b[0m \u001b[32m━━━━━━━━━━━━━━━━━━━━\u001b[0m\u001b[37m\u001b[0m \u001b[1m0s\u001b[0m 3ms/step - loss: 1.4026 \n",
            "Epoch 23/300\n",
            "\u001b[1m4/4\u001b[0m \u001b[32m━━━━━━━━━━━━━━━━━━━━\u001b[0m\u001b[37m\u001b[0m \u001b[1m0s\u001b[0m 3ms/step - loss: 1.4200 \n",
            "Epoch 24/300\n",
            "\u001b[1m4/4\u001b[0m \u001b[32m━━━━━━━━━━━━━━━━━━━━\u001b[0m\u001b[37m\u001b[0m \u001b[1m0s\u001b[0m 3ms/step - loss: 1.3035 \n",
            "Epoch 25/300\n",
            "\u001b[1m4/4\u001b[0m \u001b[32m━━━━━━━━━━━━━━━━━━━━\u001b[0m\u001b[37m\u001b[0m \u001b[1m0s\u001b[0m 3ms/step - loss: 1.2427 \n",
            "Epoch 26/300\n",
            "\u001b[1m4/4\u001b[0m \u001b[32m━━━━━━━━━━━━━━━━━━━━\u001b[0m\u001b[37m\u001b[0m \u001b[1m0s\u001b[0m 3ms/step - loss: 1.2571 \n",
            "Epoch 27/300\n",
            "\u001b[1m4/4\u001b[0m \u001b[32m━━━━━━━━━━━━━━━━━━━━\u001b[0m\u001b[37m\u001b[0m \u001b[1m0s\u001b[0m 3ms/step - loss: 1.2324 \n",
            "Epoch 28/300\n",
            "\u001b[1m4/4\u001b[0m \u001b[32m━━━━━━━━━━━━━━━━━━━━\u001b[0m\u001b[37m\u001b[0m \u001b[1m0s\u001b[0m 3ms/step - loss: 1.1016 \n",
            "Epoch 29/300\n",
            "\u001b[1m4/4\u001b[0m \u001b[32m━━━━━━━━━━━━━━━━━━━━\u001b[0m\u001b[37m\u001b[0m \u001b[1m0s\u001b[0m 3ms/step - loss: 1.1836 \n",
            "Epoch 30/300\n",
            "\u001b[1m4/4\u001b[0m \u001b[32m━━━━━━━━━━━━━━━━━━━━\u001b[0m\u001b[37m\u001b[0m \u001b[1m0s\u001b[0m 3ms/step - loss: 1.0837 \n",
            "Epoch 31/300\n",
            "\u001b[1m4/4\u001b[0m \u001b[32m━━━━━━━━━━━━━━━━━━━━\u001b[0m\u001b[37m\u001b[0m \u001b[1m0s\u001b[0m 4ms/step - loss: 1.0385 \n",
            "Epoch 32/300\n",
            "\u001b[1m4/4\u001b[0m \u001b[32m━━━━━━━━━━━━━━━━━━━━\u001b[0m\u001b[37m\u001b[0m \u001b[1m0s\u001b[0m 3ms/step - loss: 0.9866 \n",
            "Epoch 33/300\n",
            "\u001b[1m4/4\u001b[0m \u001b[32m━━━━━━━━━━━━━━━━━━━━\u001b[0m\u001b[37m\u001b[0m \u001b[1m0s\u001b[0m 3ms/step - loss: 0.9698 \n",
            "Epoch 34/300\n",
            "\u001b[1m4/4\u001b[0m \u001b[32m━━━━━━━━━━━━━━━━━━━━\u001b[0m\u001b[37m\u001b[0m \u001b[1m0s\u001b[0m 3ms/step - loss: 0.8340 \n",
            "Epoch 35/300\n",
            "\u001b[1m4/4\u001b[0m \u001b[32m━━━━━━━━━━━━━━━━━━━━\u001b[0m\u001b[37m\u001b[0m \u001b[1m0s\u001b[0m 3ms/step - loss: 0.8660 \n",
            "Epoch 36/300\n",
            "\u001b[1m4/4\u001b[0m \u001b[32m━━━━━━━━━━━━━━━━━━━━\u001b[0m\u001b[37m\u001b[0m \u001b[1m0s\u001b[0m 3ms/step - loss: 0.8625 \n",
            "Epoch 37/300\n",
            "\u001b[1m4/4\u001b[0m \u001b[32m━━━━━━━━━━━━━━━━━━━━\u001b[0m\u001b[37m\u001b[0m \u001b[1m0s\u001b[0m 4ms/step - loss: 0.8132 \n",
            "Epoch 38/300\n",
            "\u001b[1m4/4\u001b[0m \u001b[32m━━━━━━━━━━━━━━━━━━━━\u001b[0m\u001b[37m\u001b[0m \u001b[1m0s\u001b[0m 3ms/step - loss: 0.8274 \n",
            "Epoch 39/300\n",
            "\u001b[1m4/4\u001b[0m \u001b[32m━━━━━━━━━━━━━━━━━━━━\u001b[0m\u001b[37m\u001b[0m \u001b[1m0s\u001b[0m 3ms/step - loss: 0.7669 \n",
            "Epoch 40/300\n",
            "\u001b[1m4/4\u001b[0m \u001b[32m━━━━━━━━━━━━━━━━━━━━\u001b[0m\u001b[37m\u001b[0m \u001b[1m0s\u001b[0m 3ms/step - loss: 0.7925 \n",
            "Epoch 41/300\n",
            "\u001b[1m4/4\u001b[0m \u001b[32m━━━━━━━━━━━━━━━━━━━━\u001b[0m\u001b[37m\u001b[0m \u001b[1m0s\u001b[0m 3ms/step - loss: 0.7806 \n",
            "Epoch 42/300\n",
            "\u001b[1m4/4\u001b[0m \u001b[32m━━━━━━━━━━━━━━━━━━━━\u001b[0m\u001b[37m\u001b[0m \u001b[1m0s\u001b[0m 3ms/step - loss: 0.6238 \n",
            "Epoch 43/300\n",
            "\u001b[1m4/4\u001b[0m \u001b[32m━━━━━━━━━━━━━━━━━━━━\u001b[0m\u001b[37m\u001b[0m \u001b[1m0s\u001b[0m 3ms/step - loss: 0.6473 \n",
            "Epoch 44/300\n",
            "\u001b[1m4/4\u001b[0m \u001b[32m━━━━━━━━━━━━━━━━━━━━\u001b[0m\u001b[37m\u001b[0m \u001b[1m0s\u001b[0m 3ms/step - loss: 0.6063 \n",
            "Epoch 45/300\n",
            "\u001b[1m4/4\u001b[0m \u001b[32m━━━━━━━━━━━━━━━━━━━━\u001b[0m\u001b[37m\u001b[0m \u001b[1m0s\u001b[0m 3ms/step - loss: 0.6116 \n",
            "Epoch 46/300\n",
            "\u001b[1m4/4\u001b[0m \u001b[32m━━━━━━━━━━━━━━━━━━━━\u001b[0m\u001b[37m\u001b[0m \u001b[1m0s\u001b[0m 3ms/step - loss: 0.5688 \n",
            "Epoch 47/300\n",
            "\u001b[1m4/4\u001b[0m \u001b[32m━━━━━━━━━━━━━━━━━━━━\u001b[0m\u001b[37m\u001b[0m \u001b[1m0s\u001b[0m 3ms/step - loss: 0.5671 \n",
            "Epoch 48/300\n",
            "\u001b[1m4/4\u001b[0m \u001b[32m━━━━━━━━━━━━━━━━━━━━\u001b[0m\u001b[37m\u001b[0m \u001b[1m0s\u001b[0m 3ms/step - loss: 0.5351 \n",
            "Epoch 49/300\n",
            "\u001b[1m4/4\u001b[0m \u001b[32m━━━━━━━━━━━━━━━━━━━━\u001b[0m\u001b[37m\u001b[0m \u001b[1m0s\u001b[0m 3ms/step - loss: 0.4953 \n",
            "Epoch 50/300\n",
            "\u001b[1m4/4\u001b[0m \u001b[32m━━━━━━━━━━━━━━━━━━━━\u001b[0m\u001b[37m\u001b[0m \u001b[1m0s\u001b[0m 3ms/step - loss: 0.4941 \n",
            "Epoch 51/300\n",
            "\u001b[1m4/4\u001b[0m \u001b[32m━━━━━━━━━━━━━━━━━━━━\u001b[0m\u001b[37m\u001b[0m \u001b[1m0s\u001b[0m 3ms/step - loss: 0.4924 \n",
            "Epoch 52/300\n",
            "\u001b[1m4/4\u001b[0m \u001b[32m━━━━━━━━━━━━━━━━━━━━\u001b[0m\u001b[37m\u001b[0m \u001b[1m0s\u001b[0m 3ms/step - loss: 0.4590 \n",
            "Epoch 53/300\n",
            "\u001b[1m4/4\u001b[0m \u001b[32m━━━━━━━━━━━━━━━━━━━━\u001b[0m\u001b[37m\u001b[0m \u001b[1m0s\u001b[0m 3ms/step - loss: 0.4223 \n",
            "Epoch 54/300\n",
            "\u001b[1m4/4\u001b[0m \u001b[32m━━━━━━━━━━━━━━━━━━━━\u001b[0m\u001b[37m\u001b[0m \u001b[1m0s\u001b[0m 3ms/step - loss: 0.4664 \n",
            "Epoch 55/300\n",
            "\u001b[1m4/4\u001b[0m \u001b[32m━━━━━━━━━━━━━━━━━━━━\u001b[0m\u001b[37m\u001b[0m \u001b[1m0s\u001b[0m 3ms/step - loss: 0.3842 \n",
            "Epoch 56/300\n",
            "\u001b[1m4/4\u001b[0m \u001b[32m━━━━━━━━━━━━━━━━━━━━\u001b[0m\u001b[37m\u001b[0m \u001b[1m0s\u001b[0m 3ms/step - loss: 0.3833 \n",
            "Epoch 57/300\n",
            "\u001b[1m4/4\u001b[0m \u001b[32m━━━━━━━━━━━━━━━━━━━━\u001b[0m\u001b[37m\u001b[0m \u001b[1m0s\u001b[0m 3ms/step - loss: 0.3780 \n",
            "Epoch 58/300\n",
            "\u001b[1m4/4\u001b[0m \u001b[32m━━━━━━━━━━━━━━━━━━━━\u001b[0m\u001b[37m\u001b[0m \u001b[1m0s\u001b[0m 3ms/step - loss: 0.3494 \n",
            "Epoch 59/300\n",
            "\u001b[1m4/4\u001b[0m \u001b[32m━━━━━━━━━━━━━━━━━━━━\u001b[0m\u001b[37m\u001b[0m \u001b[1m0s\u001b[0m 4ms/step - loss: 0.3354 \n",
            "Epoch 60/300\n",
            "\u001b[1m4/4\u001b[0m \u001b[32m━━━━━━━━━━━━━━━━━━━━\u001b[0m\u001b[37m\u001b[0m \u001b[1m0s\u001b[0m 3ms/step - loss: 0.3376 \n",
            "Epoch 61/300\n",
            "\u001b[1m4/4\u001b[0m \u001b[32m━━━━━━━━━━━━━━━━━━━━\u001b[0m\u001b[37m\u001b[0m \u001b[1m0s\u001b[0m 3ms/step - loss: 0.3005 \n",
            "Epoch 62/300\n",
            "\u001b[1m4/4\u001b[0m \u001b[32m━━━━━━━━━━━━━━━━━━━━\u001b[0m\u001b[37m\u001b[0m \u001b[1m0s\u001b[0m 3ms/step - loss: 0.2841 \n",
            "Epoch 63/300\n",
            "\u001b[1m4/4\u001b[0m \u001b[32m━━━━━━━━━━━━━━━━━━━━\u001b[0m\u001b[37m\u001b[0m \u001b[1m0s\u001b[0m 4ms/step - loss: 0.3060 \n",
            "Epoch 64/300\n",
            "\u001b[1m4/4\u001b[0m \u001b[32m━━━━━━━━━━━━━━━━━━━━\u001b[0m\u001b[37m\u001b[0m \u001b[1m0s\u001b[0m 3ms/step - loss: 0.2885 \n",
            "Epoch 65/300\n",
            "\u001b[1m4/4\u001b[0m \u001b[32m━━━━━━━━━━━━━━━━━━━━\u001b[0m\u001b[37m\u001b[0m \u001b[1m0s\u001b[0m 3ms/step - loss: 0.2968 \n",
            "Epoch 66/300\n",
            "\u001b[1m4/4\u001b[0m \u001b[32m━━━━━━━━━━━━━━━━━━━━\u001b[0m\u001b[37m\u001b[0m \u001b[1m0s\u001b[0m 3ms/step - loss: 0.2753 \n",
            "Epoch 67/300\n",
            "\u001b[1m4/4\u001b[0m \u001b[32m━━━━━━━━━━━━━━━━━━━━\u001b[0m\u001b[37m\u001b[0m \u001b[1m0s\u001b[0m 3ms/step - loss: 0.2571 \n",
            "Epoch 68/300\n",
            "\u001b[1m4/4\u001b[0m \u001b[32m━━━━━━━━━━━━━━━━━━━━\u001b[0m\u001b[37m\u001b[0m \u001b[1m0s\u001b[0m 3ms/step - loss: 0.2504 \n",
            "Epoch 69/300\n",
            "\u001b[1m4/4\u001b[0m \u001b[32m━━━━━━━━━━━━━━━━━━━━\u001b[0m\u001b[37m\u001b[0m \u001b[1m0s\u001b[0m 4ms/step - loss: 0.2374 \n",
            "Epoch 70/300\n",
            "\u001b[1m4/4\u001b[0m \u001b[32m━━━━━━━━━━━━━━━━━━━━\u001b[0m\u001b[37m\u001b[0m \u001b[1m0s\u001b[0m 4ms/step - loss: 0.2413 \n",
            "Epoch 71/300\n",
            "\u001b[1m4/4\u001b[0m \u001b[32m━━━━━━━━━━━━━━━━━━━━\u001b[0m\u001b[37m\u001b[0m \u001b[1m0s\u001b[0m 6ms/step - loss: 0.2044 \n",
            "Epoch 72/300\n",
            "\u001b[1m4/4\u001b[0m \u001b[32m━━━━━━━━━━━━━━━━━━━━\u001b[0m\u001b[37m\u001b[0m \u001b[1m0s\u001b[0m 4ms/step - loss: 0.1815 \n",
            "Epoch 73/300\n",
            "\u001b[1m4/4\u001b[0m \u001b[32m━━━━━━━━━━━━━━━━━━━━\u001b[0m\u001b[37m\u001b[0m \u001b[1m0s\u001b[0m 4ms/step - loss: 0.2021 \n",
            "Epoch 74/300\n",
            "\u001b[1m4/4\u001b[0m \u001b[32m━━━━━━━━━━━━━━━━━━━━\u001b[0m\u001b[37m\u001b[0m \u001b[1m0s\u001b[0m 4ms/step - loss: 0.1968 \n",
            "Epoch 75/300\n",
            "\u001b[1m4/4\u001b[0m \u001b[32m━━━━━━━━━━━━━━━━━━━━\u001b[0m\u001b[37m\u001b[0m \u001b[1m0s\u001b[0m 3ms/step - loss: 0.1973 \n",
            "Epoch 76/300\n",
            "\u001b[1m4/4\u001b[0m \u001b[32m━━━━━━━━━━━━━━━━━━━━\u001b[0m\u001b[37m\u001b[0m \u001b[1m0s\u001b[0m 3ms/step - loss: 0.1780 \n",
            "Epoch 77/300\n",
            "\u001b[1m4/4\u001b[0m \u001b[32m━━━━━━━━━━━━━━━━━━━━\u001b[0m\u001b[37m\u001b[0m \u001b[1m0s\u001b[0m 3ms/step - loss: 0.1727 \n",
            "Epoch 78/300\n",
            "\u001b[1m4/4\u001b[0m \u001b[32m━━━━━━━━━━━━━━━━━━━━\u001b[0m\u001b[37m\u001b[0m \u001b[1m0s\u001b[0m 3ms/step - loss: 0.1543 \n",
            "Epoch 79/300\n",
            "\u001b[1m4/4\u001b[0m \u001b[32m━━━━━━━━━━━━━━━━━━━━\u001b[0m\u001b[37m\u001b[0m \u001b[1m0s\u001b[0m 3ms/step - loss: 0.1513 \n",
            "Epoch 80/300\n",
            "\u001b[1m4/4\u001b[0m \u001b[32m━━━━━━━━━━━━━━━━━━━━\u001b[0m\u001b[37m\u001b[0m \u001b[1m0s\u001b[0m 3ms/step - loss: 0.1449 \n",
            "Epoch 81/300\n",
            "\u001b[1m4/4\u001b[0m \u001b[32m━━━━━━━━━━━━━━━━━━━━\u001b[0m\u001b[37m\u001b[0m \u001b[1m0s\u001b[0m 3ms/step - loss: 0.1519 \n",
            "Epoch 82/300\n",
            "\u001b[1m4/4\u001b[0m \u001b[32m━━━━━━━━━━━━━━━━━━━━\u001b[0m\u001b[37m\u001b[0m \u001b[1m0s\u001b[0m 3ms/step - loss: 0.1381 \n",
            "Epoch 83/300\n",
            "\u001b[1m4/4\u001b[0m \u001b[32m━━━━━━━━━━━━━━━━━━━━\u001b[0m\u001b[37m\u001b[0m \u001b[1m0s\u001b[0m 4ms/step - loss: 0.1287 \n",
            "Epoch 84/300\n",
            "\u001b[1m4/4\u001b[0m \u001b[32m━━━━━━━━━━━━━━━━━━━━\u001b[0m\u001b[37m\u001b[0m \u001b[1m0s\u001b[0m 3ms/step - loss: 0.1106 \n",
            "Epoch 85/300\n",
            "\u001b[1m4/4\u001b[0m \u001b[32m━━━━━━━━━━━━━━━━━━━━\u001b[0m\u001b[37m\u001b[0m \u001b[1m0s\u001b[0m 3ms/step - loss: 0.1254 \n",
            "Epoch 86/300\n",
            "\u001b[1m4/4\u001b[0m \u001b[32m━━━━━━━━━━━━━━━━━━━━\u001b[0m\u001b[37m\u001b[0m \u001b[1m0s\u001b[0m 3ms/step - loss: 0.1175 \n",
            "Epoch 87/300\n",
            "\u001b[1m4/4\u001b[0m \u001b[32m━━━━━━━━━━━━━━━━━━━━\u001b[0m\u001b[37m\u001b[0m \u001b[1m0s\u001b[0m 3ms/step - loss: 0.1099 \n",
            "Epoch 88/300\n",
            "\u001b[1m4/4\u001b[0m \u001b[32m━━━━━━━━━━━━━━━━━━━━\u001b[0m\u001b[37m\u001b[0m \u001b[1m0s\u001b[0m 3ms/step - loss: 0.1051 \n",
            "Epoch 89/300\n",
            "\u001b[1m4/4\u001b[0m \u001b[32m━━━━━━━━━━━━━━━━━━━━\u001b[0m\u001b[37m\u001b[0m \u001b[1m0s\u001b[0m 3ms/step - loss: 0.1017 \n",
            "Epoch 90/300\n",
            "\u001b[1m4/4\u001b[0m \u001b[32m━━━━━━━━━━━━━━━━━━━━\u001b[0m\u001b[37m\u001b[0m \u001b[1m0s\u001b[0m 4ms/step - loss: 0.0913 \n",
            "Epoch 91/300\n",
            "\u001b[1m4/4\u001b[0m \u001b[32m━━━━━━━━━━━━━━━━━━━━\u001b[0m\u001b[37m\u001b[0m \u001b[1m0s\u001b[0m 3ms/step - loss: 0.0969 \n",
            "Epoch 92/300\n",
            "\u001b[1m4/4\u001b[0m \u001b[32m━━━━━━━━━━━━━━━━━━━━\u001b[0m\u001b[37m\u001b[0m \u001b[1m0s\u001b[0m 3ms/step - loss: 0.0991 \n",
            "Epoch 93/300\n",
            "\u001b[1m4/4\u001b[0m \u001b[32m━━━━━━━━━━━━━━━━━━━━\u001b[0m\u001b[37m\u001b[0m \u001b[1m0s\u001b[0m 3ms/step - loss: 0.0823 \n",
            "Epoch 94/300\n",
            "\u001b[1m4/4\u001b[0m \u001b[32m━━━━━━━━━━━━━━━━━━━━\u001b[0m\u001b[37m\u001b[0m \u001b[1m0s\u001b[0m 5ms/step - loss: 0.0868 \n",
            "Epoch 95/300\n",
            "\u001b[1m4/4\u001b[0m \u001b[32m━━━━━━━━━━━━━━━━━━━━\u001b[0m\u001b[37m\u001b[0m \u001b[1m0s\u001b[0m 3ms/step - loss: 0.0863 \n",
            "Epoch 96/300\n",
            "\u001b[1m4/4\u001b[0m \u001b[32m━━━━━━━━━━━━━━━━━━━━\u001b[0m\u001b[37m\u001b[0m \u001b[1m0s\u001b[0m 3ms/step - loss: 0.0740 \n",
            "Epoch 97/300\n",
            "\u001b[1m4/4\u001b[0m \u001b[32m━━━━━━━━━━━━━━━━━━━━\u001b[0m\u001b[37m\u001b[0m \u001b[1m0s\u001b[0m 3ms/step - loss: 0.0737 \n",
            "Epoch 98/300\n",
            "\u001b[1m4/4\u001b[0m \u001b[32m━━━━━━━━━━━━━━━━━━━━\u001b[0m\u001b[37m\u001b[0m \u001b[1m0s\u001b[0m 3ms/step - loss: 0.0755 \n",
            "Epoch 99/300\n",
            "\u001b[1m4/4\u001b[0m \u001b[32m━━━━━━━━━━━━━━━━━━━━\u001b[0m\u001b[37m\u001b[0m \u001b[1m0s\u001b[0m 4ms/step - loss: 0.0680 \n",
            "Epoch 100/300\n",
            "\u001b[1m4/4\u001b[0m \u001b[32m━━━━━━━━━━━━━━━━━━━━\u001b[0m\u001b[37m\u001b[0m \u001b[1m0s\u001b[0m 3ms/step - loss: 0.0727 \n",
            "Epoch 101/300\n",
            "\u001b[1m4/4\u001b[0m \u001b[32m━━━━━━━━━━━━━━━━━━━━\u001b[0m\u001b[37m\u001b[0m \u001b[1m0s\u001b[0m 3ms/step - loss: 0.0663 \n",
            "Epoch 102/300\n",
            "\u001b[1m4/4\u001b[0m \u001b[32m━━━━━━━━━━━━━━━━━━━━\u001b[0m\u001b[37m\u001b[0m \u001b[1m0s\u001b[0m 3ms/step - loss: 0.0606 \n",
            "Epoch 103/300\n",
            "\u001b[1m4/4\u001b[0m \u001b[32m━━━━━━━━━━━━━━━━━━━━\u001b[0m\u001b[37m\u001b[0m \u001b[1m0s\u001b[0m 3ms/step - loss: 0.0617 \n",
            "Epoch 104/300\n",
            "\u001b[1m4/4\u001b[0m \u001b[32m━━━━━━━━━━━━━━━━━━━━\u001b[0m\u001b[37m\u001b[0m \u001b[1m0s\u001b[0m 4ms/step - loss: 0.0675 \n",
            "Epoch 105/300\n",
            "\u001b[1m4/4\u001b[0m \u001b[32m━━━━━━━━━━━━━━━━━━━━\u001b[0m\u001b[37m\u001b[0m \u001b[1m0s\u001b[0m 3ms/step - loss: 0.0547 \n",
            "Epoch 106/300\n",
            "\u001b[1m4/4\u001b[0m \u001b[32m━━━━━━━━━━━━━━━━━━━━\u001b[0m\u001b[37m\u001b[0m \u001b[1m0s\u001b[0m 3ms/step - loss: 0.0558 \n",
            "Epoch 107/300\n",
            "\u001b[1m4/4\u001b[0m \u001b[32m━━━━━━━━━━━━━━━━━━━━\u001b[0m\u001b[37m\u001b[0m \u001b[1m0s\u001b[0m 3ms/step - loss: 0.0464 \n",
            "Epoch 108/300\n",
            "\u001b[1m4/4\u001b[0m \u001b[32m━━━━━━━━━━━━━━━━━━━━\u001b[0m\u001b[37m\u001b[0m \u001b[1m0s\u001b[0m 4ms/step - loss: 0.0479 \n",
            "Epoch 109/300\n",
            "\u001b[1m4/4\u001b[0m \u001b[32m━━━━━━━━━━━━━━━━━━━━\u001b[0m\u001b[37m\u001b[0m \u001b[1m0s\u001b[0m 3ms/step - loss: 0.0449 \n",
            "Epoch 110/300\n",
            "\u001b[1m4/4\u001b[0m \u001b[32m━━━━━━━━━━━━━━━━━━━━\u001b[0m\u001b[37m\u001b[0m \u001b[1m0s\u001b[0m 3ms/step - loss: 0.0421 \n",
            "Epoch 111/300\n",
            "\u001b[1m4/4\u001b[0m \u001b[32m━━━━━━━━━━━━━━━━━━━━\u001b[0m\u001b[37m\u001b[0m \u001b[1m0s\u001b[0m 3ms/step - loss: 0.0443 \n",
            "Epoch 112/300\n",
            "\u001b[1m4/4\u001b[0m \u001b[32m━━━━━━━━━━━━━━━━━━━━\u001b[0m\u001b[37m\u001b[0m \u001b[1m0s\u001b[0m 3ms/step - loss: 0.0421 \n",
            "Epoch 113/300\n",
            "\u001b[1m4/4\u001b[0m \u001b[32m━━━━━━━━━━━━━━━━━━━━\u001b[0m\u001b[37m\u001b[0m \u001b[1m0s\u001b[0m 3ms/step - loss: 0.0375 \n",
            "Epoch 114/300\n",
            "\u001b[1m4/4\u001b[0m \u001b[32m━━━━━━━━━━━━━━━━━━━━\u001b[0m\u001b[37m\u001b[0m \u001b[1m0s\u001b[0m 4ms/step - loss: 0.0395 \n",
            "Epoch 115/300\n",
            "\u001b[1m4/4\u001b[0m \u001b[32m━━━━━━━━━━━━━━━━━━━━\u001b[0m\u001b[37m\u001b[0m \u001b[1m0s\u001b[0m 3ms/step - loss: 0.0389 \n",
            "Epoch 116/300\n",
            "\u001b[1m4/4\u001b[0m \u001b[32m━━━━━━━━━━━━━━━━━━━━\u001b[0m\u001b[37m\u001b[0m \u001b[1m0s\u001b[0m 3ms/step - loss: 0.0348 \n",
            "Epoch 117/300\n",
            "\u001b[1m4/4\u001b[0m \u001b[32m━━━━━━━━━━━━━━━━━━━━\u001b[0m\u001b[37m\u001b[0m \u001b[1m0s\u001b[0m 2ms/step - loss: 0.0345 \n",
            "Epoch 118/300\n",
            "\u001b[1m4/4\u001b[0m \u001b[32m━━━━━━━━━━━━━━━━━━━━\u001b[0m\u001b[37m\u001b[0m \u001b[1m0s\u001b[0m 3ms/step - loss: 0.0347 \n",
            "Epoch 119/300\n",
            "\u001b[1m4/4\u001b[0m \u001b[32m━━━━━━━━━━━━━━━━━━━━\u001b[0m\u001b[37m\u001b[0m \u001b[1m0s\u001b[0m 3ms/step - loss: 0.0324 \n",
            "Epoch 120/300\n",
            "\u001b[1m4/4\u001b[0m \u001b[32m━━━━━━━━━━━━━━━━━━━━\u001b[0m\u001b[37m\u001b[0m \u001b[1m0s\u001b[0m 3ms/step - loss: 0.0316 \n",
            "Epoch 121/300\n",
            "\u001b[1m4/4\u001b[0m \u001b[32m━━━━━━━━━━━━━━━━━━━━\u001b[0m\u001b[37m\u001b[0m \u001b[1m0s\u001b[0m 3ms/step - loss: 0.0303 \n",
            "Epoch 122/300\n",
            "\u001b[1m4/4\u001b[0m \u001b[32m━━━━━━━━━━━━━━━━━━━━\u001b[0m\u001b[37m\u001b[0m \u001b[1m0s\u001b[0m 3ms/step - loss: 0.0291 \n",
            "Epoch 123/300\n",
            "\u001b[1m4/4\u001b[0m \u001b[32m━━━━━━━━━━━━━━━━━━━━\u001b[0m\u001b[37m\u001b[0m \u001b[1m0s\u001b[0m 3ms/step - loss: 0.0276 \n",
            "Epoch 124/300\n",
            "\u001b[1m4/4\u001b[0m \u001b[32m━━━━━━━━━━━━━━━━━━━━\u001b[0m\u001b[37m\u001b[0m \u001b[1m0s\u001b[0m 3ms/step - loss: 0.0276 \n",
            "Epoch 125/300\n",
            "\u001b[1m4/4\u001b[0m \u001b[32m━━━━━━━━━━━━━━━━━━━━\u001b[0m\u001b[37m\u001b[0m \u001b[1m0s\u001b[0m 3ms/step - loss: 0.0252 \n",
            "Epoch 126/300\n",
            "\u001b[1m4/4\u001b[0m \u001b[32m━━━━━━━━━━━━━━━━━━━━\u001b[0m\u001b[37m\u001b[0m \u001b[1m0s\u001b[0m 3ms/step - loss: 0.0263 \n",
            "Epoch 127/300\n",
            "\u001b[1m4/4\u001b[0m \u001b[32m━━━━━━━━━━━━━━━━━━━━\u001b[0m\u001b[37m\u001b[0m \u001b[1m0s\u001b[0m 3ms/step - loss: 0.0238 \n",
            "Epoch 128/300\n",
            "\u001b[1m4/4\u001b[0m \u001b[32m━━━━━━━━━━━━━━━━━━━━\u001b[0m\u001b[37m\u001b[0m \u001b[1m0s\u001b[0m 3ms/step - loss: 0.0222 \n",
            "Epoch 129/300\n",
            "\u001b[1m4/4\u001b[0m \u001b[32m━━━━━━━━━━━━━━━━━━━━\u001b[0m\u001b[37m\u001b[0m \u001b[1m0s\u001b[0m 4ms/step - loss: 0.0214 \n",
            "Epoch 130/300\n",
            "\u001b[1m4/4\u001b[0m \u001b[32m━━━━━━━━━━━━━━━━━━━━\u001b[0m\u001b[37m\u001b[0m \u001b[1m0s\u001b[0m 3ms/step - loss: 0.0197 \n",
            "Epoch 131/300\n",
            "\u001b[1m4/4\u001b[0m \u001b[32m━━━━━━━━━━━━━━━━━━━━\u001b[0m\u001b[37m\u001b[0m \u001b[1m0s\u001b[0m 3ms/step - loss: 0.0201 \n",
            "Epoch 132/300\n",
            "\u001b[1m4/4\u001b[0m \u001b[32m━━━━━━━━━━━━━━━━━━━━\u001b[0m\u001b[37m\u001b[0m \u001b[1m0s\u001b[0m 4ms/step - loss: 0.0185 \n",
            "Epoch 133/300\n",
            "\u001b[1m4/4\u001b[0m \u001b[32m━━━━━━━━━━━━━━━━━━━━\u001b[0m\u001b[37m\u001b[0m \u001b[1m0s\u001b[0m 4ms/step - loss: 0.0175 \n",
            "Epoch 134/300\n",
            "\u001b[1m4/4\u001b[0m \u001b[32m━━━━━━━━━━━━━━━━━━━━\u001b[0m\u001b[37m\u001b[0m \u001b[1m0s\u001b[0m 3ms/step - loss: 0.0170 \n",
            "Epoch 135/300\n",
            "\u001b[1m4/4\u001b[0m \u001b[32m━━━━━━━━━━━━━━━━━━━━\u001b[0m\u001b[37m\u001b[0m \u001b[1m0s\u001b[0m 4ms/step - loss: 0.0173 \n",
            "Epoch 136/300\n",
            "\u001b[1m4/4\u001b[0m \u001b[32m━━━━━━━━━━━━━━━━━━━━\u001b[0m\u001b[37m\u001b[0m \u001b[1m0s\u001b[0m 3ms/step - loss: 0.0160 \n",
            "Epoch 137/300\n",
            "\u001b[1m4/4\u001b[0m \u001b[32m━━━━━━━━━━━━━━━━━━━━\u001b[0m\u001b[37m\u001b[0m \u001b[1m0s\u001b[0m 3ms/step - loss: 0.0145 \n",
            "Epoch 138/300\n",
            "\u001b[1m4/4\u001b[0m \u001b[32m━━━━━━━━━━━━━━━━━━━━\u001b[0m\u001b[37m\u001b[0m \u001b[1m0s\u001b[0m 3ms/step - loss: 0.0167 \n",
            "Epoch 139/300\n",
            "\u001b[1m4/4\u001b[0m \u001b[32m━━━━━━━━━━━━━━━━━━━━\u001b[0m\u001b[37m\u001b[0m \u001b[1m0s\u001b[0m 3ms/step - loss: 0.0143 \n",
            "Epoch 140/300\n",
            "\u001b[1m4/4\u001b[0m \u001b[32m━━━━━━━━━━━━━━━━━━━━\u001b[0m\u001b[37m\u001b[0m \u001b[1m0s\u001b[0m 3ms/step - loss: 0.0136 \n",
            "Epoch 141/300\n",
            "\u001b[1m4/4\u001b[0m \u001b[32m━━━━━━━━━━━━━━━━━━━━\u001b[0m\u001b[37m\u001b[0m \u001b[1m0s\u001b[0m 3ms/step - loss: 0.0142 \n",
            "Epoch 142/300\n",
            "\u001b[1m4/4\u001b[0m \u001b[32m━━━━━━━━━━━━━━━━━━━━\u001b[0m\u001b[37m\u001b[0m \u001b[1m0s\u001b[0m 3ms/step - loss: 0.0126 \n",
            "Epoch 143/300\n",
            "\u001b[1m4/4\u001b[0m \u001b[32m━━━━━━━━━━━━━━━━━━━━\u001b[0m\u001b[37m\u001b[0m \u001b[1m0s\u001b[0m 3ms/step - loss: 0.0114 \n",
            "Epoch 144/300\n",
            "\u001b[1m4/4\u001b[0m \u001b[32m━━━━━━━━━━━━━━━━━━━━\u001b[0m\u001b[37m\u001b[0m \u001b[1m0s\u001b[0m 3ms/step - loss: 0.0123 \n",
            "Epoch 145/300\n",
            "\u001b[1m4/4\u001b[0m \u001b[32m━━━━━━━━━━━━━━━━━━━━\u001b[0m\u001b[37m\u001b[0m \u001b[1m0s\u001b[0m 3ms/step - loss: 0.0114 \n",
            "Epoch 146/300\n",
            "\u001b[1m4/4\u001b[0m \u001b[32m━━━━━━━━━━━━━━━━━━━━\u001b[0m\u001b[37m\u001b[0m \u001b[1m0s\u001b[0m 3ms/step - loss: 0.0107 \n",
            "Epoch 147/300\n",
            "\u001b[1m4/4\u001b[0m \u001b[32m━━━━━━━━━━━━━━━━━━━━\u001b[0m\u001b[37m\u001b[0m \u001b[1m0s\u001b[0m 4ms/step - loss: 0.0112 \n",
            "Epoch 148/300\n",
            "\u001b[1m4/4\u001b[0m \u001b[32m━━━━━━━━━━━━━━━━━━━━\u001b[0m\u001b[37m\u001b[0m \u001b[1m0s\u001b[0m 4ms/step - loss: 0.0106 \n",
            "Epoch 149/300\n",
            "\u001b[1m4/4\u001b[0m \u001b[32m━━━━━━━━━━━━━━━━━━━━\u001b[0m\u001b[37m\u001b[0m \u001b[1m0s\u001b[0m 5ms/step - loss: 0.0092  \n",
            "Epoch 150/300\n",
            "\u001b[1m4/4\u001b[0m \u001b[32m━━━━━━━━━━━━━━━━━━━━\u001b[0m\u001b[37m\u001b[0m \u001b[1m0s\u001b[0m 4ms/step - loss: 0.0095  \n",
            "Epoch 151/300\n",
            "\u001b[1m4/4\u001b[0m \u001b[32m━━━━━━━━━━━━━━━━━━━━\u001b[0m\u001b[37m\u001b[0m \u001b[1m0s\u001b[0m 4ms/step - loss: 0.0093 \n",
            "Epoch 152/300\n",
            "\u001b[1m4/4\u001b[0m \u001b[32m━━━━━━━━━━━━━━━━━━━━\u001b[0m\u001b[37m\u001b[0m \u001b[1m0s\u001b[0m 4ms/step - loss: 0.0094 \n",
            "Epoch 153/300\n",
            "\u001b[1m4/4\u001b[0m \u001b[32m━━━━━━━━━━━━━━━━━━━━\u001b[0m\u001b[37m\u001b[0m \u001b[1m0s\u001b[0m 4ms/step - loss: 0.0086 \n",
            "Epoch 154/300\n",
            "\u001b[1m4/4\u001b[0m \u001b[32m━━━━━━━━━━━━━━━━━━━━\u001b[0m\u001b[37m\u001b[0m \u001b[1m0s\u001b[0m 3ms/step - loss: 0.0082 \n",
            "Epoch 155/300\n",
            "\u001b[1m4/4\u001b[0m \u001b[32m━━━━━━━━━━━━━━━━━━━━\u001b[0m\u001b[37m\u001b[0m \u001b[1m0s\u001b[0m 4ms/step - loss: 0.0081 \n",
            "Epoch 156/300\n",
            "\u001b[1m4/4\u001b[0m \u001b[32m━━━━━━━━━━━━━━━━━━━━\u001b[0m\u001b[37m\u001b[0m \u001b[1m0s\u001b[0m 3ms/step - loss: 0.0070 \n",
            "Epoch 157/300\n",
            "\u001b[1m4/4\u001b[0m \u001b[32m━━━━━━━━━━━━━━━━━━━━\u001b[0m\u001b[37m\u001b[0m \u001b[1m0s\u001b[0m 3ms/step - loss: 0.0076 \n",
            "Epoch 158/300\n",
            "\u001b[1m4/4\u001b[0m \u001b[32m━━━━━━━━━━━━━━━━━━━━\u001b[0m\u001b[37m\u001b[0m \u001b[1m0s\u001b[0m 3ms/step - loss: 0.0067 \n",
            "Epoch 159/300\n",
            "\u001b[1m4/4\u001b[0m \u001b[32m━━━━━━━━━━━━━━━━━━━━\u001b[0m\u001b[37m\u001b[0m \u001b[1m0s\u001b[0m 3ms/step - loss: 0.0070 \n",
            "Epoch 160/300\n",
            "\u001b[1m4/4\u001b[0m \u001b[32m━━━━━━━━━━━━━━━━━━━━\u001b[0m\u001b[37m\u001b[0m \u001b[1m0s\u001b[0m 4ms/step - loss: 0.0064 \n",
            "Epoch 161/300\n",
            "\u001b[1m4/4\u001b[0m \u001b[32m━━━━━━━━━━━━━━━━━━━━\u001b[0m\u001b[37m\u001b[0m \u001b[1m0s\u001b[0m 4ms/step - loss: 0.0064 \n",
            "Epoch 162/300\n",
            "\u001b[1m4/4\u001b[0m \u001b[32m━━━━━━━━━━━━━━━━━━━━\u001b[0m\u001b[37m\u001b[0m \u001b[1m0s\u001b[0m 4ms/step - loss: 0.0062 \n",
            "Epoch 163/300\n",
            "\u001b[1m4/4\u001b[0m \u001b[32m━━━━━━━━━━━━━━━━━━━━\u001b[0m\u001b[37m\u001b[0m \u001b[1m0s\u001b[0m 4ms/step - loss: 0.0065 \n",
            "Epoch 164/300\n",
            "\u001b[1m4/4\u001b[0m \u001b[32m━━━━━━━━━━━━━━━━━━━━\u001b[0m\u001b[37m\u001b[0m \u001b[1m0s\u001b[0m 5ms/step - loss: 0.0058  \n",
            "Epoch 165/300\n",
            "\u001b[1m4/4\u001b[0m \u001b[32m━━━━━━━━━━━━━━━━━━━━\u001b[0m\u001b[37m\u001b[0m \u001b[1m0s\u001b[0m 4ms/step - loss: 0.0051 \n",
            "Epoch 166/300\n",
            "\u001b[1m4/4\u001b[0m \u001b[32m━━━━━━━━━━━━━━━━━━━━\u001b[0m\u001b[37m\u001b[0m \u001b[1m0s\u001b[0m 5ms/step - loss: 0.0051 \n",
            "Epoch 167/300\n",
            "\u001b[1m4/4\u001b[0m \u001b[32m━━━━━━━━━━━━━━━━━━━━\u001b[0m\u001b[37m\u001b[0m \u001b[1m0s\u001b[0m 3ms/step - loss: 0.0047 \n",
            "Epoch 168/300\n",
            "\u001b[1m4/4\u001b[0m \u001b[32m━━━━━━━━━━━━━━━━━━━━\u001b[0m\u001b[37m\u001b[0m \u001b[1m0s\u001b[0m 4ms/step - loss: 0.0045 \n",
            "Epoch 169/300\n",
            "\u001b[1m4/4\u001b[0m \u001b[32m━━━━━━━━━━━━━━━━━━━━\u001b[0m\u001b[37m\u001b[0m \u001b[1m0s\u001b[0m 4ms/step - loss: 0.0041 \n",
            "Epoch 170/300\n",
            "\u001b[1m4/4\u001b[0m \u001b[32m━━━━━━━━━━━━━━━━━━━━\u001b[0m\u001b[37m\u001b[0m \u001b[1m0s\u001b[0m 3ms/step - loss: 0.0041 \n",
            "Epoch 171/300\n",
            "\u001b[1m4/4\u001b[0m \u001b[32m━━━━━━━━━━━━━━━━━━━━\u001b[0m\u001b[37m\u001b[0m \u001b[1m0s\u001b[0m 3ms/step - loss: 0.0042 \n",
            "Epoch 172/300\n",
            "\u001b[1m4/4\u001b[0m \u001b[32m━━━━━━━━━━━━━━━━━━━━\u001b[0m\u001b[37m\u001b[0m \u001b[1m0s\u001b[0m 4ms/step - loss: 0.0039 \n",
            "Epoch 173/300\n",
            "\u001b[1m4/4\u001b[0m \u001b[32m━━━━━━━━━━━━━━━━━━━━\u001b[0m\u001b[37m\u001b[0m \u001b[1m0s\u001b[0m 3ms/step - loss: 0.0037 \n",
            "Epoch 174/300\n",
            "\u001b[1m4/4\u001b[0m \u001b[32m━━━━━━━━━━━━━━━━━━━━\u001b[0m\u001b[37m\u001b[0m \u001b[1m0s\u001b[0m 4ms/step - loss: 0.0035 \n",
            "Epoch 175/300\n",
            "\u001b[1m4/4\u001b[0m \u001b[32m━━━━━━━━━━━━━━━━━━━━\u001b[0m\u001b[37m\u001b[0m \u001b[1m0s\u001b[0m 3ms/step - loss: 0.0034 \n",
            "Epoch 176/300\n",
            "\u001b[1m4/4\u001b[0m \u001b[32m━━━━━━━━━━━━━━━━━━━━\u001b[0m\u001b[37m\u001b[0m \u001b[1m0s\u001b[0m 5ms/step - loss: 0.0034 \n",
            "Epoch 177/300\n",
            "\u001b[1m4/4\u001b[0m \u001b[32m━━━━━━━━━━━━━━━━━━━━\u001b[0m\u001b[37m\u001b[0m \u001b[1m0s\u001b[0m 5ms/step - loss: 0.0031 \n",
            "Epoch 178/300\n",
            "\u001b[1m4/4\u001b[0m \u001b[32m━━━━━━━━━━━━━━━━━━━━\u001b[0m\u001b[37m\u001b[0m \u001b[1m0s\u001b[0m 6ms/step - loss: 0.0031  \n",
            "Epoch 179/300\n",
            "\u001b[1m4/4\u001b[0m \u001b[32m━━━━━━━━━━━━━━━━━━━━\u001b[0m\u001b[37m\u001b[0m \u001b[1m0s\u001b[0m 3ms/step - loss: 0.0029 \n",
            "Epoch 180/300\n",
            "\u001b[1m4/4\u001b[0m \u001b[32m━━━━━━━━━━━━━━━━━━━━\u001b[0m\u001b[37m\u001b[0m \u001b[1m0s\u001b[0m 4ms/step - loss: 0.0030 \n",
            "Epoch 181/300\n",
            "\u001b[1m4/4\u001b[0m \u001b[32m━━━━━━━━━━━━━━━━━━━━\u001b[0m\u001b[37m\u001b[0m \u001b[1m0s\u001b[0m 3ms/step - loss: 0.0029 \n",
            "Epoch 182/300\n",
            "\u001b[1m4/4\u001b[0m \u001b[32m━━━━━━━━━━━━━━━━━━━━\u001b[0m\u001b[37m\u001b[0m \u001b[1m0s\u001b[0m 3ms/step - loss: 0.0027 \n",
            "Epoch 183/300\n",
            "\u001b[1m4/4\u001b[0m \u001b[32m━━━━━━━━━━━━━━━━━━━━\u001b[0m\u001b[37m\u001b[0m \u001b[1m0s\u001b[0m 5ms/step - loss: 0.0026 \n",
            "Epoch 184/300\n",
            "\u001b[1m4/4\u001b[0m \u001b[32m━━━━━━━━━━━━━━━━━━━━\u001b[0m\u001b[37m\u001b[0m \u001b[1m0s\u001b[0m 7ms/step - loss: 0.0025  \n",
            "Epoch 185/300\n",
            "\u001b[1m4/4\u001b[0m \u001b[32m━━━━━━━━━━━━━━━━━━━━\u001b[0m\u001b[37m\u001b[0m \u001b[1m0s\u001b[0m 5ms/step - loss: 0.0024 \n",
            "Epoch 186/300\n",
            "\u001b[1m4/4\u001b[0m \u001b[32m━━━━━━━━━━━━━━━━━━━━\u001b[0m\u001b[37m\u001b[0m \u001b[1m0s\u001b[0m 4ms/step - loss: 0.0022 \n",
            "Epoch 187/300\n",
            "\u001b[1m4/4\u001b[0m \u001b[32m━━━━━━━━━━━━━━━━━━━━\u001b[0m\u001b[37m\u001b[0m \u001b[1m0s\u001b[0m 3ms/step - loss: 0.0022 \n",
            "Epoch 188/300\n",
            "\u001b[1m4/4\u001b[0m \u001b[32m━━━━━━━━━━━━━━━━━━━━\u001b[0m\u001b[37m\u001b[0m \u001b[1m0s\u001b[0m 4ms/step - loss: 0.0021 \n",
            "Epoch 189/300\n",
            "\u001b[1m4/4\u001b[0m \u001b[32m━━━━━━━━━━━━━━━━━━━━\u001b[0m\u001b[37m\u001b[0m \u001b[1m0s\u001b[0m 4ms/step - loss: 0.0020 \n",
            "Epoch 190/300\n",
            "\u001b[1m4/4\u001b[0m \u001b[32m━━━━━━━━━━━━━━━━━━━━\u001b[0m\u001b[37m\u001b[0m \u001b[1m0s\u001b[0m 3ms/step - loss: 0.0018 \n",
            "Epoch 191/300\n",
            "\u001b[1m4/4\u001b[0m \u001b[32m━━━━━━━━━━━━━━━━━━━━\u001b[0m\u001b[37m\u001b[0m \u001b[1m0s\u001b[0m 5ms/step - loss: 0.0019  \n",
            "Epoch 192/300\n",
            "\u001b[1m4/4\u001b[0m \u001b[32m━━━━━━━━━━━━━━━━━━━━\u001b[0m\u001b[37m\u001b[0m \u001b[1m0s\u001b[0m 4ms/step - loss: 0.0017 \n",
            "Epoch 193/300\n",
            "\u001b[1m4/4\u001b[0m \u001b[32m━━━━━━━━━━━━━━━━━━━━\u001b[0m\u001b[37m\u001b[0m \u001b[1m0s\u001b[0m 4ms/step - loss: 0.0017 \n",
            "Epoch 194/300\n",
            "\u001b[1m4/4\u001b[0m \u001b[32m━━━━━━━━━━━━━━━━━━━━\u001b[0m\u001b[37m\u001b[0m \u001b[1m0s\u001b[0m 3ms/step - loss: 0.0017 \n",
            "Epoch 195/300\n",
            "\u001b[1m4/4\u001b[0m \u001b[32m━━━━━━━━━━━━━━━━━━━━\u001b[0m\u001b[37m\u001b[0m \u001b[1m0s\u001b[0m 3ms/step - loss: 0.0016 \n",
            "Epoch 196/300\n",
            "\u001b[1m4/4\u001b[0m \u001b[32m━━━━━━━━━━━━━━━━━━━━\u001b[0m\u001b[37m\u001b[0m \u001b[1m0s\u001b[0m 4ms/step - loss: 0.0015 \n",
            "Epoch 197/300\n",
            "\u001b[1m4/4\u001b[0m \u001b[32m━━━━━━━━━━━━━━━━━━━━\u001b[0m\u001b[37m\u001b[0m \u001b[1m0s\u001b[0m 3ms/step - loss: 0.0015 \n",
            "Epoch 198/300\n",
            "\u001b[1m4/4\u001b[0m \u001b[32m━━━━━━━━━━━━━━━━━━━━\u001b[0m\u001b[37m\u001b[0m \u001b[1m0s\u001b[0m 3ms/step - loss: 0.0015 \n",
            "Epoch 199/300\n",
            "\u001b[1m4/4\u001b[0m \u001b[32m━━━━━━━━━━━━━━━━━━━━\u001b[0m\u001b[37m\u001b[0m \u001b[1m0s\u001b[0m 3ms/step - loss: 0.0014 \n",
            "Epoch 200/300\n",
            "\u001b[1m4/4\u001b[0m \u001b[32m━━━━━━━━━━━━━━━━━━━━\u001b[0m\u001b[37m\u001b[0m \u001b[1m0s\u001b[0m 3ms/step - loss: 0.0014 \n",
            "Epoch 201/300\n",
            "\u001b[1m4/4\u001b[0m \u001b[32m━━━━━━━━━━━━━━━━━━━━\u001b[0m\u001b[37m\u001b[0m \u001b[1m0s\u001b[0m 3ms/step - loss: 0.0013 \n",
            "Epoch 202/300\n",
            "\u001b[1m4/4\u001b[0m \u001b[32m━━━━━━━━━━━━━━━━━━━━\u001b[0m\u001b[37m\u001b[0m \u001b[1m0s\u001b[0m 3ms/step - loss: 0.0011 \n",
            "Epoch 203/300\n",
            "\u001b[1m4/4\u001b[0m \u001b[32m━━━━━━━━━━━━━━━━━━━━\u001b[0m\u001b[37m\u001b[0m \u001b[1m0s\u001b[0m 3ms/step - loss: 0.0011 \n",
            "Epoch 204/300\n",
            "\u001b[1m4/4\u001b[0m \u001b[32m━━━━━━━━━━━━━━━━━━━━\u001b[0m\u001b[37m\u001b[0m \u001b[1m0s\u001b[0m 3ms/step - loss: 0.0011     \n",
            "Epoch 205/300\n",
            "\u001b[1m4/4\u001b[0m \u001b[32m━━━━━━━━━━━━━━━━━━━━\u001b[0m\u001b[37m\u001b[0m \u001b[1m0s\u001b[0m 3ms/step - loss: 9.9163e-04 \n",
            "Epoch 206/300\n",
            "\u001b[1m4/4\u001b[0m \u001b[32m━━━━━━━━━━━━━━━━━━━━\u001b[0m\u001b[37m\u001b[0m \u001b[1m0s\u001b[0m 3ms/step - loss: 9.9177e-04\n",
            "Epoch 207/300\n",
            "\u001b[1m4/4\u001b[0m \u001b[32m━━━━━━━━━━━━━━━━━━━━\u001b[0m\u001b[37m\u001b[0m \u001b[1m0s\u001b[0m 5ms/step - loss: 0.0011 \n",
            "Epoch 208/300\n",
            "\u001b[1m4/4\u001b[0m \u001b[32m━━━━━━━━━━━━━━━━━━━━\u001b[0m\u001b[37m\u001b[0m \u001b[1m0s\u001b[0m 4ms/step - loss: 9.3056e-04\n",
            "Epoch 209/300\n",
            "\u001b[1m4/4\u001b[0m \u001b[32m━━━━━━━━━━━━━━━━━━━━\u001b[0m\u001b[37m\u001b[0m \u001b[1m0s\u001b[0m 3ms/step - loss: 9.4130e-04\n",
            "Epoch 210/300\n",
            "\u001b[1m4/4\u001b[0m \u001b[32m━━━━━━━━━━━━━━━━━━━━\u001b[0m\u001b[37m\u001b[0m \u001b[1m0s\u001b[0m 4ms/step - loss: 8.5694e-04 \n",
            "Epoch 211/300\n",
            "\u001b[1m4/4\u001b[0m \u001b[32m━━━━━━━━━━━━━━━━━━━━\u001b[0m\u001b[37m\u001b[0m \u001b[1m0s\u001b[0m 5ms/step - loss: 8.7683e-04\n",
            "Epoch 212/300\n",
            "\u001b[1m4/4\u001b[0m \u001b[32m━━━━━━━━━━━━━━━━━━━━\u001b[0m\u001b[37m\u001b[0m \u001b[1m0s\u001b[0m 3ms/step - loss: 7.8513e-04 \n",
            "Epoch 213/300\n",
            "\u001b[1m4/4\u001b[0m \u001b[32m━━━━━━━━━━━━━━━━━━━━\u001b[0m\u001b[37m\u001b[0m \u001b[1m0s\u001b[0m 3ms/step - loss: 7.0202e-04 \n",
            "Epoch 214/300\n",
            "\u001b[1m4/4\u001b[0m \u001b[32m━━━━━━━━━━━━━━━━━━━━\u001b[0m\u001b[37m\u001b[0m \u001b[1m0s\u001b[0m 3ms/step - loss: 7.3243e-04 \n",
            "Epoch 215/300\n",
            "\u001b[1m4/4\u001b[0m \u001b[32m━━━━━━━━━━━━━━━━━━━━\u001b[0m\u001b[37m\u001b[0m \u001b[1m0s\u001b[0m 3ms/step - loss: 6.5051e-04 \n",
            "Epoch 216/300\n",
            "\u001b[1m4/4\u001b[0m \u001b[32m━━━━━━━━━━━━━━━━━━━━\u001b[0m\u001b[37m\u001b[0m \u001b[1m0s\u001b[0m 3ms/step - loss: 7.1791e-04 \n",
            "Epoch 217/300\n",
            "\u001b[1m4/4\u001b[0m \u001b[32m━━━━━━━━━━━━━━━━━━━━\u001b[0m\u001b[37m\u001b[0m \u001b[1m0s\u001b[0m 3ms/step - loss: 6.2692e-04 \n",
            "Epoch 218/300\n",
            "\u001b[1m4/4\u001b[0m \u001b[32m━━━━━━━━━━━━━━━━━━━━\u001b[0m\u001b[37m\u001b[0m \u001b[1m0s\u001b[0m 3ms/step - loss: 6.8110e-04 \n",
            "Epoch 219/300\n",
            "\u001b[1m4/4\u001b[0m \u001b[32m━━━━━━━━━━━━━━━━━━━━\u001b[0m\u001b[37m\u001b[0m \u001b[1m0s\u001b[0m 3ms/step - loss: 5.7196e-04 \n",
            "Epoch 220/300\n",
            "\u001b[1m4/4\u001b[0m \u001b[32m━━━━━━━━━━━━━━━━━━━━\u001b[0m\u001b[37m\u001b[0m \u001b[1m0s\u001b[0m 3ms/step - loss: 6.0386e-04 \n",
            "Epoch 221/300\n",
            "\u001b[1m4/4\u001b[0m \u001b[32m━━━━━━━━━━━━━━━━━━━━\u001b[0m\u001b[37m\u001b[0m \u001b[1m0s\u001b[0m 3ms/step - loss: 5.2380e-04 \n",
            "Epoch 222/300\n",
            "\u001b[1m4/4\u001b[0m \u001b[32m━━━━━━━━━━━━━━━━━━━━\u001b[0m\u001b[37m\u001b[0m \u001b[1m0s\u001b[0m 3ms/step - loss: 5.1972e-04 \n",
            "Epoch 223/300\n",
            "\u001b[1m4/4\u001b[0m \u001b[32m━━━━━━━━━━━━━━━━━━━━\u001b[0m\u001b[37m\u001b[0m \u001b[1m0s\u001b[0m 3ms/step - loss: 5.1908e-04 \n",
            "Epoch 224/300\n",
            "\u001b[1m4/4\u001b[0m \u001b[32m━━━━━━━━━━━━━━━━━━━━\u001b[0m\u001b[37m\u001b[0m \u001b[1m0s\u001b[0m 3ms/step - loss: 5.0033e-04 \n",
            "Epoch 225/300\n",
            "\u001b[1m4/4\u001b[0m \u001b[32m━━━━━━━━━━━━━━━━━━━━\u001b[0m\u001b[37m\u001b[0m \u001b[1m0s\u001b[0m 4ms/step - loss: 4.8240e-04 \n",
            "Epoch 226/300\n",
            "\u001b[1m4/4\u001b[0m \u001b[32m━━━━━━━━━━━━━━━━━━━━\u001b[0m\u001b[37m\u001b[0m \u001b[1m0s\u001b[0m 3ms/step - loss: 5.6149e-04 \n",
            "Epoch 227/300\n",
            "\u001b[1m4/4\u001b[0m \u001b[32m━━━━━━━━━━━━━━━━━━━━\u001b[0m\u001b[37m\u001b[0m \u001b[1m0s\u001b[0m 3ms/step - loss: 4.3681e-04 \n",
            "Epoch 228/300\n",
            "\u001b[1m4/4\u001b[0m \u001b[32m━━━━━━━━━━━━━━━━━━━━\u001b[0m\u001b[37m\u001b[0m \u001b[1m0s\u001b[0m 3ms/step - loss: 4.2574e-04 \n",
            "Epoch 229/300\n",
            "\u001b[1m4/4\u001b[0m \u001b[32m━━━━━━━━━━━━━━━━━━━━\u001b[0m\u001b[37m\u001b[0m \u001b[1m0s\u001b[0m 4ms/step - loss: 4.0120e-04 \n",
            "Epoch 230/300\n",
            "\u001b[1m4/4\u001b[0m \u001b[32m━━━━━━━━━━━━━━━━━━━━\u001b[0m\u001b[37m\u001b[0m \u001b[1m0s\u001b[0m 3ms/step - loss: 3.9239e-04 \n",
            "Epoch 231/300\n",
            "\u001b[1m4/4\u001b[0m \u001b[32m━━━━━━━━━━━━━━━━━━━━\u001b[0m\u001b[37m\u001b[0m \u001b[1m0s\u001b[0m 3ms/step - loss: 3.9459e-04 \n",
            "Epoch 232/300\n",
            "\u001b[1m4/4\u001b[0m \u001b[32m━━━━━━━━━━━━━━━━━━━━\u001b[0m\u001b[37m\u001b[0m \u001b[1m0s\u001b[0m 3ms/step - loss: 3.2156e-04 \n",
            "Epoch 233/300\n",
            "\u001b[1m4/4\u001b[0m \u001b[32m━━━━━━━━━━━━━━━━━━━━\u001b[0m\u001b[37m\u001b[0m \u001b[1m0s\u001b[0m 3ms/step - loss: 3.4468e-04 \n",
            "Epoch 234/300\n",
            "\u001b[1m4/4\u001b[0m \u001b[32m━━━━━━━━━━━━━━━━━━━━\u001b[0m\u001b[37m\u001b[0m \u001b[1m0s\u001b[0m 3ms/step - loss: 3.3267e-04 \n",
            "Epoch 235/300\n",
            "\u001b[1m4/4\u001b[0m \u001b[32m━━━━━━━━━━━━━━━━━━━━\u001b[0m\u001b[37m\u001b[0m \u001b[1m0s\u001b[0m 3ms/step - loss: 3.4957e-04 \n",
            "Epoch 236/300\n",
            "\u001b[1m4/4\u001b[0m \u001b[32m━━━━━━━━━━━━━━━━━━━━\u001b[0m\u001b[37m\u001b[0m \u001b[1m0s\u001b[0m 3ms/step - loss: 2.9888e-04 \n",
            "Epoch 237/300\n",
            "\u001b[1m4/4\u001b[0m \u001b[32m━━━━━━━━━━━━━━━━━━━━\u001b[0m\u001b[37m\u001b[0m \u001b[1m0s\u001b[0m 3ms/step - loss: 2.9071e-04 \n",
            "Epoch 238/300\n",
            "\u001b[1m4/4\u001b[0m \u001b[32m━━━━━━━━━━━━━━━━━━━━\u001b[0m\u001b[37m\u001b[0m \u001b[1m0s\u001b[0m 3ms/step - loss: 2.9294e-04 \n",
            "Epoch 239/300\n",
            "\u001b[1m4/4\u001b[0m \u001b[32m━━━━━━━━━━━━━━━━━━━━\u001b[0m\u001b[37m\u001b[0m \u001b[1m0s\u001b[0m 3ms/step - loss: 2.8093e-04 \n",
            "Epoch 240/300\n",
            "\u001b[1m4/4\u001b[0m \u001b[32m━━━━━━━━━━━━━━━━━━━━\u001b[0m\u001b[37m\u001b[0m \u001b[1m0s\u001b[0m 3ms/step - loss: 2.5317e-04 \n",
            "Epoch 241/300\n",
            "\u001b[1m4/4\u001b[0m \u001b[32m━━━━━━━━━━━━━━━━━━━━\u001b[0m\u001b[37m\u001b[0m \u001b[1m0s\u001b[0m 3ms/step - loss: 2.4227e-04 \n",
            "Epoch 242/300\n",
            "\u001b[1m4/4\u001b[0m \u001b[32m━━━━━━━━━━━━━━━━━━━━\u001b[0m\u001b[37m\u001b[0m \u001b[1m0s\u001b[0m 3ms/step - loss: 2.4042e-04 \n",
            "Epoch 243/300\n",
            "\u001b[1m4/4\u001b[0m \u001b[32m━━━━━━━━━━━━━━━━━━━━\u001b[0m\u001b[37m\u001b[0m \u001b[1m0s\u001b[0m 4ms/step - loss: 2.4034e-04 \n",
            "Epoch 244/300\n",
            "\u001b[1m4/4\u001b[0m \u001b[32m━━━━━━━━━━━━━━━━━━━━\u001b[0m\u001b[37m\u001b[0m \u001b[1m0s\u001b[0m 4ms/step - loss: 2.1520e-04 \n",
            "Epoch 245/300\n",
            "\u001b[1m4/4\u001b[0m \u001b[32m━━━━━━━━━━━━━━━━━━━━\u001b[0m\u001b[37m\u001b[0m \u001b[1m0s\u001b[0m 3ms/step - loss: 2.1016e-04 \n",
            "Epoch 246/300\n",
            "\u001b[1m4/4\u001b[0m \u001b[32m━━━━━━━━━━━━━━━━━━━━\u001b[0m\u001b[37m\u001b[0m \u001b[1m0s\u001b[0m 4ms/step - loss: 1.9244e-04 \n",
            "Epoch 247/300\n",
            "\u001b[1m4/4\u001b[0m \u001b[32m━━━━━━━━━━━━━━━━━━━━\u001b[0m\u001b[37m\u001b[0m \u001b[1m0s\u001b[0m 4ms/step - loss: 2.0193e-04 \n",
            "Epoch 248/300\n",
            "\u001b[1m4/4\u001b[0m \u001b[32m━━━━━━━━━━━━━━━━━━━━\u001b[0m\u001b[37m\u001b[0m \u001b[1m0s\u001b[0m 5ms/step - loss: 1.8136e-04 \n",
            "Epoch 249/300\n",
            "\u001b[1m4/4\u001b[0m \u001b[32m━━━━━━━━━━━━━━━━━━━━\u001b[0m\u001b[37m\u001b[0m \u001b[1m0s\u001b[0m 3ms/step - loss: 1.7073e-04 \n",
            "Epoch 250/300\n",
            "\u001b[1m4/4\u001b[0m \u001b[32m━━━━━━━━━━━━━━━━━━━━\u001b[0m\u001b[37m\u001b[0m \u001b[1m0s\u001b[0m 3ms/step - loss: 1.6003e-04 \n",
            "Epoch 251/300\n",
            "\u001b[1m4/4\u001b[0m \u001b[32m━━━━━━━━━━━━━━━━━━━━\u001b[0m\u001b[37m\u001b[0m \u001b[1m0s\u001b[0m 3ms/step - loss: 1.5446e-04 \n",
            "Epoch 252/300\n",
            "\u001b[1m4/4\u001b[0m \u001b[32m━━━━━━━━━━━━━━━━━━━━\u001b[0m\u001b[37m\u001b[0m \u001b[1m0s\u001b[0m 3ms/step - loss: 1.4962e-04 \n",
            "Epoch 253/300\n",
            "\u001b[1m4/4\u001b[0m \u001b[32m━━━━━━━━━━━━━━━━━━━━\u001b[0m\u001b[37m\u001b[0m \u001b[1m0s\u001b[0m 4ms/step - loss: 1.5702e-04 \n",
            "Epoch 254/300\n",
            "\u001b[1m4/4\u001b[0m \u001b[32m━━━━━━━━━━━━━━━━━━━━\u001b[0m\u001b[37m\u001b[0m \u001b[1m0s\u001b[0m 4ms/step - loss: 1.3350e-04 \n",
            "Epoch 255/300\n",
            "\u001b[1m4/4\u001b[0m \u001b[32m━━━━━━━━━━━━━━━━━━━━\u001b[0m\u001b[37m\u001b[0m \u001b[1m0s\u001b[0m 3ms/step - loss: 1.3818e-04 \n",
            "Epoch 256/300\n",
            "\u001b[1m4/4\u001b[0m \u001b[32m━━━━━━━━━━━━━━━━━━━━\u001b[0m\u001b[37m\u001b[0m \u001b[1m0s\u001b[0m 3ms/step - loss: 1.3133e-04 \n",
            "Epoch 257/300\n",
            "\u001b[1m4/4\u001b[0m \u001b[32m━━━━━━━━━━━━━━━━━━━━\u001b[0m\u001b[37m\u001b[0m \u001b[1m0s\u001b[0m 3ms/step - loss: 1.2352e-04 \n",
            "Epoch 258/300\n",
            "\u001b[1m4/4\u001b[0m \u001b[32m━━━━━━━━━━━━━━━━━━━━\u001b[0m\u001b[37m\u001b[0m \u001b[1m0s\u001b[0m 3ms/step - loss: 1.1525e-04 \n",
            "Epoch 259/300\n",
            "\u001b[1m4/4\u001b[0m \u001b[32m━━━━━━━━━━━━━━━━━━━━\u001b[0m\u001b[37m\u001b[0m \u001b[1m0s\u001b[0m 3ms/step - loss: 1.0811e-04 \n",
            "Epoch 260/300\n",
            "\u001b[1m4/4\u001b[0m \u001b[32m━━━━━━━━━━━━━━━━━━━━\u001b[0m\u001b[37m\u001b[0m \u001b[1m0s\u001b[0m 3ms/step - loss: 1.1427e-04 \n",
            "Epoch 261/300\n",
            "\u001b[1m4/4\u001b[0m \u001b[32m━━━━━━━━━━━━━━━━━━━━\u001b[0m\u001b[37m\u001b[0m \u001b[1m0s\u001b[0m 3ms/step - loss: 1.0232e-04 \n",
            "Epoch 262/300\n",
            "\u001b[1m4/4\u001b[0m \u001b[32m━━━━━━━━━━━━━━━━━━━━\u001b[0m\u001b[37m\u001b[0m \u001b[1m0s\u001b[0m 4ms/step - loss: 1.0419e-04 \n",
            "Epoch 263/300\n",
            "\u001b[1m4/4\u001b[0m \u001b[32m━━━━━━━━━━━━━━━━━━━━\u001b[0m\u001b[37m\u001b[0m \u001b[1m0s\u001b[0m 4ms/step - loss: 9.2347e-05 \n",
            "Epoch 264/300\n",
            "\u001b[1m4/4\u001b[0m \u001b[32m━━━━━━━━━━━━━━━━━━━━\u001b[0m\u001b[37m\u001b[0m \u001b[1m0s\u001b[0m 4ms/step - loss: 8.9239e-05 \n",
            "Epoch 265/300\n",
            "\u001b[1m4/4\u001b[0m \u001b[32m━━━━━━━━━━━━━━━━━━━━\u001b[0m\u001b[37m\u001b[0m \u001b[1m0s\u001b[0m 3ms/step - loss: 9.3677e-05 \n",
            "Epoch 266/300\n",
            "\u001b[1m4/4\u001b[0m \u001b[32m━━━━━━━━━━━━━━━━━━━━\u001b[0m\u001b[37m\u001b[0m \u001b[1m0s\u001b[0m 4ms/step - loss: 9.3848e-05 \n",
            "Epoch 267/300\n",
            "\u001b[1m4/4\u001b[0m \u001b[32m━━━━━━━━━━━━━━━━━━━━\u001b[0m\u001b[37m\u001b[0m \u001b[1m0s\u001b[0m 3ms/step - loss: 7.4768e-05 \n",
            "Epoch 268/300\n",
            "\u001b[1m4/4\u001b[0m \u001b[32m━━━━━━━━━━━━━━━━━━━━\u001b[0m\u001b[37m\u001b[0m \u001b[1m0s\u001b[0m 3ms/step - loss: 7.6446e-05 \n",
            "Epoch 269/300\n",
            "\u001b[1m4/4\u001b[0m \u001b[32m━━━━━━━━━━━━━━━━━━━━\u001b[0m\u001b[37m\u001b[0m \u001b[1m0s\u001b[0m 3ms/step - loss: 7.7733e-05 \n",
            "Epoch 270/300\n",
            "\u001b[1m4/4\u001b[0m \u001b[32m━━━━━━━━━━━━━━━━━━━━\u001b[0m\u001b[37m\u001b[0m \u001b[1m0s\u001b[0m 3ms/step - loss: 6.9052e-05 \n",
            "Epoch 271/300\n",
            "\u001b[1m4/4\u001b[0m \u001b[32m━━━━━━━━━━━━━━━━━━━━\u001b[0m\u001b[37m\u001b[0m \u001b[1m0s\u001b[0m 3ms/step - loss: 7.1919e-05 \n",
            "Epoch 272/300\n",
            "\u001b[1m4/4\u001b[0m \u001b[32m━━━━━━━━━━━━━━━━━━━━\u001b[0m\u001b[37m\u001b[0m \u001b[1m0s\u001b[0m 3ms/step - loss: 6.7801e-05 \n",
            "Epoch 273/300\n",
            "\u001b[1m4/4\u001b[0m \u001b[32m━━━━━━━━━━━━━━━━━━━━\u001b[0m\u001b[37m\u001b[0m \u001b[1m0s\u001b[0m 3ms/step - loss: 6.1731e-05 \n",
            "Epoch 274/300\n",
            "\u001b[1m4/4\u001b[0m \u001b[32m━━━━━━━━━━━━━━━━━━━━\u001b[0m\u001b[37m\u001b[0m \u001b[1m0s\u001b[0m 3ms/step - loss: 6.4568e-05 \n",
            "Epoch 275/300\n",
            "\u001b[1m4/4\u001b[0m \u001b[32m━━━━━━━━━━━━━━━━━━━━\u001b[0m\u001b[37m\u001b[0m \u001b[1m0s\u001b[0m 3ms/step - loss: 5.8851e-05 \n",
            "Epoch 276/300\n",
            "\u001b[1m4/4\u001b[0m \u001b[32m━━━━━━━━━━━━━━━━━━━━\u001b[0m\u001b[37m\u001b[0m \u001b[1m0s\u001b[0m 3ms/step - loss: 5.5545e-05 \n",
            "Epoch 277/300\n",
            "\u001b[1m4/4\u001b[0m \u001b[32m━━━━━━━━━━━━━━━━━━━━\u001b[0m\u001b[37m\u001b[0m \u001b[1m0s\u001b[0m 3ms/step - loss: 5.3270e-05 \n",
            "Epoch 278/300\n",
            "\u001b[1m4/4\u001b[0m \u001b[32m━━━━━━━━━━━━━━━━━━━━\u001b[0m\u001b[37m\u001b[0m \u001b[1m0s\u001b[0m 3ms/step - loss: 5.4444e-05 \n",
            "Epoch 279/300\n",
            "\u001b[1m4/4\u001b[0m \u001b[32m━━━━━━━━━━━━━━━━━━━━\u001b[0m\u001b[37m\u001b[0m \u001b[1m0s\u001b[0m 4ms/step - loss: 5.2921e-05 \n",
            "Epoch 280/300\n",
            "\u001b[1m4/4\u001b[0m \u001b[32m━━━━━━━━━━━━━━━━━━━━\u001b[0m\u001b[37m\u001b[0m \u001b[1m0s\u001b[0m 4ms/step - loss: 5.1288e-05 \n",
            "Epoch 281/300\n",
            "\u001b[1m4/4\u001b[0m \u001b[32m━━━━━━━━━━━━━━━━━━━━\u001b[0m\u001b[37m\u001b[0m \u001b[1m0s\u001b[0m 4ms/step - loss: 4.6334e-05 \n",
            "Epoch 282/300\n",
            "\u001b[1m4/4\u001b[0m \u001b[32m━━━━━━━━━━━━━━━━━━━━\u001b[0m\u001b[37m\u001b[0m \u001b[1m0s\u001b[0m 4ms/step - loss: 4.5007e-05 \n",
            "Epoch 283/300\n",
            "\u001b[1m4/4\u001b[0m \u001b[32m━━━━━━━━━━━━━━━━━━━━\u001b[0m\u001b[37m\u001b[0m \u001b[1m0s\u001b[0m 4ms/step - loss: 4.5576e-05 \n",
            "Epoch 284/300\n",
            "\u001b[1m4/4\u001b[0m \u001b[32m━━━━━━━━━━━━━━━━━━━━\u001b[0m\u001b[37m\u001b[0m \u001b[1m0s\u001b[0m 3ms/step - loss: 4.4072e-05 \n",
            "Epoch 285/300\n",
            "\u001b[1m4/4\u001b[0m \u001b[32m━━━━━━━━━━━━━━━━━━━━\u001b[0m\u001b[37m\u001b[0m \u001b[1m0s\u001b[0m 4ms/step - loss: 4.7575e-05 \n",
            "Epoch 286/300\n",
            "\u001b[1m4/4\u001b[0m \u001b[32m━━━━━━━━━━━━━━━━━━━━\u001b[0m\u001b[37m\u001b[0m \u001b[1m0s\u001b[0m 3ms/step - loss: 3.4946e-05 \n",
            "Epoch 287/300\n",
            "\u001b[1m4/4\u001b[0m \u001b[32m━━━━━━━━━━━━━━━━━━━━\u001b[0m\u001b[37m\u001b[0m \u001b[1m0s\u001b[0m 3ms/step - loss: 3.3141e-05 \n",
            "Epoch 288/300\n",
            "\u001b[1m4/4\u001b[0m \u001b[32m━━━━━━━━━━━━━━━━━━━━\u001b[0m\u001b[37m\u001b[0m \u001b[1m0s\u001b[0m 3ms/step - loss: 3.7653e-05 \n",
            "Epoch 289/300\n",
            "\u001b[1m4/4\u001b[0m \u001b[32m━━━━━━━━━━━━━━━━━━━━\u001b[0m\u001b[37m\u001b[0m \u001b[1m0s\u001b[0m 2ms/step - loss: 3.2676e-05 \n",
            "Epoch 290/300\n",
            "\u001b[1m4/4\u001b[0m \u001b[32m━━━━━━━━━━━━━━━━━━━━\u001b[0m\u001b[37m\u001b[0m \u001b[1m0s\u001b[0m 3ms/step - loss: 3.0626e-05 \n",
            "Epoch 291/300\n",
            "\u001b[1m4/4\u001b[0m \u001b[32m━━━━━━━━━━━━━━━━━━━━\u001b[0m\u001b[37m\u001b[0m \u001b[1m0s\u001b[0m 3ms/step - loss: 3.2361e-05 \n",
            "Epoch 292/300\n",
            "\u001b[1m4/4\u001b[0m \u001b[32m━━━━━━━━━━━━━━━━━━━━\u001b[0m\u001b[37m\u001b[0m \u001b[1m0s\u001b[0m 3ms/step - loss: 2.8241e-05 \n",
            "Epoch 293/300\n",
            "\u001b[1m4/4\u001b[0m \u001b[32m━━━━━━━━━━━━━━━━━━━━\u001b[0m\u001b[37m\u001b[0m \u001b[1m0s\u001b[0m 3ms/step - loss: 2.5969e-05 \n",
            "Epoch 294/300\n",
            "\u001b[1m4/4\u001b[0m \u001b[32m━━━━━━━━━━━━━━━━━━━━\u001b[0m\u001b[37m\u001b[0m \u001b[1m0s\u001b[0m 4ms/step - loss: 2.9053e-05 \n",
            "Epoch 295/300\n",
            "\u001b[1m4/4\u001b[0m \u001b[32m━━━━━━━━━━━━━━━━━━━━\u001b[0m\u001b[37m\u001b[0m \u001b[1m0s\u001b[0m 3ms/step - loss: 2.5348e-05 \n",
            "Epoch 296/300\n",
            "\u001b[1m4/4\u001b[0m \u001b[32m━━━━━━━━━━━━━━━━━━━━\u001b[0m\u001b[37m\u001b[0m \u001b[1m0s\u001b[0m 5ms/step - loss: 2.4369e-05 \n",
            "Epoch 297/300\n",
            "\u001b[1m4/4\u001b[0m \u001b[32m━━━━━━━━━━━━━━━━━━━━\u001b[0m\u001b[37m\u001b[0m \u001b[1m0s\u001b[0m 4ms/step - loss: 2.4677e-05 \n",
            "Epoch 298/300\n",
            "\u001b[1m4/4\u001b[0m \u001b[32m━━━━━━━━━━━━━━━━━━━━\u001b[0m\u001b[37m\u001b[0m \u001b[1m0s\u001b[0m 4ms/step - loss: 2.4092e-05 \n",
            "Epoch 299/300\n",
            "\u001b[1m4/4\u001b[0m \u001b[32m━━━━━━━━━━━━━━━━━━━━\u001b[0m\u001b[37m\u001b[0m \u001b[1m0s\u001b[0m 6ms/step - loss: 2.1315e-05 \n",
            "Epoch 300/300\n",
            "\u001b[1m4/4\u001b[0m \u001b[32m━━━━━━━━━━━━━━━━━━━━\u001b[0m\u001b[37m\u001b[0m \u001b[1m0s\u001b[0m 4ms/step - loss: 2.2756e-05 \n"
          ]
        },
        {
          "output_type": "execute_result",
          "data": {
            "text/plain": [
              "<keras.src.callbacks.history.History at 0x7d94fefaf7f0>"
            ]
          },
          "metadata": {},
          "execution_count": 99
        }
      ],
      "source": [
        "#Definindo, compilando e treinando nosso modelo\n",
        "model = tf.keras.Sequential([\n",
        "    keras.Input(shape=(1,)),\n",
        "    keras.layers.Dense(units=1),\n",
        "])\n",
        "\n",
        "model.compile(optimizer=\"sgd\", loss=\"mean_squared_error\")\n",
        "model.fit(xs,ys,epochs=300)"
      ]
    },
    {
      "cell_type": "code",
      "execution_count": null,
      "metadata": {
        "id": "zdsiTFO0JxSq",
        "outputId": "f789e5e8-47f2-4c5d-8b32-26ba715706f4",
        "colab": {
          "base_uri": "https://localhost:8080/",
          "height": 187
        }
      },
      "outputs": [
        {
          "output_type": "display_data",
          "data": {
            "text/plain": [
              "\u001b[1mModel: \"sequential_8\"\u001b[0m\n"
            ],
            "text/html": [
              "<pre style=\"white-space:pre;overflow-x:auto;line-height:normal;font-family:Menlo,'DejaVu Sans Mono',consolas,'Courier New',monospace\"><span style=\"font-weight: bold\">Model: \"sequential_8\"</span>\n",
              "</pre>\n"
            ]
          },
          "metadata": {}
        },
        {
          "output_type": "display_data",
          "data": {
            "text/plain": [
              "┏━━━━━━━━━━━━━━━━━━━━━━━━━━━━━━━━━━━━━━┳━━━━━━━━━━━━━━━━━━━━━━━━━━━━━┳━━━━━━━━━━━━━━━━━┓\n",
              "┃\u001b[1m \u001b[0m\u001b[1mLayer (type)                        \u001b[0m\u001b[1m \u001b[0m┃\u001b[1m \u001b[0m\u001b[1mOutput Shape               \u001b[0m\u001b[1m \u001b[0m┃\u001b[1m \u001b[0m\u001b[1m        Param #\u001b[0m\u001b[1m \u001b[0m┃\n",
              "┡━━━━━━━━━━━━━━━━━━━━━━━━━━━━━━━━━━━━━━╇━━━━━━━━━━━━━━━━━━━━━━━━━━━━━╇━━━━━━━━━━━━━━━━━┩\n",
              "│ dense_14 (\u001b[38;5;33mDense\u001b[0m)                     │ (\u001b[38;5;45mNone\u001b[0m, \u001b[38;5;34m1\u001b[0m)                   │               \u001b[38;5;34m2\u001b[0m │\n",
              "└──────────────────────────────────────┴─────────────────────────────┴─────────────────┘\n"
            ],
            "text/html": [
              "<pre style=\"white-space:pre;overflow-x:auto;line-height:normal;font-family:Menlo,'DejaVu Sans Mono',consolas,'Courier New',monospace\">┏━━━━━━━━━━━━━━━━━━━━━━━━━━━━━━━━━━━━━━┳━━━━━━━━━━━━━━━━━━━━━━━━━━━━━┳━━━━━━━━━━━━━━━━━┓\n",
              "┃<span style=\"font-weight: bold\"> Layer (type)                         </span>┃<span style=\"font-weight: bold\"> Output Shape                </span>┃<span style=\"font-weight: bold\">         Param # </span>┃\n",
              "┡━━━━━━━━━━━━━━━━━━━━━━━━━━━━━━━━━━━━━━╇━━━━━━━━━━━━━━━━━━━━━━━━━━━━━╇━━━━━━━━━━━━━━━━━┩\n",
              "│ dense_14 (<span style=\"color: #0087ff; text-decoration-color: #0087ff\">Dense</span>)                     │ (<span style=\"color: #00d7ff; text-decoration-color: #00d7ff\">None</span>, <span style=\"color: #00af00; text-decoration-color: #00af00\">1</span>)                   │               <span style=\"color: #00af00; text-decoration-color: #00af00\">2</span> │\n",
              "└──────────────────────────────────────┴─────────────────────────────┴─────────────────┘\n",
              "</pre>\n"
            ]
          },
          "metadata": {}
        },
        {
          "output_type": "display_data",
          "data": {
            "text/plain": [
              "\u001b[1m Total params: \u001b[0m\u001b[38;5;34m4\u001b[0m (20.00 B)\n"
            ],
            "text/html": [
              "<pre style=\"white-space:pre;overflow-x:auto;line-height:normal;font-family:Menlo,'DejaVu Sans Mono',consolas,'Courier New',monospace\"><span style=\"font-weight: bold\"> Total params: </span><span style=\"color: #00af00; text-decoration-color: #00af00\">4</span> (20.00 B)\n",
              "</pre>\n"
            ]
          },
          "metadata": {}
        },
        {
          "output_type": "display_data",
          "data": {
            "text/plain": [
              "\u001b[1m Trainable params: \u001b[0m\u001b[38;5;34m2\u001b[0m (8.00 B)\n"
            ],
            "text/html": [
              "<pre style=\"white-space:pre;overflow-x:auto;line-height:normal;font-family:Menlo,'DejaVu Sans Mono',consolas,'Courier New',monospace\"><span style=\"font-weight: bold\"> Trainable params: </span><span style=\"color: #00af00; text-decoration-color: #00af00\">2</span> (8.00 B)\n",
              "</pre>\n"
            ]
          },
          "metadata": {}
        },
        {
          "output_type": "display_data",
          "data": {
            "text/plain": [
              "\u001b[1m Non-trainable params: \u001b[0m\u001b[38;5;34m0\u001b[0m (0.00 B)\n"
            ],
            "text/html": [
              "<pre style=\"white-space:pre;overflow-x:auto;line-height:normal;font-family:Menlo,'DejaVu Sans Mono',consolas,'Courier New',monospace\"><span style=\"font-weight: bold\"> Non-trainable params: </span><span style=\"color: #00af00; text-decoration-color: #00af00\">0</span> (0.00 B)\n",
              "</pre>\n"
            ]
          },
          "metadata": {}
        },
        {
          "output_type": "display_data",
          "data": {
            "text/plain": [
              "\u001b[1m Optimizer params: \u001b[0m\u001b[38;5;34m2\u001b[0m (12.00 B)\n"
            ],
            "text/html": [
              "<pre style=\"white-space:pre;overflow-x:auto;line-height:normal;font-family:Menlo,'DejaVu Sans Mono',consolas,'Courier New',monospace\"><span style=\"font-weight: bold\"> Optimizer params: </span><span style=\"color: #00af00; text-decoration-color: #00af00\">2</span> (12.00 B)\n",
              "</pre>\n"
            ]
          },
          "metadata": {}
        }
      ],
      "source": [
        "model.summary()"
      ]
    },
    {
      "cell_type": "code",
      "execution_count": null,
      "metadata": {
        "id": "v5cRyAL1JxSq",
        "outputId": "509a2bf4-15e7-44ba-90be-c0e4c30fd27e",
        "colab": {
          "base_uri": "https://localhost:8080/"
        }
      },
      "outputs": [
        {
          "output_type": "stream",
          "name": "stderr",
          "text": [
            "WARNING:tensorflow:5 out of the last 16 calls to <function TensorFlowTrainer.make_predict_function.<locals>.one_step_on_data_distributed at 0x7d95042ff760> triggered tf.function retracing. Tracing is expensive and the excessive number of tracings could be due to (1) creating @tf.function repeatedly in a loop, (2) passing tensors with different shapes, (3) passing Python objects instead of tensors. For (1), please define your @tf.function outside of the loop. For (2), @tf.function has reduce_retracing=True option that can avoid unnecessary retracing. For (3), please refer to https://www.tensorflow.org/guide/function#controlling_retracing and https://www.tensorflow.org/api_docs/python/tf/function for  more details.\n"
          ]
        },
        {
          "output_type": "stream",
          "name": "stdout",
          "text": [
            "\u001b[1m1/1\u001b[0m \u001b[32m━━━━━━━━━━━━━━━━━━━━\u001b[0m\u001b[37m\u001b[0m \u001b[1m0s\u001b[0m 51ms/step\n",
            "prediction:  [[175.01393]]       real value:  175\n"
          ]
        }
      ],
      "source": [
        "print(\"prediction: \", model.predict(np.array([17])), \"      real value: \", f1(17))"
      ]
    },
    {
      "cell_type": "code",
      "execution_count": null,
      "metadata": {
        "id": "bvxWgdGoJxSr",
        "outputId": "80fbd9a0-2eb8-4bb0-e428-931e79cf4c00",
        "colab": {
          "base_uri": "https://localhost:8080/"
        }
      },
      "outputs": [
        {
          "output_type": "stream",
          "name": "stderr",
          "text": [
            "WARNING:tensorflow:6 out of the last 11 calls to <function TensorFlowTrainer.make_test_function.<locals>.one_step_on_iterator at 0x7d95042feef0> triggered tf.function retracing. Tracing is expensive and the excessive number of tracings could be due to (1) creating @tf.function repeatedly in a loop, (2) passing tensors with different shapes, (3) passing Python objects instead of tensors. For (1), please define your @tf.function outside of the loop. For (2), @tf.function has reduce_retracing=True option that can avoid unnecessary retracing. For (3), please refer to https://www.tensorflow.org/guide/function#controlling_retracing and https://www.tensorflow.org/api_docs/python/tf/function for  more details.\n"
          ]
        },
        {
          "output_type": "stream",
          "name": "stdout",
          "text": [
            "\u001b[1m2/2\u001b[0m \u001b[32m━━━━━━━━━━━━━━━━━━━━\u001b[0m\u001b[37m\u001b[0m \u001b[1m0s\u001b[0m 8ms/step - loss: 2.6205e-05 \n"
          ]
        },
        {
          "output_type": "execute_result",
          "data": {
            "text/plain": [
              "2.1084286345285363e-05"
            ]
          },
          "metadata": {},
          "execution_count": 102
        }
      ],
      "source": [
        "val = np.linspace(0,10,63)\n",
        "model.evaluate(x=val, y=f1(val))"
      ]
    },
    {
      "cell_type": "markdown",
      "metadata": {
        "id": "Bf9tyPeOJxSs"
      },
      "source": [
        "A função `evaluate` retorna o \"custo\" (loss) da avaliação, definido na compilação.  Nesse caso, o valor reportado é o erro quadrático médio (MSE)."
      ]
    },
    {
      "cell_type": "markdown",
      "metadata": {
        "id": "SdAtRyNiJxSt"
      },
      "source": [
        "## Aprendendo uma função não linear"
      ]
    },
    {
      "cell_type": "code",
      "execution_count": null,
      "metadata": {
        "id": "nOyILHhPJxSt"
      },
      "outputs": [],
      "source": [
        "def f2(x):\n",
        "    '''\n",
        "    Funcao não linear a ser aprendida\n",
        "    '''\n",
        "    return (x**2 + x*3 + 4)/200"
      ]
    },
    {
      "cell_type": "code",
      "execution_count": null,
      "metadata": {
        "id": "FUarry8nJxSu"
      },
      "outputs": [],
      "source": [
        "x = np.linspace(0,10,100)\n",
        "y = f2(x)"
      ]
    },
    {
      "cell_type": "markdown",
      "metadata": {
        "id": "rojy4bDBJxSu"
      },
      "source": [
        "# <font color='blue'>Questão 1 </font>\n",
        "Defina as camadas para esta rede neural e treine seu modelo, note que a saída unitária _não deve_ ter função de ativação (por que?).\n",
        "\n",
        "Uma saída unitária não deve ter uma função de ativação em problemas de regressão ou quando a saída deve ser um valor contínuo sem restrições. Isso preserva a capacidade da rede de prever qualquer valor real."
      ]
    },
    {
      "cell_type": "code",
      "execution_count": null,
      "metadata": {
        "id": "11Obr2tKJxSv",
        "outputId": "d4d62574-a5de-4a1d-c6ea-a264a6e796c5",
        "colab": {
          "base_uri": "https://localhost:8080/"
        },
        "collapsed": true
      },
      "outputs": [
        {
          "output_type": "stream",
          "name": "stdout",
          "text": [
            "Epoch 1/300\n"
          ]
        },
        {
          "output_type": "stream",
          "name": "stderr",
          "text": [
            "/usr/local/lib/python3.10/dist-packages/keras/src/layers/core/dense.py:87: UserWarning: Do not pass an `input_shape`/`input_dim` argument to a layer. When using Sequential models, prefer using an `Input(shape)` object as the first layer in the model instead.\n",
            "  super().__init__(activity_regularizer=activity_regularizer, **kwargs)\n"
          ]
        },
        {
          "output_type": "stream",
          "name": "stdout",
          "text": [
            "\u001b[1m10/10\u001b[0m \u001b[32m━━━━━━━━━━━━━━━━━━━━\u001b[0m\u001b[37m\u001b[0m \u001b[1m1s\u001b[0m 2ms/step - loss: 0.0882  \n",
            "Epoch 2/300\n",
            "\u001b[1m10/10\u001b[0m \u001b[32m━━━━━━━━━━━━━━━━━━━━\u001b[0m\u001b[37m\u001b[0m \u001b[1m0s\u001b[0m 2ms/step - loss: 0.1054 \n",
            "Epoch 3/300\n",
            "\u001b[1m10/10\u001b[0m \u001b[32m━━━━━━━━━━━━━━━━━━━━\u001b[0m\u001b[37m\u001b[0m \u001b[1m0s\u001b[0m 2ms/step - loss: 0.0970 \n",
            "Epoch 4/300\n",
            "\u001b[1m10/10\u001b[0m \u001b[32m━━━━━━━━━━━━━━━━━━━━\u001b[0m\u001b[37m\u001b[0m \u001b[1m0s\u001b[0m 2ms/step - loss: 0.0706 \n",
            "Epoch 5/300\n",
            "\u001b[1m10/10\u001b[0m \u001b[32m━━━━━━━━━━━━━━━━━━━━\u001b[0m\u001b[37m\u001b[0m \u001b[1m0s\u001b[0m 2ms/step - loss: 0.0739 \n",
            "Epoch 6/300\n",
            "\u001b[1m10/10\u001b[0m \u001b[32m━━━━━━━━━━━━━━━━━━━━\u001b[0m\u001b[37m\u001b[0m \u001b[1m0s\u001b[0m 2ms/step - loss: 0.0968 \n",
            "Epoch 7/300\n",
            "\u001b[1m10/10\u001b[0m \u001b[32m━━━━━━━━━━━━━━━━━━━━\u001b[0m\u001b[37m\u001b[0m \u001b[1m0s\u001b[0m 2ms/step - loss: 0.0812 \n",
            "Epoch 8/300\n",
            "\u001b[1m10/10\u001b[0m \u001b[32m━━━━━━━━━━━━━━━━━━━━\u001b[0m\u001b[37m\u001b[0m \u001b[1m0s\u001b[0m 2ms/step - loss: 0.0786 \n",
            "Epoch 9/300\n",
            "\u001b[1m10/10\u001b[0m \u001b[32m━━━━━━━━━━━━━━━━━━━━\u001b[0m\u001b[37m\u001b[0m \u001b[1m0s\u001b[0m 2ms/step - loss: 0.0754 \n",
            "Epoch 10/300\n",
            "\u001b[1m10/10\u001b[0m \u001b[32m━━━━━━━━━━━━━━━━━━━━\u001b[0m\u001b[37m\u001b[0m \u001b[1m0s\u001b[0m 2ms/step - loss: 0.0648 \n",
            "Epoch 11/300\n",
            "\u001b[1m10/10\u001b[0m \u001b[32m━━━━━━━━━━━━━━━━━━━━\u001b[0m\u001b[37m\u001b[0m \u001b[1m0s\u001b[0m 2ms/step - loss: 0.0751 \n",
            "Epoch 12/300\n",
            "\u001b[1m10/10\u001b[0m \u001b[32m━━━━━━━━━━━━━━━━━━━━\u001b[0m\u001b[37m\u001b[0m \u001b[1m0s\u001b[0m 2ms/step - loss: 0.0731 \n",
            "Epoch 13/300\n",
            "\u001b[1m10/10\u001b[0m \u001b[32m━━━━━━━━━━━━━━━━━━━━\u001b[0m\u001b[37m\u001b[0m \u001b[1m0s\u001b[0m 2ms/step - loss: 0.0604 \n",
            "Epoch 14/300\n",
            "\u001b[1m10/10\u001b[0m \u001b[32m━━━━━━━━━━━━━━━━━━━━\u001b[0m\u001b[37m\u001b[0m \u001b[1m0s\u001b[0m 2ms/step - loss: 0.0521 \n",
            "Epoch 15/300\n",
            "\u001b[1m10/10\u001b[0m \u001b[32m━━━━━━━━━━━━━━━━━━━━\u001b[0m\u001b[37m\u001b[0m \u001b[1m0s\u001b[0m 3ms/step - loss: 0.0553 \n",
            "Epoch 16/300\n",
            "\u001b[1m10/10\u001b[0m \u001b[32m━━━━━━━━━━━━━━━━━━━━\u001b[0m\u001b[37m\u001b[0m \u001b[1m0s\u001b[0m 2ms/step - loss: 0.0514 \n",
            "Epoch 17/300\n",
            "\u001b[1m10/10\u001b[0m \u001b[32m━━━━━━━━━━━━━━━━━━━━\u001b[0m\u001b[37m\u001b[0m \u001b[1m0s\u001b[0m 2ms/step - loss: 0.0596 \n",
            "Epoch 18/300\n",
            "\u001b[1m10/10\u001b[0m \u001b[32m━━━━━━━━━━━━━━━━━━━━\u001b[0m\u001b[37m\u001b[0m \u001b[1m0s\u001b[0m 2ms/step - loss: 0.0526 \n",
            "Epoch 19/300\n",
            "\u001b[1m10/10\u001b[0m \u001b[32m━━━━━━━━━━━━━━━━━━━━\u001b[0m\u001b[37m\u001b[0m \u001b[1m0s\u001b[0m 2ms/step - loss: 0.0557 \n",
            "Epoch 20/300\n",
            "\u001b[1m10/10\u001b[0m \u001b[32m━━━━━━━━━━━━━━━━━━━━\u001b[0m\u001b[37m\u001b[0m \u001b[1m0s\u001b[0m 2ms/step - loss: 0.0482 \n",
            "Epoch 21/300\n",
            "\u001b[1m10/10\u001b[0m \u001b[32m━━━━━━━━━━━━━━━━━━━━\u001b[0m\u001b[37m\u001b[0m \u001b[1m0s\u001b[0m 2ms/step - loss: 0.0597 \n",
            "Epoch 22/300\n",
            "\u001b[1m10/10\u001b[0m \u001b[32m━━━━━━━━━━━━━━━━━━━━\u001b[0m\u001b[37m\u001b[0m \u001b[1m0s\u001b[0m 2ms/step - loss: 0.0390 \n",
            "Epoch 23/300\n",
            "\u001b[1m10/10\u001b[0m \u001b[32m━━━━━━━━━━━━━━━━━━━━\u001b[0m\u001b[37m\u001b[0m \u001b[1m0s\u001b[0m 2ms/step - loss: 0.0504 \n",
            "Epoch 24/300\n",
            "\u001b[1m10/10\u001b[0m \u001b[32m━━━━━━━━━━━━━━━━━━━━\u001b[0m\u001b[37m\u001b[0m \u001b[1m0s\u001b[0m 2ms/step - loss: 0.0424 \n",
            "Epoch 25/300\n",
            "\u001b[1m10/10\u001b[0m \u001b[32m━━━━━━━━━━━━━━━━━━━━\u001b[0m\u001b[37m\u001b[0m \u001b[1m0s\u001b[0m 2ms/step - loss: 0.0534 \n",
            "Epoch 26/300\n",
            "\u001b[1m10/10\u001b[0m \u001b[32m━━━━━━━━━━━━━━━━━━━━\u001b[0m\u001b[37m\u001b[0m \u001b[1m0s\u001b[0m 2ms/step - loss: 0.0478 \n",
            "Epoch 27/300\n",
            "\u001b[1m10/10\u001b[0m \u001b[32m━━━━━━━━━━━━━━━━━━━━\u001b[0m\u001b[37m\u001b[0m \u001b[1m0s\u001b[0m 2ms/step - loss: 0.0429 \n",
            "Epoch 28/300\n",
            "\u001b[1m10/10\u001b[0m \u001b[32m━━━━━━━━━━━━━━━━━━━━\u001b[0m\u001b[37m\u001b[0m \u001b[1m0s\u001b[0m 3ms/step - loss: 0.0401 \n",
            "Epoch 29/300\n",
            "\u001b[1m10/10\u001b[0m \u001b[32m━━━━━━━━━━━━━━━━━━━━\u001b[0m\u001b[37m\u001b[0m \u001b[1m0s\u001b[0m 2ms/step - loss: 0.0422 \n",
            "Epoch 30/300\n",
            "\u001b[1m10/10\u001b[0m \u001b[32m━━━━━━━━━━━━━━━━━━━━\u001b[0m\u001b[37m\u001b[0m \u001b[1m0s\u001b[0m 2ms/step - loss: 0.0360 \n",
            "Epoch 31/300\n",
            "\u001b[1m10/10\u001b[0m \u001b[32m━━━━━━━━━━━━━━━━━━━━\u001b[0m\u001b[37m\u001b[0m \u001b[1m0s\u001b[0m 2ms/step - loss: 0.0386 \n",
            "Epoch 32/300\n",
            "\u001b[1m10/10\u001b[0m \u001b[32m━━━━━━━━━━━━━━━━━━━━\u001b[0m\u001b[37m\u001b[0m \u001b[1m0s\u001b[0m 2ms/step - loss: 0.0396 \n",
            "Epoch 33/300\n",
            "\u001b[1m10/10\u001b[0m \u001b[32m━━━━━━━━━━━━━━━━━━━━\u001b[0m\u001b[37m\u001b[0m \u001b[1m0s\u001b[0m 2ms/step - loss: 0.0356 \n",
            "Epoch 34/300\n",
            "\u001b[1m10/10\u001b[0m \u001b[32m━━━━━━━━━━━━━━━━━━━━\u001b[0m\u001b[37m\u001b[0m \u001b[1m0s\u001b[0m 2ms/step - loss: 0.0417 \n",
            "Epoch 35/300\n",
            "\u001b[1m10/10\u001b[0m \u001b[32m━━━━━━━━━━━━━━━━━━━━\u001b[0m\u001b[37m\u001b[0m \u001b[1m0s\u001b[0m 2ms/step - loss: 0.0383 \n",
            "Epoch 36/300\n",
            "\u001b[1m10/10\u001b[0m \u001b[32m━━━━━━━━━━━━━━━━━━━━\u001b[0m\u001b[37m\u001b[0m \u001b[1m0s\u001b[0m 2ms/step - loss: 0.0437 \n",
            "Epoch 37/300\n",
            "\u001b[1m10/10\u001b[0m \u001b[32m━━━━━━━━━━━━━━━━━━━━\u001b[0m\u001b[37m\u001b[0m \u001b[1m0s\u001b[0m 2ms/step - loss: 0.0352 \n",
            "Epoch 38/300\n",
            "\u001b[1m10/10\u001b[0m \u001b[32m━━━━━━━━━━━━━━━━━━━━\u001b[0m\u001b[37m\u001b[0m \u001b[1m0s\u001b[0m 2ms/step - loss: 0.0443 \n",
            "Epoch 39/300\n",
            "\u001b[1m10/10\u001b[0m \u001b[32m━━━━━━━━━━━━━━━━━━━━\u001b[0m\u001b[37m\u001b[0m \u001b[1m0s\u001b[0m 2ms/step - loss: 0.0395 \n",
            "Epoch 40/300\n",
            "\u001b[1m10/10\u001b[0m \u001b[32m━━━━━━━━━━━━━━━━━━━━\u001b[0m\u001b[37m\u001b[0m \u001b[1m0s\u001b[0m 2ms/step - loss: 0.0399 \n",
            "Epoch 41/300\n",
            "\u001b[1m10/10\u001b[0m \u001b[32m━━━━━━━━━━━━━━━━━━━━\u001b[0m\u001b[37m\u001b[0m \u001b[1m0s\u001b[0m 2ms/step - loss: 0.0343 \n",
            "Epoch 42/300\n",
            "\u001b[1m10/10\u001b[0m \u001b[32m━━━━━━━━━━━━━━━━━━━━\u001b[0m\u001b[37m\u001b[0m \u001b[1m0s\u001b[0m 2ms/step - loss: 0.0431 \n",
            "Epoch 43/300\n",
            "\u001b[1m10/10\u001b[0m \u001b[32m━━━━━━━━━━━━━━━━━━━━\u001b[0m\u001b[37m\u001b[0m \u001b[1m0s\u001b[0m 2ms/step - loss: 0.0381 \n",
            "Epoch 44/300\n",
            "\u001b[1m10/10\u001b[0m \u001b[32m━━━━━━━━━━━━━━━━━━━━\u001b[0m\u001b[37m\u001b[0m \u001b[1m0s\u001b[0m 3ms/step - loss: 0.0355 \n",
            "Epoch 45/300\n",
            "\u001b[1m10/10\u001b[0m \u001b[32m━━━━━━━━━━━━━━━━━━━━\u001b[0m\u001b[37m\u001b[0m \u001b[1m0s\u001b[0m 2ms/step - loss: 0.0440 \n",
            "Epoch 46/300\n",
            "\u001b[1m10/10\u001b[0m \u001b[32m━━━━━━━━━━━━━━━━━━━━\u001b[0m\u001b[37m\u001b[0m \u001b[1m0s\u001b[0m 3ms/step - loss: 0.0415  \n",
            "Epoch 47/300\n",
            "\u001b[1m10/10\u001b[0m \u001b[32m━━━━━━━━━━━━━━━━━━━━\u001b[0m\u001b[37m\u001b[0m \u001b[1m0s\u001b[0m 3ms/step - loss: 0.0350 \n",
            "Epoch 48/300\n",
            "\u001b[1m10/10\u001b[0m \u001b[32m━━━━━━━━━━━━━━━━━━━━\u001b[0m\u001b[37m\u001b[0m \u001b[1m0s\u001b[0m 3ms/step - loss: 0.0379 \n",
            "Epoch 49/300\n",
            "\u001b[1m10/10\u001b[0m \u001b[32m━━━━━━━━━━━━━━━━━━━━\u001b[0m\u001b[37m\u001b[0m \u001b[1m0s\u001b[0m 3ms/step - loss: 0.0393  \n",
            "Epoch 50/300\n",
            "\u001b[1m10/10\u001b[0m \u001b[32m━━━━━━━━━━━━━━━━━━━━\u001b[0m\u001b[37m\u001b[0m \u001b[1m0s\u001b[0m 3ms/step - loss: 0.0358  \n",
            "Epoch 51/300\n",
            "\u001b[1m10/10\u001b[0m \u001b[32m━━━━━━━━━━━━━━━━━━━━\u001b[0m\u001b[37m\u001b[0m \u001b[1m0s\u001b[0m 3ms/step - loss: 0.0329 \n",
            "Epoch 52/300\n",
            "\u001b[1m10/10\u001b[0m \u001b[32m━━━━━━━━━━━━━━━━━━━━\u001b[0m\u001b[37m\u001b[0m \u001b[1m0s\u001b[0m 3ms/step - loss: 0.0364 \n",
            "Epoch 53/300\n",
            "\u001b[1m10/10\u001b[0m \u001b[32m━━━━━━━━━━━━━━━━━━━━\u001b[0m\u001b[37m\u001b[0m \u001b[1m0s\u001b[0m 3ms/step - loss: 0.0338  \n",
            "Epoch 54/300\n",
            "\u001b[1m10/10\u001b[0m \u001b[32m━━━━━━━━━━━━━━━━━━━━\u001b[0m\u001b[37m\u001b[0m \u001b[1m0s\u001b[0m 3ms/step - loss: 0.0394  \n",
            "Epoch 55/300\n",
            "\u001b[1m10/10\u001b[0m \u001b[32m━━━━━━━━━━━━━━━━━━━━\u001b[0m\u001b[37m\u001b[0m \u001b[1m0s\u001b[0m 3ms/step - loss: 0.0389  \n",
            "Epoch 56/300\n",
            "\u001b[1m10/10\u001b[0m \u001b[32m━━━━━━━━━━━━━━━━━━━━\u001b[0m\u001b[37m\u001b[0m \u001b[1m0s\u001b[0m 3ms/step - loss: 0.0352  \n",
            "Epoch 57/300\n",
            "\u001b[1m10/10\u001b[0m \u001b[32m━━━━━━━━━━━━━━━━━━━━\u001b[0m\u001b[37m\u001b[0m \u001b[1m0s\u001b[0m 3ms/step - loss: 0.0381  \n",
            "Epoch 58/300\n",
            "\u001b[1m10/10\u001b[0m \u001b[32m━━━━━━━━━━━━━━━━━━━━\u001b[0m\u001b[37m\u001b[0m \u001b[1m0s\u001b[0m 3ms/step - loss: 0.0376  \n",
            "Epoch 59/300\n",
            "\u001b[1m10/10\u001b[0m \u001b[32m━━━━━━━━━━━━━━━━━━━━\u001b[0m\u001b[37m\u001b[0m \u001b[1m0s\u001b[0m 3ms/step - loss: 0.0389 \n",
            "Epoch 60/300\n",
            "\u001b[1m10/10\u001b[0m \u001b[32m━━━━━━━━━━━━━━━━━━━━\u001b[0m\u001b[37m\u001b[0m \u001b[1m0s\u001b[0m 3ms/step - loss: 0.0356  \n",
            "Epoch 61/300\n",
            "\u001b[1m10/10\u001b[0m \u001b[32m━━━━━━━━━━━━━━━━━━━━\u001b[0m\u001b[37m\u001b[0m \u001b[1m0s\u001b[0m 4ms/step - loss: 0.0385  \n",
            "Epoch 62/300\n",
            "\u001b[1m10/10\u001b[0m \u001b[32m━━━━━━━━━━━━━━━━━━━━\u001b[0m\u001b[37m\u001b[0m \u001b[1m0s\u001b[0m 3ms/step - loss: 0.0360 \n",
            "Epoch 63/300\n",
            "\u001b[1m10/10\u001b[0m \u001b[32m━━━━━━━━━━━━━━━━━━━━\u001b[0m\u001b[37m\u001b[0m \u001b[1m0s\u001b[0m 3ms/step - loss: 0.0427 \n",
            "Epoch 64/300\n",
            "\u001b[1m10/10\u001b[0m \u001b[32m━━━━━━━━━━━━━━━━━━━━\u001b[0m\u001b[37m\u001b[0m \u001b[1m0s\u001b[0m 4ms/step - loss: 0.0416  \n",
            "Epoch 65/300\n",
            "\u001b[1m10/10\u001b[0m \u001b[32m━━━━━━━━━━━━━━━━━━━━\u001b[0m\u001b[37m\u001b[0m \u001b[1m0s\u001b[0m 3ms/step - loss: 0.0391 \n",
            "Epoch 66/300\n",
            "\u001b[1m10/10\u001b[0m \u001b[32m━━━━━━━━━━━━━━━━━━━━\u001b[0m\u001b[37m\u001b[0m \u001b[1m0s\u001b[0m 3ms/step - loss: 0.0362 \n",
            "Epoch 67/300\n",
            "\u001b[1m10/10\u001b[0m \u001b[32m━━━━━━━━━━━━━━━━━━━━\u001b[0m\u001b[37m\u001b[0m \u001b[1m0s\u001b[0m 2ms/step - loss: 0.0427  \n",
            "Epoch 68/300\n",
            "\u001b[1m10/10\u001b[0m \u001b[32m━━━━━━━━━━━━━━━━━━━━\u001b[0m\u001b[37m\u001b[0m \u001b[1m0s\u001b[0m 2ms/step - loss: 0.0381 \n",
            "Epoch 69/300\n",
            "\u001b[1m10/10\u001b[0m \u001b[32m━━━━━━━━━━━━━━━━━━━━\u001b[0m\u001b[37m\u001b[0m \u001b[1m0s\u001b[0m 2ms/step - loss: 0.0378 \n",
            "Epoch 70/300\n",
            "\u001b[1m10/10\u001b[0m \u001b[32m━━━━━━━━━━━━━━━━━━━━\u001b[0m\u001b[37m\u001b[0m \u001b[1m0s\u001b[0m 2ms/step - loss: 0.0367 \n",
            "Epoch 71/300\n",
            "\u001b[1m10/10\u001b[0m \u001b[32m━━━━━━━━━━━━━━━━━━━━\u001b[0m\u001b[37m\u001b[0m \u001b[1m0s\u001b[0m 2ms/step - loss: 0.0377 \n",
            "Epoch 72/300\n",
            "\u001b[1m10/10\u001b[0m \u001b[32m━━━━━━━━━━━━━━━━━━━━\u001b[0m\u001b[37m\u001b[0m \u001b[1m0s\u001b[0m 2ms/step - loss: 0.0361 \n",
            "Epoch 73/300\n",
            "\u001b[1m10/10\u001b[0m \u001b[32m━━━━━━━━━━━━━━━━━━━━\u001b[0m\u001b[37m\u001b[0m \u001b[1m0s\u001b[0m 2ms/step - loss: 0.0354 \n",
            "Epoch 74/300\n",
            "\u001b[1m10/10\u001b[0m \u001b[32m━━━━━━━━━━━━━━━━━━━━\u001b[0m\u001b[37m\u001b[0m \u001b[1m0s\u001b[0m 3ms/step - loss: 0.0362 \n",
            "Epoch 75/300\n",
            "\u001b[1m10/10\u001b[0m \u001b[32m━━━━━━━━━━━━━━━━━━━━\u001b[0m\u001b[37m\u001b[0m \u001b[1m0s\u001b[0m 2ms/step - loss: 0.0363 \n",
            "Epoch 76/300\n",
            "\u001b[1m10/10\u001b[0m \u001b[32m━━━━━━━━━━━━━━━━━━━━\u001b[0m\u001b[37m\u001b[0m \u001b[1m0s\u001b[0m 2ms/step - loss: 0.0339 \n",
            "Epoch 77/300\n",
            "\u001b[1m10/10\u001b[0m \u001b[32m━━━━━━━━━━━━━━━━━━━━\u001b[0m\u001b[37m\u001b[0m \u001b[1m0s\u001b[0m 2ms/step - loss: 0.0438 \n",
            "Epoch 78/300\n",
            "\u001b[1m10/10\u001b[0m \u001b[32m━━━━━━━━━━━━━━━━━━━━\u001b[0m\u001b[37m\u001b[0m \u001b[1m0s\u001b[0m 2ms/step - loss: 0.0364 \n",
            "Epoch 79/300\n",
            "\u001b[1m10/10\u001b[0m \u001b[32m━━━━━━━━━━━━━━━━━━━━\u001b[0m\u001b[37m\u001b[0m \u001b[1m0s\u001b[0m 2ms/step - loss: 0.0367 \n",
            "Epoch 80/300\n",
            "\u001b[1m10/10\u001b[0m \u001b[32m━━━━━━━━━━━━━━━━━━━━\u001b[0m\u001b[37m\u001b[0m \u001b[1m0s\u001b[0m 2ms/step - loss: 0.0334 \n",
            "Epoch 81/300\n",
            "\u001b[1m10/10\u001b[0m \u001b[32m━━━━━━━━━━━━━━━━━━━━\u001b[0m\u001b[37m\u001b[0m \u001b[1m0s\u001b[0m 2ms/step - loss: 0.0374 \n",
            "Epoch 82/300\n",
            "\u001b[1m10/10\u001b[0m \u001b[32m━━━━━━━━━━━━━━━━━━━━\u001b[0m\u001b[37m\u001b[0m \u001b[1m0s\u001b[0m 2ms/step - loss: 0.0366 \n",
            "Epoch 83/300\n",
            "\u001b[1m10/10\u001b[0m \u001b[32m━━━━━━━━━━━━━━━━━━━━\u001b[0m\u001b[37m\u001b[0m \u001b[1m0s\u001b[0m 3ms/step - loss: 0.0405 \n",
            "Epoch 84/300\n",
            "\u001b[1m10/10\u001b[0m \u001b[32m━━━━━━━━━━━━━━━━━━━━\u001b[0m\u001b[37m\u001b[0m \u001b[1m0s\u001b[0m 2ms/step - loss: 0.0350 \n",
            "Epoch 85/300\n",
            "\u001b[1m10/10\u001b[0m \u001b[32m━━━━━━━━━━━━━━━━━━━━\u001b[0m\u001b[37m\u001b[0m \u001b[1m0s\u001b[0m 2ms/step - loss: 0.0354 \n",
            "Epoch 86/300\n",
            "\u001b[1m10/10\u001b[0m \u001b[32m━━━━━━━━━━━━━━━━━━━━\u001b[0m\u001b[37m\u001b[0m \u001b[1m0s\u001b[0m 2ms/step - loss: 0.0358 \n",
            "Epoch 87/300\n",
            "\u001b[1m10/10\u001b[0m \u001b[32m━━━━━━━━━━━━━━━━━━━━\u001b[0m\u001b[37m\u001b[0m \u001b[1m0s\u001b[0m 2ms/step - loss: 0.0335 \n",
            "Epoch 88/300\n",
            "\u001b[1m10/10\u001b[0m \u001b[32m━━━━━━━━━━━━━━━━━━━━\u001b[0m\u001b[37m\u001b[0m \u001b[1m0s\u001b[0m 2ms/step - loss: 0.0372 \n",
            "Epoch 89/300\n",
            "\u001b[1m10/10\u001b[0m \u001b[32m━━━━━━━━━━━━━━━━━━━━\u001b[0m\u001b[37m\u001b[0m \u001b[1m0s\u001b[0m 2ms/step - loss: 0.0362 \n",
            "Epoch 90/300\n",
            "\u001b[1m10/10\u001b[0m \u001b[32m━━━━━━━━━━━━━━━━━━━━\u001b[0m\u001b[37m\u001b[0m \u001b[1m0s\u001b[0m 3ms/step - loss: 0.0359 \n",
            "Epoch 91/300\n",
            "\u001b[1m10/10\u001b[0m \u001b[32m━━━━━━━━━━━━━━━━━━━━\u001b[0m\u001b[37m\u001b[0m \u001b[1m0s\u001b[0m 2ms/step - loss: 0.0389 \n",
            "Epoch 92/300\n",
            "\u001b[1m10/10\u001b[0m \u001b[32m━━━━━━━━━━━━━━━━━━━━\u001b[0m\u001b[37m\u001b[0m \u001b[1m0s\u001b[0m 2ms/step - loss: 0.0318 \n",
            "Epoch 93/300\n",
            "\u001b[1m10/10\u001b[0m \u001b[32m━━━━━━━━━━━━━━━━━━━━\u001b[0m\u001b[37m\u001b[0m \u001b[1m0s\u001b[0m 3ms/step - loss: 0.0360 \n",
            "Epoch 94/300\n",
            "\u001b[1m10/10\u001b[0m \u001b[32m━━━━━━━━━━━━━━━━━━━━\u001b[0m\u001b[37m\u001b[0m \u001b[1m0s\u001b[0m 2ms/step - loss: 0.0369 \n",
            "Epoch 95/300\n",
            "\u001b[1m10/10\u001b[0m \u001b[32m━━━━━━━━━━━━━━━━━━━━\u001b[0m\u001b[37m\u001b[0m \u001b[1m0s\u001b[0m 2ms/step - loss: 0.0363 \n",
            "Epoch 96/300\n",
            "\u001b[1m10/10\u001b[0m \u001b[32m━━━━━━━━━━━━━━━━━━━━\u001b[0m\u001b[37m\u001b[0m \u001b[1m0s\u001b[0m 2ms/step - loss: 0.0380 \n",
            "Epoch 97/300\n",
            "\u001b[1m10/10\u001b[0m \u001b[32m━━━━━━━━━━━━━━━━━━━━\u001b[0m\u001b[37m\u001b[0m \u001b[1m0s\u001b[0m 2ms/step - loss: 0.0439 \n",
            "Epoch 98/300\n",
            "\u001b[1m10/10\u001b[0m \u001b[32m━━━━━━━━━━━━━━━━━━━━\u001b[0m\u001b[37m\u001b[0m \u001b[1m0s\u001b[0m 2ms/step - loss: 0.0344 \n",
            "Epoch 99/300\n",
            "\u001b[1m10/10\u001b[0m \u001b[32m━━━━━━━━━━━━━━━━━━━━\u001b[0m\u001b[37m\u001b[0m \u001b[1m0s\u001b[0m 2ms/step - loss: 0.0399 \n",
            "Epoch 100/300\n",
            "\u001b[1m10/10\u001b[0m \u001b[32m━━━━━━━━━━━━━━━━━━━━\u001b[0m\u001b[37m\u001b[0m \u001b[1m0s\u001b[0m 2ms/step - loss: 0.0390 \n",
            "Epoch 101/300\n",
            "\u001b[1m10/10\u001b[0m \u001b[32m━━━━━━━━━━━━━━━━━━━━\u001b[0m\u001b[37m\u001b[0m \u001b[1m0s\u001b[0m 2ms/step - loss: 0.0422 \n",
            "Epoch 102/300\n",
            "\u001b[1m10/10\u001b[0m \u001b[32m━━━━━━━━━━━━━━━━━━━━\u001b[0m\u001b[37m\u001b[0m \u001b[1m0s\u001b[0m 2ms/step - loss: 0.0339 \n",
            "Epoch 103/300\n",
            "\u001b[1m10/10\u001b[0m \u001b[32m━━━━━━━━━━━━━━━━━━━━\u001b[0m\u001b[37m\u001b[0m \u001b[1m0s\u001b[0m 2ms/step - loss: 0.0371 \n",
            "Epoch 104/300\n",
            "\u001b[1m10/10\u001b[0m \u001b[32m━━━━━━━━━━━━━━━━━━━━\u001b[0m\u001b[37m\u001b[0m \u001b[1m0s\u001b[0m 2ms/step - loss: 0.0379 \n",
            "Epoch 105/300\n",
            "\u001b[1m10/10\u001b[0m \u001b[32m━━━━━━━━━━━━━━━━━━━━\u001b[0m\u001b[37m\u001b[0m \u001b[1m0s\u001b[0m 2ms/step - loss: 0.0366 \n",
            "Epoch 106/300\n",
            "\u001b[1m10/10\u001b[0m \u001b[32m━━━━━━━━━━━━━━━━━━━━\u001b[0m\u001b[37m\u001b[0m \u001b[1m0s\u001b[0m 2ms/step - loss: 0.0395 \n",
            "Epoch 107/300\n",
            "\u001b[1m10/10\u001b[0m \u001b[32m━━━━━━━━━━━━━━━━━━━━\u001b[0m\u001b[37m\u001b[0m \u001b[1m0s\u001b[0m 2ms/step - loss: 0.0386 \n",
            "Epoch 108/300\n",
            "\u001b[1m10/10\u001b[0m \u001b[32m━━━━━━━━━━━━━━━━━━━━\u001b[0m\u001b[37m\u001b[0m \u001b[1m0s\u001b[0m 3ms/step - loss: 0.0360 \n",
            "Epoch 109/300\n",
            "\u001b[1m10/10\u001b[0m \u001b[32m━━━━━━━━━━━━━━━━━━━━\u001b[0m\u001b[37m\u001b[0m \u001b[1m0s\u001b[0m 2ms/step - loss: 0.0381 \n",
            "Epoch 110/300\n",
            "\u001b[1m10/10\u001b[0m \u001b[32m━━━━━━━━━━━━━━━━━━━━\u001b[0m\u001b[37m\u001b[0m \u001b[1m0s\u001b[0m 2ms/step - loss: 0.0405 \n",
            "Epoch 111/300\n",
            "\u001b[1m10/10\u001b[0m \u001b[32m━━━━━━━━━━━━━━━━━━━━\u001b[0m\u001b[37m\u001b[0m \u001b[1m0s\u001b[0m 2ms/step - loss: 0.0320 \n",
            "Epoch 112/300\n",
            "\u001b[1m10/10\u001b[0m \u001b[32m━━━━━━━━━━━━━━━━━━━━\u001b[0m\u001b[37m\u001b[0m \u001b[1m0s\u001b[0m 2ms/step - loss: 0.0392 \n",
            "Epoch 113/300\n",
            "\u001b[1m10/10\u001b[0m \u001b[32m━━━━━━━━━━━━━━━━━━━━\u001b[0m\u001b[37m\u001b[0m \u001b[1m0s\u001b[0m 2ms/step - loss: 0.0363 \n",
            "Epoch 114/300\n",
            "\u001b[1m10/10\u001b[0m \u001b[32m━━━━━━━━━━━━━━━━━━━━\u001b[0m\u001b[37m\u001b[0m \u001b[1m0s\u001b[0m 2ms/step - loss: 0.0331 \n",
            "Epoch 115/300\n",
            "\u001b[1m10/10\u001b[0m \u001b[32m━━━━━━━━━━━━━━━━━━━━\u001b[0m\u001b[37m\u001b[0m \u001b[1m0s\u001b[0m 2ms/step - loss: 0.0400 \n",
            "Epoch 116/300\n",
            "\u001b[1m10/10\u001b[0m \u001b[32m━━━━━━━━━━━━━━━━━━━━\u001b[0m\u001b[37m\u001b[0m \u001b[1m0s\u001b[0m 2ms/step - loss: 0.0371 \n",
            "Epoch 117/300\n",
            "\u001b[1m10/10\u001b[0m \u001b[32m━━━━━━━━━━━━━━━━━━━━\u001b[0m\u001b[37m\u001b[0m \u001b[1m0s\u001b[0m 2ms/step - loss: 0.0377 \n",
            "Epoch 118/300\n",
            "\u001b[1m10/10\u001b[0m \u001b[32m━━━━━━━━━━━━━━━━━━━━\u001b[0m\u001b[37m\u001b[0m \u001b[1m0s\u001b[0m 2ms/step - loss: 0.0405 \n",
            "Epoch 119/300\n",
            "\u001b[1m10/10\u001b[0m \u001b[32m━━━━━━━━━━━━━━━━━━━━\u001b[0m\u001b[37m\u001b[0m \u001b[1m0s\u001b[0m 2ms/step - loss: 0.0392 \n",
            "Epoch 120/300\n",
            "\u001b[1m10/10\u001b[0m \u001b[32m━━━━━━━━━━━━━━━━━━━━\u001b[0m\u001b[37m\u001b[0m \u001b[1m0s\u001b[0m 2ms/step - loss: 0.0376 \n",
            "Epoch 121/300\n",
            "\u001b[1m10/10\u001b[0m \u001b[32m━━━━━━━━━━━━━━━━━━━━\u001b[0m\u001b[37m\u001b[0m \u001b[1m0s\u001b[0m 2ms/step - loss: 0.0340 \n",
            "Epoch 122/300\n",
            "\u001b[1m10/10\u001b[0m \u001b[32m━━━━━━━━━━━━━━━━━━━━\u001b[0m\u001b[37m\u001b[0m \u001b[1m0s\u001b[0m 2ms/step - loss: 0.0406 \n",
            "Epoch 123/300\n",
            "\u001b[1m10/10\u001b[0m \u001b[32m━━━━━━━━━━━━━━━━━━━━\u001b[0m\u001b[37m\u001b[0m \u001b[1m0s\u001b[0m 2ms/step - loss: 0.0416 \n",
            "Epoch 124/300\n",
            "\u001b[1m10/10\u001b[0m \u001b[32m━━━━━━━━━━━━━━━━━━━━\u001b[0m\u001b[37m\u001b[0m \u001b[1m0s\u001b[0m 2ms/step - loss: 0.0354 \n",
            "Epoch 125/300\n",
            "\u001b[1m10/10\u001b[0m \u001b[32m━━━━━━━━━━━━━━━━━━━━\u001b[0m\u001b[37m\u001b[0m \u001b[1m0s\u001b[0m 2ms/step - loss: 0.0317 \n",
            "Epoch 126/300\n",
            "\u001b[1m10/10\u001b[0m \u001b[32m━━━━━━━━━━━━━━━━━━━━\u001b[0m\u001b[37m\u001b[0m \u001b[1m0s\u001b[0m 2ms/step - loss: 0.0357 \n",
            "Epoch 127/300\n",
            "\u001b[1m10/10\u001b[0m \u001b[32m━━━━━━━━━━━━━━━━━━━━\u001b[0m\u001b[37m\u001b[0m \u001b[1m0s\u001b[0m 2ms/step - loss: 0.0362 \n",
            "Epoch 128/300\n",
            "\u001b[1m10/10\u001b[0m \u001b[32m━━━━━━━━━━━━━━━━━━━━\u001b[0m\u001b[37m\u001b[0m \u001b[1m0s\u001b[0m 2ms/step - loss: 0.0354 \n",
            "Epoch 129/300\n",
            "\u001b[1m10/10\u001b[0m \u001b[32m━━━━━━━━━━━━━━━━━━━━\u001b[0m\u001b[37m\u001b[0m \u001b[1m0s\u001b[0m 2ms/step - loss: 0.0352 \n",
            "Epoch 130/300\n",
            "\u001b[1m10/10\u001b[0m \u001b[32m━━━━━━━━━━━━━━━━━━━━\u001b[0m\u001b[37m\u001b[0m \u001b[1m0s\u001b[0m 2ms/step - loss: 0.0390 \n",
            "Epoch 131/300\n",
            "\u001b[1m10/10\u001b[0m \u001b[32m━━━━━━━━━━━━━━━━━━━━\u001b[0m\u001b[37m\u001b[0m \u001b[1m0s\u001b[0m 2ms/step - loss: 0.0342 \n",
            "Epoch 132/300\n",
            "\u001b[1m10/10\u001b[0m \u001b[32m━━━━━━━━━━━━━━━━━━━━\u001b[0m\u001b[37m\u001b[0m \u001b[1m0s\u001b[0m 2ms/step - loss: 0.0319 \n",
            "Epoch 133/300\n",
            "\u001b[1m10/10\u001b[0m \u001b[32m━━━━━━━━━━━━━━━━━━━━\u001b[0m\u001b[37m\u001b[0m \u001b[1m0s\u001b[0m 2ms/step - loss: 0.0355 \n",
            "Epoch 134/300\n",
            "\u001b[1m10/10\u001b[0m \u001b[32m━━━━━━━━━━━━━━━━━━━━\u001b[0m\u001b[37m\u001b[0m \u001b[1m0s\u001b[0m 2ms/step - loss: 0.0350 \n",
            "Epoch 135/300\n",
            "\u001b[1m10/10\u001b[0m \u001b[32m━━━━━━━━━━━━━━━━━━━━\u001b[0m\u001b[37m\u001b[0m \u001b[1m0s\u001b[0m 2ms/step - loss: 0.0388 \n",
            "Epoch 136/300\n",
            "\u001b[1m10/10\u001b[0m \u001b[32m━━━━━━━━━━━━━━━━━━━━\u001b[0m\u001b[37m\u001b[0m \u001b[1m0s\u001b[0m 2ms/step - loss: 0.0399 \n",
            "Epoch 137/300\n",
            "\u001b[1m10/10\u001b[0m \u001b[32m━━━━━━━━━━━━━━━━━━━━\u001b[0m\u001b[37m\u001b[0m \u001b[1m0s\u001b[0m 2ms/step - loss: 0.0363 \n",
            "Epoch 138/300\n",
            "\u001b[1m10/10\u001b[0m \u001b[32m━━━━━━━━━━━━━━━━━━━━\u001b[0m\u001b[37m\u001b[0m \u001b[1m0s\u001b[0m 2ms/step - loss: 0.0360 \n",
            "Epoch 139/300\n",
            "\u001b[1m10/10\u001b[0m \u001b[32m━━━━━━━━━━━━━━━━━━━━\u001b[0m\u001b[37m\u001b[0m \u001b[1m0s\u001b[0m 2ms/step - loss: 0.0338 \n",
            "Epoch 140/300\n",
            "\u001b[1m10/10\u001b[0m \u001b[32m━━━━━━━━━━━━━━━━━━━━\u001b[0m\u001b[37m\u001b[0m \u001b[1m0s\u001b[0m 2ms/step - loss: 0.0340 \n",
            "Epoch 141/300\n",
            "\u001b[1m10/10\u001b[0m \u001b[32m━━━━━━━━━━━━━━━━━━━━\u001b[0m\u001b[37m\u001b[0m \u001b[1m0s\u001b[0m 2ms/step - loss: 0.0407 \n",
            "Epoch 142/300\n",
            "\u001b[1m10/10\u001b[0m \u001b[32m━━━━━━━━━━━━━━━━━━━━\u001b[0m\u001b[37m\u001b[0m \u001b[1m0s\u001b[0m 2ms/step - loss: 0.0373 \n",
            "Epoch 143/300\n",
            "\u001b[1m10/10\u001b[0m \u001b[32m━━━━━━━━━━━━━━━━━━━━\u001b[0m\u001b[37m\u001b[0m \u001b[1m0s\u001b[0m 3ms/step - loss: 0.0332 \n",
            "Epoch 144/300\n",
            "\u001b[1m10/10\u001b[0m \u001b[32m━━━━━━━━━━━━━━━━━━━━\u001b[0m\u001b[37m\u001b[0m \u001b[1m0s\u001b[0m 2ms/step - loss: 0.0393  \n",
            "Epoch 145/300\n",
            "\u001b[1m10/10\u001b[0m \u001b[32m━━━━━━━━━━━━━━━━━━━━\u001b[0m\u001b[37m\u001b[0m \u001b[1m0s\u001b[0m 3ms/step - loss: 0.0389 \n",
            "Epoch 146/300\n",
            "\u001b[1m10/10\u001b[0m \u001b[32m━━━━━━━━━━━━━━━━━━━━\u001b[0m\u001b[37m\u001b[0m \u001b[1m0s\u001b[0m 2ms/step - loss: 0.0315  \n",
            "Epoch 147/300\n",
            "\u001b[1m10/10\u001b[0m \u001b[32m━━━━━━━━━━━━━━━━━━━━\u001b[0m\u001b[37m\u001b[0m \u001b[1m0s\u001b[0m 2ms/step - loss: 0.0335 \n",
            "Epoch 148/300\n",
            "\u001b[1m10/10\u001b[0m \u001b[32m━━━━━━━━━━━━━━━━━━━━\u001b[0m\u001b[37m\u001b[0m \u001b[1m0s\u001b[0m 2ms/step - loss: 0.0371 \n",
            "Epoch 149/300\n",
            "\u001b[1m10/10\u001b[0m \u001b[32m━━━━━━━━━━━━━━━━━━━━\u001b[0m\u001b[37m\u001b[0m \u001b[1m0s\u001b[0m 2ms/step - loss: 0.0417 \n",
            "Epoch 150/300\n",
            "\u001b[1m10/10\u001b[0m \u001b[32m━━━━━━━━━━━━━━━━━━━━\u001b[0m\u001b[37m\u001b[0m \u001b[1m0s\u001b[0m 2ms/step - loss: 0.0420 \n",
            "Epoch 151/300\n",
            "\u001b[1m10/10\u001b[0m \u001b[32m━━━━━━━━━━━━━━━━━━━━\u001b[0m\u001b[37m\u001b[0m \u001b[1m0s\u001b[0m 3ms/step - loss: 0.0352 \n",
            "Epoch 152/300\n",
            "\u001b[1m10/10\u001b[0m \u001b[32m━━━━━━━━━━━━━━━━━━━━\u001b[0m\u001b[37m\u001b[0m \u001b[1m0s\u001b[0m 2ms/step - loss: 0.0336 \n",
            "Epoch 153/300\n",
            "\u001b[1m10/10\u001b[0m \u001b[32m━━━━━━━━━━━━━━━━━━━━\u001b[0m\u001b[37m\u001b[0m \u001b[1m0s\u001b[0m 2ms/step - loss: 0.0346 \n",
            "Epoch 154/300\n",
            "\u001b[1m10/10\u001b[0m \u001b[32m━━━━━━━━━━━━━━━━━━━━\u001b[0m\u001b[37m\u001b[0m \u001b[1m0s\u001b[0m 2ms/step - loss: 0.0361 \n",
            "Epoch 155/300\n",
            "\u001b[1m10/10\u001b[0m \u001b[32m━━━━━━━━━━━━━━━━━━━━\u001b[0m\u001b[37m\u001b[0m \u001b[1m0s\u001b[0m 2ms/step - loss: 0.0386 \n",
            "Epoch 156/300\n",
            "\u001b[1m10/10\u001b[0m \u001b[32m━━━━━━━━━━━━━━━━━━━━\u001b[0m\u001b[37m\u001b[0m \u001b[1m0s\u001b[0m 2ms/step - loss: 0.0392 \n",
            "Epoch 157/300\n",
            "\u001b[1m10/10\u001b[0m \u001b[32m━━━━━━━━━━━━━━━━━━━━\u001b[0m\u001b[37m\u001b[0m \u001b[1m0s\u001b[0m 3ms/step - loss: 0.0352 \n",
            "Epoch 158/300\n",
            "\u001b[1m10/10\u001b[0m \u001b[32m━━━━━━━━━━━━━━━━━━━━\u001b[0m\u001b[37m\u001b[0m \u001b[1m0s\u001b[0m 2ms/step - loss: 0.0358 \n",
            "Epoch 159/300\n",
            "\u001b[1m10/10\u001b[0m \u001b[32m━━━━━━━━━━━━━━━━━━━━\u001b[0m\u001b[37m\u001b[0m \u001b[1m0s\u001b[0m 3ms/step - loss: 0.0403 \n",
            "Epoch 160/300\n",
            "\u001b[1m10/10\u001b[0m \u001b[32m━━━━━━━━━━━━━━━━━━━━\u001b[0m\u001b[37m\u001b[0m \u001b[1m0s\u001b[0m 2ms/step - loss: 0.0401 \n",
            "Epoch 161/300\n",
            "\u001b[1m10/10\u001b[0m \u001b[32m━━━━━━━━━━━━━━━━━━━━\u001b[0m\u001b[37m\u001b[0m \u001b[1m0s\u001b[0m 2ms/step - loss: 0.0417 \n",
            "Epoch 162/300\n",
            "\u001b[1m10/10\u001b[0m \u001b[32m━━━━━━━━━━━━━━━━━━━━\u001b[0m\u001b[37m\u001b[0m \u001b[1m0s\u001b[0m 2ms/step - loss: 0.0382 \n",
            "Epoch 163/300\n",
            "\u001b[1m10/10\u001b[0m \u001b[32m━━━━━━━━━━━━━━━━━━━━\u001b[0m\u001b[37m\u001b[0m \u001b[1m0s\u001b[0m 3ms/step - loss: 0.0381 \n",
            "Epoch 164/300\n",
            "\u001b[1m10/10\u001b[0m \u001b[32m━━━━━━━━━━━━━━━━━━━━\u001b[0m\u001b[37m\u001b[0m \u001b[1m0s\u001b[0m 2ms/step - loss: 0.0351 \n",
            "Epoch 165/300\n",
            "\u001b[1m10/10\u001b[0m \u001b[32m━━━━━━━━━━━━━━━━━━━━\u001b[0m\u001b[37m\u001b[0m \u001b[1m0s\u001b[0m 2ms/step - loss: 0.0355 \n",
            "Epoch 166/300\n",
            "\u001b[1m10/10\u001b[0m \u001b[32m━━━━━━━━━━━━━━━━━━━━\u001b[0m\u001b[37m\u001b[0m \u001b[1m0s\u001b[0m 2ms/step - loss: 0.0338 \n",
            "Epoch 167/300\n",
            "\u001b[1m10/10\u001b[0m \u001b[32m━━━━━━━━━━━━━━━━━━━━\u001b[0m\u001b[37m\u001b[0m \u001b[1m0s\u001b[0m 2ms/step - loss: 0.0326 \n",
            "Epoch 168/300\n",
            "\u001b[1m10/10\u001b[0m \u001b[32m━━━━━━━━━━━━━━━━━━━━\u001b[0m\u001b[37m\u001b[0m \u001b[1m0s\u001b[0m 3ms/step - loss: 0.0359 \n",
            "Epoch 169/300\n",
            "\u001b[1m10/10\u001b[0m \u001b[32m━━━━━━━━━━━━━━━━━━━━\u001b[0m\u001b[37m\u001b[0m \u001b[1m0s\u001b[0m 2ms/step - loss: 0.0333 \n",
            "Epoch 170/300\n",
            "\u001b[1m10/10\u001b[0m \u001b[32m━━━━━━━━━━━━━━━━━━━━\u001b[0m\u001b[37m\u001b[0m \u001b[1m0s\u001b[0m 2ms/step - loss: 0.0393 \n",
            "Epoch 171/300\n",
            "\u001b[1m10/10\u001b[0m \u001b[32m━━━━━━━━━━━━━━━━━━━━\u001b[0m\u001b[37m\u001b[0m \u001b[1m0s\u001b[0m 2ms/step - loss: 0.0343 \n",
            "Epoch 172/300\n",
            "\u001b[1m10/10\u001b[0m \u001b[32m━━━━━━━━━━━━━━━━━━━━\u001b[0m\u001b[37m\u001b[0m \u001b[1m0s\u001b[0m 2ms/step - loss: 0.0326 \n",
            "Epoch 173/300\n",
            "\u001b[1m10/10\u001b[0m \u001b[32m━━━━━━━━━━━━━━━━━━━━\u001b[0m\u001b[37m\u001b[0m \u001b[1m0s\u001b[0m 3ms/step - loss: 0.0392 \n",
            "Epoch 174/300\n",
            "\u001b[1m10/10\u001b[0m \u001b[32m━━━━━━━━━━━━━━━━━━━━\u001b[0m\u001b[37m\u001b[0m \u001b[1m0s\u001b[0m 2ms/step - loss: 0.0380 \n",
            "Epoch 175/300\n",
            "\u001b[1m10/10\u001b[0m \u001b[32m━━━━━━━━━━━━━━━━━━━━\u001b[0m\u001b[37m\u001b[0m \u001b[1m0s\u001b[0m 2ms/step - loss: 0.0367 \n",
            "Epoch 176/300\n",
            "\u001b[1m10/10\u001b[0m \u001b[32m━━━━━━━━━━━━━━━━━━━━\u001b[0m\u001b[37m\u001b[0m \u001b[1m0s\u001b[0m 2ms/step - loss: 0.0339 \n",
            "Epoch 177/300\n",
            "\u001b[1m10/10\u001b[0m \u001b[32m━━━━━━━━━━━━━━━━━━━━\u001b[0m\u001b[37m\u001b[0m \u001b[1m0s\u001b[0m 2ms/step - loss: 0.0331 \n",
            "Epoch 178/300\n",
            "\u001b[1m10/10\u001b[0m \u001b[32m━━━━━━━━━━━━━━━━━━━━\u001b[0m\u001b[37m\u001b[0m \u001b[1m0s\u001b[0m 2ms/step - loss: 0.0331 \n",
            "Epoch 179/300\n",
            "\u001b[1m10/10\u001b[0m \u001b[32m━━━━━━━━━━━━━━━━━━━━\u001b[0m\u001b[37m\u001b[0m \u001b[1m0s\u001b[0m 2ms/step - loss: 0.0328 \n",
            "Epoch 180/300\n",
            "\u001b[1m10/10\u001b[0m \u001b[32m━━━━━━━━━━━━━━━━━━━━\u001b[0m\u001b[37m\u001b[0m \u001b[1m0s\u001b[0m 2ms/step - loss: 0.0369 \n",
            "Epoch 181/300\n",
            "\u001b[1m10/10\u001b[0m \u001b[32m━━━━━━━━━━━━━━━━━━━━\u001b[0m\u001b[37m\u001b[0m \u001b[1m0s\u001b[0m 2ms/step - loss: 0.0330 \n",
            "Epoch 182/300\n",
            "\u001b[1m10/10\u001b[0m \u001b[32m━━━━━━━━━━━━━━━━━━━━\u001b[0m\u001b[37m\u001b[0m \u001b[1m0s\u001b[0m 2ms/step - loss: 0.0381 \n",
            "Epoch 183/300\n",
            "\u001b[1m10/10\u001b[0m \u001b[32m━━━━━━━━━━━━━━━━━━━━\u001b[0m\u001b[37m\u001b[0m \u001b[1m0s\u001b[0m 2ms/step - loss: 0.0365 \n",
            "Epoch 184/300\n",
            "\u001b[1m10/10\u001b[0m \u001b[32m━━━━━━━━━━━━━━━━━━━━\u001b[0m\u001b[37m\u001b[0m \u001b[1m0s\u001b[0m 2ms/step - loss: 0.0362 \n",
            "Epoch 185/300\n",
            "\u001b[1m10/10\u001b[0m \u001b[32m━━━━━━━━━━━━━━━━━━━━\u001b[0m\u001b[37m\u001b[0m \u001b[1m0s\u001b[0m 2ms/step - loss: 0.0409 \n",
            "Epoch 186/300\n",
            "\u001b[1m10/10\u001b[0m \u001b[32m━━━━━━━━━━━━━━━━━━━━\u001b[0m\u001b[37m\u001b[0m \u001b[1m0s\u001b[0m 2ms/step - loss: 0.0348 \n",
            "Epoch 187/300\n",
            "\u001b[1m10/10\u001b[0m \u001b[32m━━━━━━━━━━━━━━━━━━━━\u001b[0m\u001b[37m\u001b[0m \u001b[1m0s\u001b[0m 2ms/step - loss: 0.0417 \n",
            "Epoch 188/300\n",
            "\u001b[1m10/10\u001b[0m \u001b[32m━━━━━━━━━━━━━━━━━━━━\u001b[0m\u001b[37m\u001b[0m \u001b[1m0s\u001b[0m 2ms/step - loss: 0.0384 \n",
            "Epoch 189/300\n",
            "\u001b[1m10/10\u001b[0m \u001b[32m━━━━━━━━━━━━━━━━━━━━\u001b[0m\u001b[37m\u001b[0m \u001b[1m0s\u001b[0m 2ms/step - loss: 0.0382 \n",
            "Epoch 190/300\n",
            "\u001b[1m10/10\u001b[0m \u001b[32m━━━━━━━━━━━━━━━━━━━━\u001b[0m\u001b[37m\u001b[0m \u001b[1m0s\u001b[0m 2ms/step - loss: 0.0407 \n",
            "Epoch 191/300\n",
            "\u001b[1m10/10\u001b[0m \u001b[32m━━━━━━━━━━━━━━━━━━━━\u001b[0m\u001b[37m\u001b[0m \u001b[1m0s\u001b[0m 2ms/step - loss: 0.0340 \n",
            "Epoch 192/300\n",
            "\u001b[1m10/10\u001b[0m \u001b[32m━━━━━━━━━━━━━━━━━━━━\u001b[0m\u001b[37m\u001b[0m \u001b[1m0s\u001b[0m 2ms/step - loss: 0.0380 \n",
            "Epoch 193/300\n",
            "\u001b[1m10/10\u001b[0m \u001b[32m━━━━━━━━━━━━━━━━━━━━\u001b[0m\u001b[37m\u001b[0m \u001b[1m0s\u001b[0m 2ms/step - loss: 0.0362 \n",
            "Epoch 194/300\n",
            "\u001b[1m10/10\u001b[0m \u001b[32m━━━━━━━━━━━━━━━━━━━━\u001b[0m\u001b[37m\u001b[0m \u001b[1m0s\u001b[0m 3ms/step - loss: 0.0368 \n",
            "Epoch 195/300\n",
            "\u001b[1m10/10\u001b[0m \u001b[32m━━━━━━━━━━━━━━━━━━━━\u001b[0m\u001b[37m\u001b[0m \u001b[1m0s\u001b[0m 2ms/step - loss: 0.0375 \n",
            "Epoch 196/300\n",
            "\u001b[1m10/10\u001b[0m \u001b[32m━━━━━━━━━━━━━━━━━━━━\u001b[0m\u001b[37m\u001b[0m \u001b[1m0s\u001b[0m 2ms/step - loss: 0.0357 \n",
            "Epoch 197/300\n",
            "\u001b[1m10/10\u001b[0m \u001b[32m━━━━━━━━━━━━━━━━━━━━\u001b[0m\u001b[37m\u001b[0m \u001b[1m0s\u001b[0m 2ms/step - loss: 0.0380 \n",
            "Epoch 198/300\n",
            "\u001b[1m10/10\u001b[0m \u001b[32m━━━━━━━━━━━━━━━━━━━━\u001b[0m\u001b[37m\u001b[0m \u001b[1m0s\u001b[0m 2ms/step - loss: 0.0381 \n",
            "Epoch 199/300\n",
            "\u001b[1m10/10\u001b[0m \u001b[32m━━━━━━━━━━━━━━━━━━━━\u001b[0m\u001b[37m\u001b[0m \u001b[1m0s\u001b[0m 2ms/step - loss: 0.0411 \n",
            "Epoch 200/300\n",
            "\u001b[1m10/10\u001b[0m \u001b[32m━━━━━━━━━━━━━━━━━━━━\u001b[0m\u001b[37m\u001b[0m \u001b[1m0s\u001b[0m 2ms/step - loss: 0.0351 \n",
            "Epoch 201/300\n",
            "\u001b[1m10/10\u001b[0m \u001b[32m━━━━━━━━━━━━━━━━━━━━\u001b[0m\u001b[37m\u001b[0m \u001b[1m0s\u001b[0m 2ms/step - loss: 0.0456 \n",
            "Epoch 202/300\n",
            "\u001b[1m10/10\u001b[0m \u001b[32m━━━━━━━━━━━━━━━━━━━━\u001b[0m\u001b[37m\u001b[0m \u001b[1m0s\u001b[0m 2ms/step - loss: 0.0374 \n",
            "Epoch 203/300\n",
            "\u001b[1m10/10\u001b[0m \u001b[32m━━━━━━━━━━━━━━━━━━━━\u001b[0m\u001b[37m\u001b[0m \u001b[1m0s\u001b[0m 2ms/step - loss: 0.0448 \n",
            "Epoch 204/300\n",
            "\u001b[1m10/10\u001b[0m \u001b[32m━━━━━━━━━━━━━━━━━━━━\u001b[0m\u001b[37m\u001b[0m \u001b[1m0s\u001b[0m 2ms/step - loss: 0.0387 \n",
            "Epoch 205/300\n",
            "\u001b[1m10/10\u001b[0m \u001b[32m━━━━━━━━━━━━━━━━━━━━\u001b[0m\u001b[37m\u001b[0m \u001b[1m0s\u001b[0m 2ms/step - loss: 0.0428 \n",
            "Epoch 206/300\n",
            "\u001b[1m10/10\u001b[0m \u001b[32m━━━━━━━━━━━━━━━━━━━━\u001b[0m\u001b[37m\u001b[0m \u001b[1m0s\u001b[0m 2ms/step - loss: 0.0367 \n",
            "Epoch 207/300\n",
            "\u001b[1m10/10\u001b[0m \u001b[32m━━━━━━━━━━━━━━━━━━━━\u001b[0m\u001b[37m\u001b[0m \u001b[1m0s\u001b[0m 2ms/step - loss: 0.0355 \n",
            "Epoch 208/300\n",
            "\u001b[1m10/10\u001b[0m \u001b[32m━━━━━━━━━━━━━━━━━━━━\u001b[0m\u001b[37m\u001b[0m \u001b[1m0s\u001b[0m 2ms/step - loss: 0.0353 \n",
            "Epoch 209/300\n",
            "\u001b[1m10/10\u001b[0m \u001b[32m━━━━━━━━━━━━━━━━━━━━\u001b[0m\u001b[37m\u001b[0m \u001b[1m0s\u001b[0m 2ms/step - loss: 0.0393 \n",
            "Epoch 210/300\n",
            "\u001b[1m10/10\u001b[0m \u001b[32m━━━━━━━━━━━━━━━━━━━━\u001b[0m\u001b[37m\u001b[0m \u001b[1m0s\u001b[0m 2ms/step - loss: 0.0341 \n",
            "Epoch 211/300\n",
            "\u001b[1m10/10\u001b[0m \u001b[32m━━━━━━━━━━━━━━━━━━━━\u001b[0m\u001b[37m\u001b[0m \u001b[1m0s\u001b[0m 2ms/step - loss: 0.0393 \n",
            "Epoch 212/300\n",
            "\u001b[1m10/10\u001b[0m \u001b[32m━━━━━━━━━━━━━━━━━━━━\u001b[0m\u001b[37m\u001b[0m \u001b[1m0s\u001b[0m 2ms/step - loss: 0.0354 \n",
            "Epoch 213/300\n",
            "\u001b[1m10/10\u001b[0m \u001b[32m━━━━━━━━━━━━━━━━━━━━\u001b[0m\u001b[37m\u001b[0m \u001b[1m0s\u001b[0m 2ms/step - loss: 0.0396 \n",
            "Epoch 214/300\n",
            "\u001b[1m10/10\u001b[0m \u001b[32m━━━━━━━━━━━━━━━━━━━━\u001b[0m\u001b[37m\u001b[0m \u001b[1m0s\u001b[0m 2ms/step - loss: 0.0379 \n",
            "Epoch 215/300\n",
            "\u001b[1m10/10\u001b[0m \u001b[32m━━━━━━━━━━━━━━━━━━━━\u001b[0m\u001b[37m\u001b[0m \u001b[1m0s\u001b[0m 2ms/step - loss: 0.0401 \n",
            "Epoch 216/300\n",
            "\u001b[1m10/10\u001b[0m \u001b[32m━━━━━━━━━━━━━━━━━━━━\u001b[0m\u001b[37m\u001b[0m \u001b[1m0s\u001b[0m 2ms/step - loss: 0.0397 \n",
            "Epoch 217/300\n",
            "\u001b[1m10/10\u001b[0m \u001b[32m━━━━━━━━━━━━━━━━━━━━\u001b[0m\u001b[37m\u001b[0m \u001b[1m0s\u001b[0m 2ms/step - loss: 0.0348 \n",
            "Epoch 218/300\n",
            "\u001b[1m10/10\u001b[0m \u001b[32m━━━━━━━━━━━━━━━━━━━━\u001b[0m\u001b[37m\u001b[0m \u001b[1m0s\u001b[0m 2ms/step - loss: 0.0396 \n",
            "Epoch 219/300\n",
            "\u001b[1m10/10\u001b[0m \u001b[32m━━━━━━━━━━━━━━━━━━━━\u001b[0m\u001b[37m\u001b[0m \u001b[1m0s\u001b[0m 2ms/step - loss: 0.0362 \n",
            "Epoch 220/300\n",
            "\u001b[1m10/10\u001b[0m \u001b[32m━━━━━━━━━━━━━━━━━━━━\u001b[0m\u001b[37m\u001b[0m \u001b[1m0s\u001b[0m 3ms/step - loss: 0.0369 \n",
            "Epoch 221/300\n",
            "\u001b[1m10/10\u001b[0m \u001b[32m━━━━━━━━━━━━━━━━━━━━\u001b[0m\u001b[37m\u001b[0m \u001b[1m0s\u001b[0m 2ms/step - loss: 0.0352 \n",
            "Epoch 222/300\n",
            "\u001b[1m10/10\u001b[0m \u001b[32m━━━━━━━━━━━━━━━━━━━━\u001b[0m\u001b[37m\u001b[0m \u001b[1m0s\u001b[0m 3ms/step - loss: 0.0382 \n",
            "Epoch 223/300\n",
            "\u001b[1m10/10\u001b[0m \u001b[32m━━━━━━━━━━━━━━━━━━━━\u001b[0m\u001b[37m\u001b[0m \u001b[1m0s\u001b[0m 3ms/step - loss: 0.0458 \n",
            "Epoch 224/300\n",
            "\u001b[1m10/10\u001b[0m \u001b[32m━━━━━━━━━━━━━━━━━━━━\u001b[0m\u001b[37m\u001b[0m \u001b[1m0s\u001b[0m 2ms/step - loss: 0.0336 \n",
            "Epoch 225/300\n",
            "\u001b[1m10/10\u001b[0m \u001b[32m━━━━━━━━━━━━━━━━━━━━\u001b[0m\u001b[37m\u001b[0m \u001b[1m0s\u001b[0m 2ms/step - loss: 0.0352 \n",
            "Epoch 226/300\n",
            "\u001b[1m10/10\u001b[0m \u001b[32m━━━━━━━━━━━━━━━━━━━━\u001b[0m\u001b[37m\u001b[0m \u001b[1m0s\u001b[0m 2ms/step - loss: 0.0411 \n",
            "Epoch 227/300\n",
            "\u001b[1m10/10\u001b[0m \u001b[32m━━━━━━━━━━━━━━━━━━━━\u001b[0m\u001b[37m\u001b[0m \u001b[1m0s\u001b[0m 3ms/step - loss: 0.0383 \n",
            "Epoch 228/300\n",
            "\u001b[1m10/10\u001b[0m \u001b[32m━━━━━━━━━━━━━━━━━━━━\u001b[0m\u001b[37m\u001b[0m \u001b[1m0s\u001b[0m 2ms/step - loss: 0.0352 \n",
            "Epoch 229/300\n",
            "\u001b[1m10/10\u001b[0m \u001b[32m━━━━━━━━━━━━━━━━━━━━\u001b[0m\u001b[37m\u001b[0m \u001b[1m0s\u001b[0m 2ms/step - loss: 0.0363 \n",
            "Epoch 230/300\n",
            "\u001b[1m10/10\u001b[0m \u001b[32m━━━━━━━━━━━━━━━━━━━━\u001b[0m\u001b[37m\u001b[0m \u001b[1m0s\u001b[0m 2ms/step - loss: 0.0389 \n",
            "Epoch 231/300\n",
            "\u001b[1m10/10\u001b[0m \u001b[32m━━━━━━━━━━━━━━━━━━━━\u001b[0m\u001b[37m\u001b[0m \u001b[1m0s\u001b[0m 2ms/step - loss: 0.0366 \n",
            "Epoch 232/300\n",
            "\u001b[1m10/10\u001b[0m \u001b[32m━━━━━━━━━━━━━━━━━━━━\u001b[0m\u001b[37m\u001b[0m \u001b[1m0s\u001b[0m 2ms/step - loss: 0.0374 \n",
            "Epoch 233/300\n",
            "\u001b[1m10/10\u001b[0m \u001b[32m━━━━━━━━━━━━━━━━━━━━\u001b[0m\u001b[37m\u001b[0m \u001b[1m0s\u001b[0m 2ms/step - loss: 0.0402 \n",
            "Epoch 234/300\n",
            "\u001b[1m10/10\u001b[0m \u001b[32m━━━━━━━━━━━━━━━━━━━━\u001b[0m\u001b[37m\u001b[0m \u001b[1m0s\u001b[0m 2ms/step - loss: 0.0443 \n",
            "Epoch 235/300\n",
            "\u001b[1m10/10\u001b[0m \u001b[32m━━━━━━━━━━━━━━━━━━━━\u001b[0m\u001b[37m\u001b[0m \u001b[1m0s\u001b[0m 3ms/step - loss: 0.0407 \n",
            "Epoch 236/300\n",
            "\u001b[1m10/10\u001b[0m \u001b[32m━━━━━━━━━━━━━━━━━━━━\u001b[0m\u001b[37m\u001b[0m \u001b[1m0s\u001b[0m 3ms/step - loss: 0.0420  \n",
            "Epoch 237/300\n",
            "\u001b[1m10/10\u001b[0m \u001b[32m━━━━━━━━━━━━━━━━━━━━\u001b[0m\u001b[37m\u001b[0m \u001b[1m0s\u001b[0m 4ms/step - loss: 0.0352  \n",
            "Epoch 238/300\n",
            "\u001b[1m10/10\u001b[0m \u001b[32m━━━━━━━━━━━━━━━━━━━━\u001b[0m\u001b[37m\u001b[0m \u001b[1m0s\u001b[0m 3ms/step - loss: 0.0343  \n",
            "Epoch 239/300\n",
            "\u001b[1m10/10\u001b[0m \u001b[32m━━━━━━━━━━━━━━━━━━━━\u001b[0m\u001b[37m\u001b[0m \u001b[1m0s\u001b[0m 3ms/step - loss: 0.0350  \n",
            "Epoch 240/300\n",
            "\u001b[1m10/10\u001b[0m \u001b[32m━━━━━━━━━━━━━━━━━━━━\u001b[0m\u001b[37m\u001b[0m \u001b[1m0s\u001b[0m 2ms/step - loss: 0.0373 \n",
            "Epoch 241/300\n",
            "\u001b[1m10/10\u001b[0m \u001b[32m━━━━━━━━━━━━━━━━━━━━\u001b[0m\u001b[37m\u001b[0m \u001b[1m0s\u001b[0m 2ms/step - loss: 0.0312 \n",
            "Epoch 242/300\n",
            "\u001b[1m10/10\u001b[0m \u001b[32m━━━━━━━━━━━━━━━━━━━━\u001b[0m\u001b[37m\u001b[0m \u001b[1m0s\u001b[0m 3ms/step - loss: 0.0475 \n",
            "Epoch 243/300\n",
            "\u001b[1m10/10\u001b[0m \u001b[32m━━━━━━━━━━━━━━━━━━━━\u001b[0m\u001b[37m\u001b[0m \u001b[1m0s\u001b[0m 3ms/step - loss: 0.0340 \n",
            "Epoch 244/300\n",
            "\u001b[1m10/10\u001b[0m \u001b[32m━━━━━━━━━━━━━━━━━━━━\u001b[0m\u001b[37m\u001b[0m \u001b[1m0s\u001b[0m 3ms/step - loss: 0.0410 \n",
            "Epoch 245/300\n",
            "\u001b[1m10/10\u001b[0m \u001b[32m━━━━━━━━━━━━━━━━━━━━\u001b[0m\u001b[37m\u001b[0m \u001b[1m0s\u001b[0m 3ms/step - loss: 0.0418 \n",
            "Epoch 246/300\n",
            "\u001b[1m10/10\u001b[0m \u001b[32m━━━━━━━━━━━━━━━━━━━━\u001b[0m\u001b[37m\u001b[0m \u001b[1m0s\u001b[0m 2ms/step - loss: 0.0397  \n",
            "Epoch 247/300\n",
            "\u001b[1m10/10\u001b[0m \u001b[32m━━━━━━━━━━━━━━━━━━━━\u001b[0m\u001b[37m\u001b[0m \u001b[1m0s\u001b[0m 2ms/step - loss: 0.0363 \n",
            "Epoch 248/300\n",
            "\u001b[1m10/10\u001b[0m \u001b[32m━━━━━━━━━━━━━━━━━━━━\u001b[0m\u001b[37m\u001b[0m \u001b[1m0s\u001b[0m 4ms/step - loss: 0.0378 \n",
            "Epoch 249/300\n",
            "\u001b[1m10/10\u001b[0m \u001b[32m━━━━━━━━━━━━━━━━━━━━\u001b[0m\u001b[37m\u001b[0m \u001b[1m0s\u001b[0m 3ms/step - loss: 0.0311 \n",
            "Epoch 250/300\n",
            "\u001b[1m10/10\u001b[0m \u001b[32m━━━━━━━━━━━━━━━━━━━━\u001b[0m\u001b[37m\u001b[0m \u001b[1m0s\u001b[0m 3ms/step - loss: 0.0389  \n",
            "Epoch 251/300\n",
            "\u001b[1m10/10\u001b[0m \u001b[32m━━━━━━━━━━━━━━━━━━━━\u001b[0m\u001b[37m\u001b[0m \u001b[1m0s\u001b[0m 3ms/step - loss: 0.0352  \n",
            "Epoch 252/300\n",
            "\u001b[1m10/10\u001b[0m \u001b[32m━━━━━━━━━━━━━━━━━━━━\u001b[0m\u001b[37m\u001b[0m \u001b[1m0s\u001b[0m 4ms/step - loss: 0.0384  \n",
            "Epoch 253/300\n",
            "\u001b[1m10/10\u001b[0m \u001b[32m━━━━━━━━━━━━━━━━━━━━\u001b[0m\u001b[37m\u001b[0m \u001b[1m0s\u001b[0m 3ms/step - loss: 0.0409  \n",
            "Epoch 254/300\n",
            "\u001b[1m10/10\u001b[0m \u001b[32m━━━━━━━━━━━━━━━━━━━━\u001b[0m\u001b[37m\u001b[0m \u001b[1m0s\u001b[0m 2ms/step - loss: 0.0361  \n",
            "Epoch 255/300\n",
            "\u001b[1m10/10\u001b[0m \u001b[32m━━━━━━━━━━━━━━━━━━━━\u001b[0m\u001b[37m\u001b[0m \u001b[1m0s\u001b[0m 3ms/step - loss: 0.0384  \n",
            "Epoch 256/300\n",
            "\u001b[1m10/10\u001b[0m \u001b[32m━━━━━━━━━━━━━━━━━━━━\u001b[0m\u001b[37m\u001b[0m \u001b[1m0s\u001b[0m 3ms/step - loss: 0.0399  \n",
            "Epoch 257/300\n",
            "\u001b[1m10/10\u001b[0m \u001b[32m━━━━━━━━━━━━━━━━━━━━\u001b[0m\u001b[37m\u001b[0m \u001b[1m0s\u001b[0m 4ms/step - loss: 0.0340  \n",
            "Epoch 258/300\n",
            "\u001b[1m10/10\u001b[0m \u001b[32m━━━━━━━━━━━━━━━━━━━━\u001b[0m\u001b[37m\u001b[0m \u001b[1m0s\u001b[0m 3ms/step - loss: 0.0416  \n",
            "Epoch 259/300\n",
            "\u001b[1m10/10\u001b[0m \u001b[32m━━━━━━━━━━━━━━━━━━━━\u001b[0m\u001b[37m\u001b[0m \u001b[1m0s\u001b[0m 2ms/step - loss: 0.0412  \n",
            "Epoch 260/300\n",
            "\u001b[1m10/10\u001b[0m \u001b[32m━━━━━━━━━━━━━━━━━━━━\u001b[0m\u001b[37m\u001b[0m \u001b[1m0s\u001b[0m 2ms/step - loss: 0.0351 \n",
            "Epoch 261/300\n",
            "\u001b[1m10/10\u001b[0m \u001b[32m━━━━━━━━━━━━━━━━━━━━\u001b[0m\u001b[37m\u001b[0m \u001b[1m0s\u001b[0m 2ms/step - loss: 0.0427 \n",
            "Epoch 262/300\n",
            "\u001b[1m10/10\u001b[0m \u001b[32m━━━━━━━━━━━━━━━━━━━━\u001b[0m\u001b[37m\u001b[0m \u001b[1m0s\u001b[0m 2ms/step - loss: 0.0437 \n",
            "Epoch 263/300\n",
            "\u001b[1m10/10\u001b[0m \u001b[32m━━━━━━━━━━━━━━━━━━━━\u001b[0m\u001b[37m\u001b[0m \u001b[1m0s\u001b[0m 2ms/step - loss: 0.0354 \n",
            "Epoch 264/300\n",
            "\u001b[1m10/10\u001b[0m \u001b[32m━━━━━━━━━━━━━━━━━━━━\u001b[0m\u001b[37m\u001b[0m \u001b[1m0s\u001b[0m 2ms/step - loss: 0.0311 \n",
            "Epoch 265/300\n",
            "\u001b[1m10/10\u001b[0m \u001b[32m━━━━━━━━━━━━━━━━━━━━\u001b[0m\u001b[37m\u001b[0m \u001b[1m0s\u001b[0m 2ms/step - loss: 0.0357 \n",
            "Epoch 266/300\n",
            "\u001b[1m10/10\u001b[0m \u001b[32m━━━━━━━━━━━━━━━━━━━━\u001b[0m\u001b[37m\u001b[0m \u001b[1m0s\u001b[0m 2ms/step - loss: 0.0411 \n",
            "Epoch 267/300\n",
            "\u001b[1m10/10\u001b[0m \u001b[32m━━━━━━━━━━━━━━━━━━━━\u001b[0m\u001b[37m\u001b[0m \u001b[1m0s\u001b[0m 2ms/step - loss: 0.0372 \n",
            "Epoch 268/300\n",
            "\u001b[1m10/10\u001b[0m \u001b[32m━━━━━━━━━━━━━━━━━━━━\u001b[0m\u001b[37m\u001b[0m \u001b[1m0s\u001b[0m 2ms/step - loss: 0.0322 \n",
            "Epoch 269/300\n",
            "\u001b[1m10/10\u001b[0m \u001b[32m━━━━━━━━━━━━━━━━━━━━\u001b[0m\u001b[37m\u001b[0m \u001b[1m0s\u001b[0m 3ms/step - loss: 0.0333  \n",
            "Epoch 270/300\n",
            "\u001b[1m10/10\u001b[0m \u001b[32m━━━━━━━━━━━━━━━━━━━━\u001b[0m\u001b[37m\u001b[0m \u001b[1m0s\u001b[0m 2ms/step - loss: 0.0332 \n",
            "Epoch 271/300\n",
            "\u001b[1m10/10\u001b[0m \u001b[32m━━━━━━━━━━━━━━━━━━━━\u001b[0m\u001b[37m\u001b[0m \u001b[1m0s\u001b[0m 2ms/step - loss: 0.0324 \n",
            "Epoch 272/300\n",
            "\u001b[1m10/10\u001b[0m \u001b[32m━━━━━━━━━━━━━━━━━━━━\u001b[0m\u001b[37m\u001b[0m \u001b[1m0s\u001b[0m 2ms/step - loss: 0.0389 \n",
            "Epoch 273/300\n",
            "\u001b[1m10/10\u001b[0m \u001b[32m━━━━━━━━━━━━━━━━━━━━\u001b[0m\u001b[37m\u001b[0m \u001b[1m0s\u001b[0m 2ms/step - loss: 0.0359 \n",
            "Epoch 274/300\n",
            "\u001b[1m10/10\u001b[0m \u001b[32m━━━━━━━━━━━━━━━━━━━━\u001b[0m\u001b[37m\u001b[0m \u001b[1m0s\u001b[0m 2ms/step - loss: 0.0346 \n",
            "Epoch 275/300\n",
            "\u001b[1m10/10\u001b[0m \u001b[32m━━━━━━━━━━━━━━━━━━━━\u001b[0m\u001b[37m\u001b[0m \u001b[1m0s\u001b[0m 2ms/step - loss: 0.0383 \n",
            "Epoch 276/300\n",
            "\u001b[1m10/10\u001b[0m \u001b[32m━━━━━━━━━━━━━━━━━━━━\u001b[0m\u001b[37m\u001b[0m \u001b[1m0s\u001b[0m 2ms/step - loss: 0.0390 \n",
            "Epoch 277/300\n",
            "\u001b[1m10/10\u001b[0m \u001b[32m━━━━━━━━━━━━━━━━━━━━\u001b[0m\u001b[37m\u001b[0m \u001b[1m0s\u001b[0m 2ms/step - loss: 0.0333 \n",
            "Epoch 278/300\n",
            "\u001b[1m10/10\u001b[0m \u001b[32m━━━━━━━━━━━━━━━━━━━━\u001b[0m\u001b[37m\u001b[0m \u001b[1m0s\u001b[0m 2ms/step - loss: 0.0380 \n",
            "Epoch 279/300\n",
            "\u001b[1m10/10\u001b[0m \u001b[32m━━━━━━━━━━━━━━━━━━━━\u001b[0m\u001b[37m\u001b[0m \u001b[1m0s\u001b[0m 2ms/step - loss: 0.0361 \n",
            "Epoch 280/300\n",
            "\u001b[1m10/10\u001b[0m \u001b[32m━━━━━━━━━━━━━━━━━━━━\u001b[0m\u001b[37m\u001b[0m \u001b[1m0s\u001b[0m 2ms/step - loss: 0.0368 \n",
            "Epoch 281/300\n",
            "\u001b[1m10/10\u001b[0m \u001b[32m━━━━━━━━━━━━━━━━━━━━\u001b[0m\u001b[37m\u001b[0m \u001b[1m0s\u001b[0m 2ms/step - loss: 0.0346 \n",
            "Epoch 282/300\n",
            "\u001b[1m10/10\u001b[0m \u001b[32m━━━━━━━━━━━━━━━━━━━━\u001b[0m\u001b[37m\u001b[0m \u001b[1m0s\u001b[0m 2ms/step - loss: 0.0408 \n",
            "Epoch 283/300\n",
            "\u001b[1m10/10\u001b[0m \u001b[32m━━━━━━━━━━━━━━━━━━━━\u001b[0m\u001b[37m\u001b[0m \u001b[1m0s\u001b[0m 3ms/step - loss: 0.0402 \n",
            "Epoch 284/300\n",
            "\u001b[1m10/10\u001b[0m \u001b[32m━━━━━━━━━━━━━━━━━━━━\u001b[0m\u001b[37m\u001b[0m \u001b[1m0s\u001b[0m 3ms/step - loss: 0.0382 \n",
            "Epoch 285/300\n",
            "\u001b[1m10/10\u001b[0m \u001b[32m━━━━━━━━━━━━━━━━━━━━\u001b[0m\u001b[37m\u001b[0m \u001b[1m0s\u001b[0m 2ms/step - loss: 0.0356 \n",
            "Epoch 286/300\n",
            "\u001b[1m10/10\u001b[0m \u001b[32m━━━━━━━━━━━━━━━━━━━━\u001b[0m\u001b[37m\u001b[0m \u001b[1m0s\u001b[0m 2ms/step - loss: 0.0389 \n",
            "Epoch 287/300\n",
            "\u001b[1m10/10\u001b[0m \u001b[32m━━━━━━━━━━━━━━━━━━━━\u001b[0m\u001b[37m\u001b[0m \u001b[1m0s\u001b[0m 2ms/step - loss: 0.0416 \n",
            "Epoch 288/300\n",
            "\u001b[1m10/10\u001b[0m \u001b[32m━━━━━━━━━━━━━━━━━━━━\u001b[0m\u001b[37m\u001b[0m \u001b[1m0s\u001b[0m 2ms/step - loss: 0.0404 \n",
            "Epoch 289/300\n",
            "\u001b[1m10/10\u001b[0m \u001b[32m━━━━━━━━━━━━━━━━━━━━\u001b[0m\u001b[37m\u001b[0m \u001b[1m0s\u001b[0m 3ms/step - loss: 0.0408 \n",
            "Epoch 290/300\n",
            "\u001b[1m10/10\u001b[0m \u001b[32m━━━━━━━━━━━━━━━━━━━━\u001b[0m\u001b[37m\u001b[0m \u001b[1m0s\u001b[0m 2ms/step - loss: 0.0348 \n",
            "Epoch 291/300\n",
            "\u001b[1m10/10\u001b[0m \u001b[32m━━━━━━━━━━━━━━━━━━━━\u001b[0m\u001b[37m\u001b[0m \u001b[1m0s\u001b[0m 2ms/step - loss: 0.0385 \n",
            "Epoch 292/300\n",
            "\u001b[1m10/10\u001b[0m \u001b[32m━━━━━━━━━━━━━━━━━━━━\u001b[0m\u001b[37m\u001b[0m \u001b[1m0s\u001b[0m 2ms/step - loss: 0.0348 \n",
            "Epoch 293/300\n",
            "\u001b[1m10/10\u001b[0m \u001b[32m━━━━━━━━━━━━━━━━━━━━\u001b[0m\u001b[37m\u001b[0m \u001b[1m0s\u001b[0m 2ms/step - loss: 0.0346 \n",
            "Epoch 294/300\n",
            "\u001b[1m10/10\u001b[0m \u001b[32m━━━━━━━━━━━━━━━━━━━━\u001b[0m\u001b[37m\u001b[0m \u001b[1m0s\u001b[0m 2ms/step - loss: 0.0317 \n",
            "Epoch 295/300\n",
            "\u001b[1m10/10\u001b[0m \u001b[32m━━━━━━━━━━━━━━━━━━━━\u001b[0m\u001b[37m\u001b[0m \u001b[1m0s\u001b[0m 2ms/step - loss: 0.0355 \n",
            "Epoch 296/300\n",
            "\u001b[1m10/10\u001b[0m \u001b[32m━━━━━━━━━━━━━━━━━━━━\u001b[0m\u001b[37m\u001b[0m \u001b[1m0s\u001b[0m 2ms/step - loss: 0.0333 \n",
            "Epoch 297/300\n",
            "\u001b[1m10/10\u001b[0m \u001b[32m━━━━━━━━━━━━━━━━━━━━\u001b[0m\u001b[37m\u001b[0m \u001b[1m0s\u001b[0m 2ms/step - loss: 0.0442 \n",
            "Epoch 298/300\n",
            "\u001b[1m10/10\u001b[0m \u001b[32m━━━━━━━━━━━━━━━━━━━━\u001b[0m\u001b[37m\u001b[0m \u001b[1m0s\u001b[0m 2ms/step - loss: 0.0366 \n",
            "Epoch 299/300\n",
            "\u001b[1m10/10\u001b[0m \u001b[32m━━━━━━━━━━━━━━━━━━━━\u001b[0m\u001b[37m\u001b[0m \u001b[1m0s\u001b[0m 2ms/step - loss: 0.0394 \n",
            "Epoch 300/300\n",
            "\u001b[1m10/10\u001b[0m \u001b[32m━━━━━━━━━━━━━━━━━━━━\u001b[0m\u001b[37m\u001b[0m \u001b[1m0s\u001b[0m 2ms/step - loss: 0.0362 \n"
          ]
        },
        {
          "output_type": "execute_result",
          "data": {
            "text/plain": [
              "<keras.src.callbacks.history.History at 0x7d9508b07130>"
            ]
          },
          "metadata": {},
          "execution_count": 105
        }
      ],
      "source": [
        "model = tf.keras.Sequential([\n",
        "    keras.layers.Dense(units=5, activation='relu', input_shape=(1,)),\n",
        "    keras.layers.Dense(units=5, activation='relu'),\n",
        "    keras.layers.Dense(units=1)\n",
        "])\n",
        "\n",
        "model.compile(optimizer=\"adam\", loss=\"mean_squared_error\")\n",
        "model.fit(x,y,epochs=300, batch_size=10)"
      ]
    },
    {
      "cell_type": "code",
      "execution_count": null,
      "metadata": {
        "id": "YXemXqt4JxSv",
        "outputId": "b63a9070-2413-43a5-e7aa-c681f0e10b42",
        "colab": {
          "base_uri": "https://localhost:8080/",
          "height": 255
        }
      },
      "outputs": [
        {
          "output_type": "display_data",
          "data": {
            "text/plain": [
              "\u001b[1mModel: \"sequential_9\"\u001b[0m\n"
            ],
            "text/html": [
              "<pre style=\"white-space:pre;overflow-x:auto;line-height:normal;font-family:Menlo,'DejaVu Sans Mono',consolas,'Courier New',monospace\"><span style=\"font-weight: bold\">Model: \"sequential_9\"</span>\n",
              "</pre>\n"
            ]
          },
          "metadata": {}
        },
        {
          "output_type": "display_data",
          "data": {
            "text/plain": [
              "┏━━━━━━━━━━━━━━━━━━━━━━━━━━━━━━━━━━━━━━┳━━━━━━━━━━━━━━━━━━━━━━━━━━━━━┳━━━━━━━━━━━━━━━━━┓\n",
              "┃\u001b[1m \u001b[0m\u001b[1mLayer (type)                        \u001b[0m\u001b[1m \u001b[0m┃\u001b[1m \u001b[0m\u001b[1mOutput Shape               \u001b[0m\u001b[1m \u001b[0m┃\u001b[1m \u001b[0m\u001b[1m        Param #\u001b[0m\u001b[1m \u001b[0m┃\n",
              "┡━━━━━━━━━━━━━━━━━━━━━━━━━━━━━━━━━━━━━━╇━━━━━━━━━━━━━━━━━━━━━━━━━━━━━╇━━━━━━━━━━━━━━━━━┩\n",
              "│ dense_15 (\u001b[38;5;33mDense\u001b[0m)                     │ (\u001b[38;5;45mNone\u001b[0m, \u001b[38;5;34m5\u001b[0m)                   │              \u001b[38;5;34m10\u001b[0m │\n",
              "├──────────────────────────────────────┼─────────────────────────────┼─────────────────┤\n",
              "│ dense_16 (\u001b[38;5;33mDense\u001b[0m)                     │ (\u001b[38;5;45mNone\u001b[0m, \u001b[38;5;34m5\u001b[0m)                   │              \u001b[38;5;34m30\u001b[0m │\n",
              "├──────────────────────────────────────┼─────────────────────────────┼─────────────────┤\n",
              "│ dense_17 (\u001b[38;5;33mDense\u001b[0m)                     │ (\u001b[38;5;45mNone\u001b[0m, \u001b[38;5;34m1\u001b[0m)                   │               \u001b[38;5;34m6\u001b[0m │\n",
              "└──────────────────────────────────────┴─────────────────────────────┴─────────────────┘\n"
            ],
            "text/html": [
              "<pre style=\"white-space:pre;overflow-x:auto;line-height:normal;font-family:Menlo,'DejaVu Sans Mono',consolas,'Courier New',monospace\">┏━━━━━━━━━━━━━━━━━━━━━━━━━━━━━━━━━━━━━━┳━━━━━━━━━━━━━━━━━━━━━━━━━━━━━┳━━━━━━━━━━━━━━━━━┓\n",
              "┃<span style=\"font-weight: bold\"> Layer (type)                         </span>┃<span style=\"font-weight: bold\"> Output Shape                </span>┃<span style=\"font-weight: bold\">         Param # </span>┃\n",
              "┡━━━━━━━━━━━━━━━━━━━━━━━━━━━━━━━━━━━━━━╇━━━━━━━━━━━━━━━━━━━━━━━━━━━━━╇━━━━━━━━━━━━━━━━━┩\n",
              "│ dense_15 (<span style=\"color: #0087ff; text-decoration-color: #0087ff\">Dense</span>)                     │ (<span style=\"color: #00d7ff; text-decoration-color: #00d7ff\">None</span>, <span style=\"color: #00af00; text-decoration-color: #00af00\">5</span>)                   │              <span style=\"color: #00af00; text-decoration-color: #00af00\">10</span> │\n",
              "├──────────────────────────────────────┼─────────────────────────────┼─────────────────┤\n",
              "│ dense_16 (<span style=\"color: #0087ff; text-decoration-color: #0087ff\">Dense</span>)                     │ (<span style=\"color: #00d7ff; text-decoration-color: #00d7ff\">None</span>, <span style=\"color: #00af00; text-decoration-color: #00af00\">5</span>)                   │              <span style=\"color: #00af00; text-decoration-color: #00af00\">30</span> │\n",
              "├──────────────────────────────────────┼─────────────────────────────┼─────────────────┤\n",
              "│ dense_17 (<span style=\"color: #0087ff; text-decoration-color: #0087ff\">Dense</span>)                     │ (<span style=\"color: #00d7ff; text-decoration-color: #00d7ff\">None</span>, <span style=\"color: #00af00; text-decoration-color: #00af00\">1</span>)                   │               <span style=\"color: #00af00; text-decoration-color: #00af00\">6</span> │\n",
              "└──────────────────────────────────────┴─────────────────────────────┴─────────────────┘\n",
              "</pre>\n"
            ]
          },
          "metadata": {}
        },
        {
          "output_type": "display_data",
          "data": {
            "text/plain": [
              "\u001b[1m Total params: \u001b[0m\u001b[38;5;34m140\u001b[0m (564.00 B)\n"
            ],
            "text/html": [
              "<pre style=\"white-space:pre;overflow-x:auto;line-height:normal;font-family:Menlo,'DejaVu Sans Mono',consolas,'Courier New',monospace\"><span style=\"font-weight: bold\"> Total params: </span><span style=\"color: #00af00; text-decoration-color: #00af00\">140</span> (564.00 B)\n",
              "</pre>\n"
            ]
          },
          "metadata": {}
        },
        {
          "output_type": "display_data",
          "data": {
            "text/plain": [
              "\u001b[1m Trainable params: \u001b[0m\u001b[38;5;34m46\u001b[0m (184.00 B)\n"
            ],
            "text/html": [
              "<pre style=\"white-space:pre;overflow-x:auto;line-height:normal;font-family:Menlo,'DejaVu Sans Mono',consolas,'Courier New',monospace\"><span style=\"font-weight: bold\"> Trainable params: </span><span style=\"color: #00af00; text-decoration-color: #00af00\">46</span> (184.00 B)\n",
              "</pre>\n"
            ]
          },
          "metadata": {}
        },
        {
          "output_type": "display_data",
          "data": {
            "text/plain": [
              "\u001b[1m Non-trainable params: \u001b[0m\u001b[38;5;34m0\u001b[0m (0.00 B)\n"
            ],
            "text/html": [
              "<pre style=\"white-space:pre;overflow-x:auto;line-height:normal;font-family:Menlo,'DejaVu Sans Mono',consolas,'Courier New',monospace\"><span style=\"font-weight: bold\"> Non-trainable params: </span><span style=\"color: #00af00; text-decoration-color: #00af00\">0</span> (0.00 B)\n",
              "</pre>\n"
            ]
          },
          "metadata": {}
        },
        {
          "output_type": "display_data",
          "data": {
            "text/plain": [
              "\u001b[1m Optimizer params: \u001b[0m\u001b[38;5;34m94\u001b[0m (380.00 B)\n"
            ],
            "text/html": [
              "<pre style=\"white-space:pre;overflow-x:auto;line-height:normal;font-family:Menlo,'DejaVu Sans Mono',consolas,'Courier New',monospace\"><span style=\"font-weight: bold\"> Optimizer params: </span><span style=\"color: #00af00; text-decoration-color: #00af00\">94</span> (380.00 B)\n",
              "</pre>\n"
            ]
          },
          "metadata": {}
        }
      ],
      "source": [
        "model.summary()"
      ]
    },
    {
      "cell_type": "code",
      "execution_count": null,
      "metadata": {
        "id": "CDe4v2urJxSw"
      },
      "outputs": [],
      "source": [
        "x_val = np.linspace(0,10,63)\n",
        "y_val = f2(x_val)"
      ]
    },
    {
      "cell_type": "code",
      "execution_count": null,
      "metadata": {
        "id": "En-fuX_pJxSw",
        "outputId": "fbcbd4d3-1b67-4904-aae3-6a3b94f32201",
        "colab": {
          "base_uri": "https://localhost:8080/"
        }
      },
      "outputs": [
        {
          "output_type": "stream",
          "name": "stdout",
          "text": [
            "\u001b[1m2/2\u001b[0m \u001b[32m━━━━━━━━━━━━━━━━━━━━\u001b[0m\u001b[37m\u001b[0m \u001b[1m0s\u001b[0m 6ms/step - loss: 0.0353  \n"
          ]
        },
        {
          "output_type": "execute_result",
          "data": {
            "text/plain": [
              "0.037823013961315155"
            ]
          },
          "metadata": {},
          "execution_count": 108
        }
      ],
      "source": [
        "model.evaluate(x=x_val,y=y_val)"
      ]
    },
    {
      "cell_type": "code",
      "source": [
        "print(\"prediction: \", model.predict(np.array([75])), \"      real value: \", f2(75))"
      ],
      "metadata": {
        "id": "sQXigscn0l4s",
        "outputId": "ea540e12-cf61-4698-db6a-ee6b5fbe795d",
        "colab": {
          "base_uri": "https://localhost:8080/"
        }
      },
      "execution_count": null,
      "outputs": [
        {
          "output_type": "stream",
          "name": "stderr",
          "text": [
            "WARNING:tensorflow:6 out of the last 17 calls to <function TensorFlowTrainer.make_predict_function.<locals>.one_step_on_data_distributed at 0x7d9504591e10> triggered tf.function retracing. Tracing is expensive and the excessive number of tracings could be due to (1) creating @tf.function repeatedly in a loop, (2) passing tensors with different shapes, (3) passing Python objects instead of tensors. For (1), please define your @tf.function outside of the loop. For (2), @tf.function has reduce_retracing=True option that can avoid unnecessary retracing. For (3), please refer to https://www.tensorflow.org/guide/function#controlling_retracing and https://www.tensorflow.org/api_docs/python/tf/function for  more details.\n"
          ]
        },
        {
          "output_type": "stream",
          "name": "stdout",
          "text": [
            "\u001b[1m1/1\u001b[0m \u001b[32m━━━━━━━━━━━━━━━━━━━━\u001b[0m\u001b[37m\u001b[0m \u001b[1m0s\u001b[0m 58ms/step\n",
            "prediction:  [[0.26333848]]       real value:  29.27\n"
          ]
        }
      ]
    },
    {
      "cell_type": "markdown",
      "metadata": {
        "id": "bN1TP49KJxSw"
      },
      "source": [
        "____________________________\n",
        "# <font color='blue'>Questão 2 </font>\n",
        "\n",
        "\n",
        "\n",
        "O que acontece se você muda as funções de ativação? Teste algumas diferentes e descreva seus resultados, em especial a tangente hiperbólica\n",
        "\n"
      ]
    },
    {
      "cell_type": "markdown",
      "metadata": {
        "id": "VEUr4h63JxSx"
      },
      "source": [
        "\n",
        "**<font color='red'> Sua resposta aqui: </font>**\n",
        "A performance muda, mas não cheguei a uma conclusão clara das diferenças."
      ]
    },
    {
      "cell_type": "markdown",
      "metadata": {
        "id": "UkfBe5PPJxSx"
      },
      "source": [
        "\n",
        "O que acontece se você mudar a função de otimização? Teste diferentes funções e descreva seus resultados, em especial as funções SDG e RMSprop\n"
      ]
    },
    {
      "cell_type": "markdown",
      "metadata": {
        "id": "vqpZdJsAJxSx"
      },
      "source": [
        "\n",
        "**<font color='red'> Sua resposta aqui: </font>**"
      ]
    },
    {
      "cell_type": "markdown",
      "metadata": {
        "id": "hW_UYiHBJxSx"
      },
      "source": [
        "Volte a primeira parte desse notebook e troque a função de ativação da rede de uma camada (pérceptron) de sdg para adam, o que acontece?\n",
        "\n"
      ]
    },
    {
      "cell_type": "markdown",
      "metadata": {
        "id": "Lq8O4EZlJxSx"
      },
      "source": [
        "\n",
        "**<font color='red'> Sua resposta aqui: </font>**\n",
        "O modelo ficou péssimo. Loss imensa."
      ]
    },
    {
      "cell_type": "markdown",
      "metadata": {
        "id": "xWPZ5SbwJxSy"
      },
      "source": [
        "A avaliação de performance que realizamos foi apenas para pontos contidos no mesmo intervalo que o conjunto de treino, ou seja, foi apenas uma interpolação. Sem alterar sua rede repita o teste realizando uma extrapolação, com pontos fora do intervalo [0;10] e descreva seus resultados. O que aconteceu com a performance?"
      ]
    },
    {
      "cell_type": "markdown",
      "metadata": {
        "id": "NU86EmBmJxSy"
      },
      "source": [
        "\n",
        "**<font color='red'> Sua resposta aqui: </font>**\n",
        "A performance cai muito quando ocorre uma extrapolação."
      ]
    },
    {
      "cell_type": "markdown",
      "metadata": {
        "id": "SYIHWLNKJxSz"
      },
      "source": [
        "# Prevendo se vai chover na Austrália\n",
        "\n",
        "Os próximos exercícios são, em grande parte, uma tradução e adaptação para o português brasileiro do tutorial intitulado [Build Your First Neural Network with Pytorch](https://curiousily.com/posts/build-your-first-neural-network-with-pytorch/)\n",
        " entretanto algumas adaptações foram realizadas, tanto no texto, quanto no código, em relação à versão original para utilizar a biblioteca TensorFlow.\n",
        "\n",
        "Aqui você aprenderá como implementar, treinar e utilizar uma Rede Neural *Feed-Foward* simples para uma tarefa de classificação binária.\n",
        "\n",
        "Para tal, utilizaremos o pacote [TensorFlow 2.0](www.tensorflow.org) que é, atualmente, uma das principais ferramentas para a implementação de modelos neurais viáveis.\n",
        "\n",
        "A tarefa que usaremos para fins de exemplo será a de prever se choverá ou não numa cidade australiana amanhã, utilizando dados meteorológicos mensurados na mesma cidade no dia de hoje. A redução dessa tarefa de previsão a uma classificação binária é, evidentemente, uma grande simplificação do problema real de previsão meteorológica, mas como veremos, ainda pode apresentar resultados interessantes, além do caráter didático.\n",
        "\n",
        "\n",
        "\n",
        "As informações que utilizaremos para treinar nosso modelo para a tarefa de previsão de chuvas estão contidas num conjunto que reúne dados meteorológicos de diversas cidades australianas. Esse conjunto de dados foi curado e disponibilizado através do [Kaggle](https://www.kaggle.com/jsphyg/weather-dataset-rattle-package) por [Joe Young](https://www.kaggle.com/jsphyg).\n",
        "\n"
      ]
    },
    {
      "cell_type": "code",
      "source": [
        "!mkdir data"
      ],
      "metadata": {
        "id": "LcJL3ba5WnDl",
        "colab": {
          "base_uri": "https://localhost:8080/"
        },
        "outputId": "9882bb44-b212-4b5f-ad5d-7bdad421becd"
      },
      "execution_count": null,
      "outputs": [
        {
          "output_type": "stream",
          "name": "stdout",
          "text": [
            "mkdir: cannot create directory ‘data’: File exists\n"
          ]
        }
      ]
    },
    {
      "cell_type": "code",
      "source": [
        "# Baixando os dados:\n",
        "!curl https://raw.githubusercontent.com/alan-barzilay/NLPortugues/master/Semana%2002/data/weatherAUS.csv --output 'data/weatherAUS.csv'"
      ],
      "metadata": {
        "id": "SpUaQLuKXGJK",
        "colab": {
          "base_uri": "https://localhost:8080/"
        },
        "outputId": "44ee63a7-7d78-4a2d-f339-7c0c97cbb6db"
      },
      "execution_count": null,
      "outputs": [
        {
          "output_type": "stream",
          "name": "stdout",
          "text": [
            "  % Total    % Received % Xferd  Average Speed   Time    Time     Time  Current\n",
            "                                 Dload  Upload   Total   Spent    Left  Speed\n",
            "100 13.5M  100 13.5M    0     0  12.4M      0  0:00:01  0:00:01 --:--:-- 12.4M\n"
          ]
        }
      ]
    },
    {
      "cell_type": "markdown",
      "source": [
        "Os dados estão no formato `.csv` e, com eles em mãos, o primeiro passo é carregá-los em um *data-frame*, usando a função [`pd.read_csv()`](https://pandas.pydata.org/pandas-docs/stable/reference/api/pandas.read_csv.html) do *pandas*.\n",
        "\n",
        "\n",
        "Com os dados carregados, é possível averiguar que eles são constituídos por 142193 entradas, cada uma contando com 24 variáveis distintas. É possível notar, também, que existem entradas para as quais nem todas as variáveis estão  instanciadas. Além disso, nem todos os valores estão nos formatos que gostaríamos que estivessem para serem processados.\n",
        "\n",
        "Isso é normal. Dados reais são cheios de falhas e problemas, e exigem trabalho e entendimento para serem utilizados da maneira correta. Por isso, é necessário realizar um **pré-processamento** para adequar os dados, antes de os passarmos para o modelo.\n",
        "\n",
        "O primeiro passo é escolher quais das variáveis meteorológicas nos interessam. No nosso caso, queremos prever se choverá ou não amanhã, então `RainTomorrow` será nossa variável alvo. Para prevê-la usaremos as variáveis  `Rainfall`, `Humidity3pm`, `Pressure9am` e `RainToday`, que serão nossas *features*.\n",
        "\n",
        "\n",
        "\n",
        "Em seguida, iniciamos o pré-processamento, propriamente dito.\n",
        "\n",
        "As variáveis `RainToday` e `RainTomorrow` possuem dois valores possíveis, *Yes* e *No*. Adeque esses valores, convertendo-os para $1$ e $0$, respectivamente.\n",
        "\n",
        "\n",
        "\n",
        "\n",
        "A seguir, remova todas as entradas que não tenham instanciado os valores de todas as variáveis de interesse com a função [`dropna()`](https://pandas.pydata.org/pandas-docs/stable/reference/api/pandas.DataFrame.dropna.html), pois essas entradas são inúteis para treinar nosso modelo.\n",
        "\n",
        "\n",
        "\n",
        "Com os dados pré-processados, é possível, agora, plotar as distribuições das variáveis de interesse para poder entender melhor como essas distribuições funcionam. Esse tipo de trabalho é muito importante na implementação real de redes neurais, conhecer os dados é fundamental para tirar o maior proveito do seu modelo e entender verdadeiramente seus resultados.\n",
        "\n"
      ],
      "metadata": {
        "id": "XiS7Hc97Tn9s"
      }
    },
    {
      "cell_type": "markdown",
      "source": [
        "\n",
        "![image.png](data:image/png;base64,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)\n"
      ],
      "metadata": {
        "id": "awiT8tbUQmER"
      }
    },
    {
      "cell_type": "markdown",
      "source": [
        "\n",
        "Dentre todas as distribuições das variáveis de interesse, a que mais nos concerne é a da variável alvo, `RainTomorrow`, representada na figura acima.\n",
        "\n",
        "\n",
        "Essa distribuição nos revela um grande desbalanço entre os dois valores possíveis dessa variável, que constituirão as duas classes do nosso problema de classificação. Esse é um dado importante, pois pode influenciar significativamente a capacidade preditiva do modelo treinado.\n",
        "\n",
        "Existem maneiras de se lidar com o desbalanceamento dos dados, mas nesse tutorial utilizaremos os dados dessa forma. Isso significa que o *baseline* para a performance do nosso modelo deve ser $78\\%$, isso porque, se um modelo chutasse que amanhã não irá chover, todas as vezes, ele obteria uma performance dessa ordem e, como esperamos gerar um modelo mais \"inteligente\" que isso, esperamos também que a a nossa performance seja superior a essa.\n",
        "\n",
        "Todo o código referente a esse pré-processamento deve ser escrito pelo próprio aluno seguindo o esqueleto das funções presentes no notebook. Para agilizar a exploração dos dados nós já fornecemos a implementação da função `visualize_data()` que plota visualizações para as distribuições das variáveis de interesse."
      ],
      "metadata": {
        "id": "cay4UNFYTjZU"
      }
    },
    {
      "cell_type": "code",
      "execution_count": null,
      "metadata": {
        "id": "BZEbIjnPJxSz"
      },
      "outputs": [],
      "source": [
        "def visualize_data(data):\n",
        "    \"\"\"Gera graficos das distribuicoes das features\"\"\"\n",
        "\n",
        "    ibm_pltt = ['#648FFF', '#785EF0', '#DC267F',\n",
        "                '#FE6100', '#FFB000']  # Paleta colorblind-friendly\n",
        "\n",
        "    # RainToday:\n",
        "    sns.set()\n",
        "    sns.set_palette(sns.color_palette([ibm_pltt[2], ibm_pltt[0]]))\n",
        "    sns.countplot(x=data.RainToday)\n",
        "    plt.xlabel('Choveu Hoje?')\n",
        "    plt.ylabel('Contagem')\n",
        "    plt.title(\"Valores de 'RainToday' para os dados pré-processados\")\n",
        "    plt.show()\n",
        "\n",
        "    # RainTomorrow:\n",
        "    sns.set()\n",
        "    sns.set_palette(sns.color_palette([ibm_pltt[3], ibm_pltt[1]]))\n",
        "    sns.countplot(x=data.RainTomorrow)\n",
        "    plt.xlabel('Choverá Amanhã?')\n",
        "    plt.ylabel('Contagem')\n",
        "    plt.title(\"Valores de 'RainTomorrow' para os dados pré-processados\")\n",
        "    plt.show()\n",
        "\n",
        "    # Humidity3pm:\n",
        "    sns.set()\n",
        "    sns.displot(data.Humidity3pm, color=ibm_pltt[0], stat='density', kde=True)\n",
        "    plt.xlabel('Umidade às 3PM')\n",
        "    plt.ylabel('Densidade normalizada')\n",
        "    plt.title(\"Distribuição da variável 'Humidity3pm' para os dados pré-processados\")\n",
        "    plt.show()\n",
        "\n",
        "    # Pressure9am:\n",
        "    sns.set()\n",
        "    sns.displot(data.Pressure9am, color=ibm_pltt[4], stat='density', kde=True)\n",
        "    plt.xlabel('Pressão atmosférica às 9AM')\n",
        "    plt.ylabel('Densidade normalizada')\n",
        "    plt.title(\"Distribuição da variável 'Pressure9amm' para os dados pré-processados\")\n",
        "    plt.show()\n",
        "\n",
        "    # Rainfall:\n",
        "    sns.set()\n",
        "    sns.histplot(data.Rainfall, color=ibm_pltt[1], bins=500, kde=False)\n",
        "    plt.xlim(0, 10)\n",
        "    plt.xlabel('Pluviosidade')\n",
        "    plt.ylabel('Densidade normalizada')\n",
        "    plt.title(\"Distribuição da variável 'Rainfall' para os dados pré-processados\")\n",
        "    plt.show()\n",
        "\n",
        "    return\n"
      ]
    },
    {
      "cell_type": "markdown",
      "metadata": {
        "id": "1O_WugijJxSz"
      },
      "source": [
        "## Pré processamento dos dados\n",
        "Já definimos uma função basica para lhe ajudar a explorar os dados, você precisará escrever uma função para carregar os dados, uma de pré-processamento e outra para fazer a separação em teste e treino."
      ]
    },
    {
      "cell_type": "markdown",
      "metadata": {
        "id": "bk6JHolSJxSz"
      },
      "source": [
        "# <font color='blue'>Questão 3 </font>\n",
        "Complete as funções aqui descritas seguindo a assinatura sugerida\n",
        "\n",
        "Para separar em treino e teste, de uma olhada na função [train_test_split()](https://scikit-learn.org/stable/modules/generated/sklearn.model_selection.train_test_split.html) do Scikit-Learn"
      ]
    },
    {
      "cell_type": "code",
      "execution_count": null,
      "metadata": {
        "id": "gI5ggHUlJxS0"
      },
      "outputs": [],
      "source": [
        "def load_data(data_path='data/weatherAUS.csv')-> pd.DataFrame:\n",
        "    \"\"\"Funcao que importa dados de um arquivo csv, usando pandas\"\"\"\n",
        "    #Seu código aqui\n",
        "\n",
        "    raw_data = pd.read_csv(data_path)\n",
        "    return raw_data\n",
        "\n",
        "def pre_processing(raw_data:pd.DataFrame)-> pd.DataFrame:\n",
        "    \"\"\"Funcao que filtra e limpa os dados meteorologicos para o treinamento\"\"\"\n",
        "    #Seu código aqui\n",
        "\n",
        "    # manter Rainfall, Humidity3pm, Pressure9am, RainToday e RainTomorrow\n",
        "    processed_data = raw_data[['Rainfall', 'Humidity3pm', 'Pressure9am', 'RainToday', 'RainTomorrow']]\n",
        "    # remover linhas com dados faltantes\n",
        "    processed_data = processed_data.dropna()\n",
        "\n",
        "    # transformar RainToday e RainTomorrow em 0 e 1\n",
        "    processed_data['RainToday'] = processed_data['RainToday'].map({'Yes': 1, 'No': 0})\n",
        "    processed_data['RainTomorrow'] = processed_data['RainTomorrow'].map({'Yes': 1, 'No': 0})\n",
        "    return processed_data\n",
        "\n",
        "\n",
        "def split_data(data:pd.DataFrame, val_size= 0.2)-> np.array:\n",
        "    \"\"\"Funcao que separa seus dados em teste e treino conforme a proporcao val_size\"\"\"\n",
        "    #Seu código aqui\n",
        "\n",
        "    x = np.array(data.drop(columns='RainTomorrow'))\n",
        "    y = np.array(data['RainTomorrow'])\n",
        "\n",
        "    x_train, x_val, y_train, y_val = train_test_split(x, y, test_size=val_size)\n",
        "\n",
        "    return x_train, x_val, y_train, y_val\n"
      ]
    },
    {
      "cell_type": "code",
      "execution_count": null,
      "metadata": {
        "id": "ytKb1DlsJxS0",
        "colab": {
          "base_uri": "https://localhost:8080/",
          "height": 1000
        },
        "outputId": "eda46f2e-6fba-49ed-a6f3-504074894bf1"
      },
      "outputs": [
        {
          "output_type": "display_data",
          "data": {
            "text/plain": [
              "<Figure size 640x480 with 1 Axes>"
            ],
            "image/png": "[encoded data removed]"
          },
          "metadata": {}
        },
        {
          "output_type": "display_data",
          "data": {
            "text/plain": [
              "<Figure size 640x480 with 1 Axes>"
            ],
            "image/png": "[encoded data removed]"
          },
          "metadata": {}
        },
        {
          "output_type": "display_data",
          "data": {
            "text/plain": [
              "<Figure size 500x500 with 1 Axes>"
            ],
            "image/png": "[encoded data removed]"
          },
          "metadata": {}
        },
        {
          "output_type": "display_data",
          "data": {
            "text/plain": [
              "<Figure size 500x500 with 1 Axes>"
            ],
            "image/png": "[encoded data removed]"
          },
          "metadata": {}
        },
        {
          "output_type": "display_data",
          "data": {
            "text/plain": [
              "<Figure size 640x480 with 1 Axes>"
            ],
            "image/png": "[encoded data removed]"
          },
          "metadata": {}
        },
        {
          "output_type": "stream",
          "name": "stdout",
          "text": [
            "   Rainfall  Humidity3pm  Pressure9am  RainToday  RainTomorrow\n",
            "0       0.6         22.0       1007.7          0             0\n",
            "1       0.0         25.0       1010.6          0             0\n",
            "2       0.0         30.0       1007.6          0             0\n",
            "3       0.0         16.0       1017.6          0             0\n",
            "4       1.0         33.0       1010.8          0             0\n",
            "5       0.2         23.0       1009.2          0             0\n",
            "6       0.0         19.0       1009.6          0             0\n",
            "7       0.0         19.0       1013.4          0             0\n",
            "8       0.0          9.0       1008.9          0             1\n",
            "9       1.4         27.0       1007.0          1             0\n"
          ]
        }
      ],
      "source": [
        "df = load_data()\n",
        "df = pre_processing(df)\n",
        "visualize_data(df)\n",
        "print(df.head(10))\n",
        "x_train, x_val, y_train, y_val = split_data(df, 0.2)"
      ]
    },
    {
      "cell_type": "markdown",
      "metadata": {
        "id": "2F0iWfJYJxS0"
      },
      "source": [
        "# <font color='blue'>Questão 4 </font>\n",
        "Agora que você ja ganhou uma familiaridade com a API Keras, escreva sozinho do começo ao fim um modelo que ira dizer se amanhã vai chover ou não e avalie sua performance.\n"
      ]
    },
    {
      "cell_type": "code",
      "execution_count": null,
      "metadata": {
        "id": "loD7lw_tJxS1",
        "colab": {
          "base_uri": "https://localhost:8080/"
        },
        "collapsed": true,
        "outputId": "4d3f5f74-559a-4d69-8458-cd2dc9e9168e"
      },
      "outputs": [
        {
          "output_type": "stream",
          "name": "stdout",
          "text": [
            "(99751, 4)\n",
            "Epoch 1/50\n",
            "\u001b[1m3118/3118\u001b[0m \u001b[32m━━━━━━━━━━━━━━━━━━━━\u001b[0m\u001b[37m\u001b[0m \u001b[1m8s\u001b[0m 2ms/step - accuracy: 0.6938 - loss: 20.8277 - val_accuracy: 0.8244 - val_loss: 0.4217\n",
            "Epoch 2/50\n",
            "\u001b[1m3118/3118\u001b[0m \u001b[32m━━━━━━━━━━━━━━━━━━━━\u001b[0m\u001b[37m\u001b[0m \u001b[1m6s\u001b[0m 2ms/step - accuracy: 0.8196 - loss: 0.4325 - val_accuracy: 0.8309 - val_loss: 0.4065\n",
            "Epoch 3/50\n",
            "\u001b[1m3118/3118\u001b[0m \u001b[32m━━━━━━━━━━━━━━━━━━━━\u001b[0m\u001b[37m\u001b[0m \u001b[1m11s\u001b[0m 2ms/step - accuracy: 0.8132 - loss: 0.4407 - val_accuracy: 0.8007 - val_loss: 0.5058\n",
            "Epoch 4/50\n",
            "\u001b[1m3118/3118\u001b[0m \u001b[32m━━━━━━━━━━━━━━━━━━━━\u001b[0m\u001b[37m\u001b[0m \u001b[1m6s\u001b[0m 2ms/step - accuracy: 0.8180 - loss: 0.4340 - val_accuracy: 0.8229 - val_loss: 0.4330\n",
            "Epoch 5/50\n",
            "\u001b[1m3118/3118\u001b[0m \u001b[32m━━━━━━━━━━━━━━━━━━━━\u001b[0m\u001b[37m\u001b[0m \u001b[1m10s\u001b[0m 2ms/step - accuracy: 0.8169 - loss: 0.4378 - val_accuracy: 0.8187 - val_loss: 0.4230\n",
            "Epoch 6/50\n",
            "\u001b[1m3118/3118\u001b[0m \u001b[32m━━━━━━━━━━━━━━━━━━━━\u001b[0m\u001b[37m\u001b[0m \u001b[1m7s\u001b[0m 2ms/step - accuracy: 0.8177 - loss: 0.4331 - val_accuracy: 0.7657 - val_loss: 0.4892\n",
            "Epoch 7/50\n",
            "\u001b[1m3118/3118\u001b[0m \u001b[32m━━━━━━━━━━━━━━━━━━━━\u001b[0m\u001b[37m\u001b[0m \u001b[1m6s\u001b[0m 2ms/step - accuracy: 0.8150 - loss: 0.4395 - val_accuracy: 0.8157 - val_loss: 0.4238\n",
            "Epoch 8/50\n",
            "\u001b[1m3118/3118\u001b[0m \u001b[32m━━━━━━━━━━━━━━━━━━━━\u001b[0m\u001b[37m\u001b[0m \u001b[1m6s\u001b[0m 2ms/step - accuracy: 0.8201 - loss: 0.4282 - val_accuracy: 0.8296 - val_loss: 0.4139\n",
            "Epoch 9/50\n",
            "\u001b[1m3118/3118\u001b[0m \u001b[32m━━━━━━━━━━━━━━━━━━━━\u001b[0m\u001b[37m\u001b[0m \u001b[1m10s\u001b[0m 2ms/step - accuracy: 0.8215 - loss: 0.4273 - val_accuracy: 0.7874 - val_loss: 0.4633\n",
            "Epoch 10/50\n",
            "\u001b[1m3118/3118\u001b[0m \u001b[32m━━━━━━━━━━━━━━━━━━━━\u001b[0m\u001b[37m\u001b[0m \u001b[1m8s\u001b[0m 2ms/step - accuracy: 0.8213 - loss: 0.4266 - val_accuracy: 0.8273 - val_loss: 0.4188\n",
            "Epoch 11/50\n",
            "\u001b[1m3118/3118\u001b[0m \u001b[32m━━━━━━━━━━━━━━━━━━━━\u001b[0m\u001b[37m\u001b[0m \u001b[1m6s\u001b[0m 2ms/step - accuracy: 0.8252 - loss: 0.4210 - val_accuracy: 0.8311 - val_loss: 0.4054\n",
            "Epoch 12/50\n",
            "\u001b[1m3118/3118\u001b[0m \u001b[32m━━━━━━━━━━━━━━━━━━━━\u001b[0m\u001b[37m\u001b[0m \u001b[1m7s\u001b[0m 2ms/step - accuracy: 0.8232 - loss: 0.4276 - val_accuracy: 0.8287 - val_loss: 0.4029\n",
            "Epoch 13/50\n",
            "\u001b[1m3118/3118\u001b[0m \u001b[32m━━━━━━━━━━━━━━━━━━━━\u001b[0m\u001b[37m\u001b[0m \u001b[1m9s\u001b[0m 2ms/step - accuracy: 0.8279 - loss: 0.4187 - val_accuracy: 0.8298 - val_loss: 0.4153\n",
            "Epoch 14/50\n",
            "\u001b[1m3118/3118\u001b[0m \u001b[32m━━━━━━━━━━━━━━━━━━━━\u001b[0m\u001b[37m\u001b[0m \u001b[1m7s\u001b[0m 2ms/step - accuracy: 0.8302 - loss: 0.4151 - val_accuracy: 0.8070 - val_loss: 0.5035\n",
            "Epoch 15/50\n",
            "\u001b[1m3118/3118\u001b[0m \u001b[32m━━━━━━━━━━━━━━━━━━━━\u001b[0m\u001b[37m\u001b[0m \u001b[1m6s\u001b[0m 2ms/step - accuracy: 0.8320 - loss: 0.4123 - val_accuracy: 0.8242 - val_loss: 0.4504\n",
            "Epoch 16/50\n",
            "\u001b[1m3118/3118\u001b[0m \u001b[32m━━━━━━━━━━━━━━━━━━━━\u001b[0m\u001b[37m\u001b[0m \u001b[1m10s\u001b[0m 2ms/step - accuracy: 0.8284 - loss: 0.4152 - val_accuracy: 0.8315 - val_loss: 0.4008\n",
            "Epoch 17/50\n",
            "\u001b[1m3118/3118\u001b[0m \u001b[32m━━━━━━━━━━━━━━━━━━━━\u001b[0m\u001b[37m\u001b[0m \u001b[1m10s\u001b[0m 2ms/step - accuracy: 0.8282 - loss: 0.4138 - val_accuracy: 0.8299 - val_loss: 0.4054\n",
            "Epoch 18/50\n",
            "\u001b[1m3118/3118\u001b[0m \u001b[32m━━━━━━━━━━━━━━━━━━━━\u001b[0m\u001b[37m\u001b[0m \u001b[1m11s\u001b[0m 2ms/step - accuracy: 0.8314 - loss: 0.4118 - val_accuracy: 0.8285 - val_loss: 0.4265\n",
            "Epoch 19/50\n",
            "\u001b[1m3118/3118\u001b[0m \u001b[32m━━━━━━━━━━━━━━━━━━━━\u001b[0m\u001b[37m\u001b[0m \u001b[1m11s\u001b[0m 2ms/step - accuracy: 0.8310 - loss: 0.4084 - val_accuracy: 0.8316 - val_loss: 0.3996\n",
            "Epoch 20/50\n",
            "\u001b[1m3118/3118\u001b[0m \u001b[32m━━━━━━━━━━━━━━━━━━━━\u001b[0m\u001b[37m\u001b[0m \u001b[1m9s\u001b[0m 2ms/step - accuracy: 0.8324 - loss: 0.4079 - val_accuracy: 0.8273 - val_loss: 0.4054\n",
            "Epoch 21/50\n",
            "\u001b[1m3118/3118\u001b[0m \u001b[32m━━━━━━━━━━━━━━━━━━━━\u001b[0m\u001b[37m\u001b[0m \u001b[1m7s\u001b[0m 2ms/step - accuracy: 0.8314 - loss: 0.4037 - val_accuracy: 0.8295 - val_loss: 0.4112\n",
            "Epoch 22/50\n",
            "\u001b[1m3118/3118\u001b[0m \u001b[32m━━━━━━━━━━━━━━━━━━━━\u001b[0m\u001b[37m\u001b[0m \u001b[1m6s\u001b[0m 2ms/step - accuracy: 0.8322 - loss: 0.4032 - val_accuracy: 0.8318 - val_loss: 0.3995\n",
            "Epoch 23/50\n",
            "\u001b[1m3118/3118\u001b[0m \u001b[32m━━━━━━━━━━━━━━━━━━━━\u001b[0m\u001b[37m\u001b[0m \u001b[1m10s\u001b[0m 2ms/step - accuracy: 0.8347 - loss: 0.3993 - val_accuracy: 0.8273 - val_loss: 0.4045\n",
            "Epoch 24/50\n",
            "\u001b[1m3118/3118\u001b[0m \u001b[32m━━━━━━━━━━━━━━━━━━━━\u001b[0m\u001b[37m\u001b[0m \u001b[1m7s\u001b[0m 2ms/step - accuracy: 0.8339 - loss: 0.4013 - val_accuracy: 0.8318 - val_loss: 0.3997\n",
            "Epoch 25/50\n",
            "\u001b[1m3118/3118\u001b[0m \u001b[32m━━━━━━━━━━━━━━━━━━━━\u001b[0m\u001b[37m\u001b[0m \u001b[1m9s\u001b[0m 2ms/step - accuracy: 0.8320 - loss: 0.4006 - val_accuracy: 0.8306 - val_loss: 0.4031\n",
            "Epoch 26/50\n",
            "\u001b[1m3118/3118\u001b[0m \u001b[32m━━━━━━━━━━━━━━━━━━━━\u001b[0m\u001b[37m\u001b[0m \u001b[1m10s\u001b[0m 2ms/step - accuracy: 0.8332 - loss: 0.4024 - val_accuracy: 0.8319 - val_loss: 0.4009\n",
            "Epoch 27/50\n",
            "\u001b[1m3118/3118\u001b[0m \u001b[32m━━━━━━━━━━━━━━━━━━━━\u001b[0m\u001b[37m\u001b[0m \u001b[1m7s\u001b[0m 2ms/step - accuracy: 0.8334 - loss: 0.4010 - val_accuracy: 0.8253 - val_loss: 0.4069\n",
            "Epoch 28/50\n",
            "\u001b[1m3118/3118\u001b[0m \u001b[32m━━━━━━━━━━━━━━━━━━━━\u001b[0m\u001b[37m\u001b[0m \u001b[1m9s\u001b[0m 2ms/step - accuracy: 0.8334 - loss: 0.3997 - val_accuracy: 0.8301 - val_loss: 0.4016\n",
            "Epoch 29/50\n",
            "\u001b[1m3118/3118\u001b[0m \u001b[32m━━━━━━━━━━━━━━━━━━━━\u001b[0m\u001b[37m\u001b[0m \u001b[1m10s\u001b[0m 2ms/step - accuracy: 0.8342 - loss: 0.3996 - val_accuracy: 0.8296 - val_loss: 0.4023\n",
            "Epoch 30/50\n",
            "\u001b[1m3118/3118\u001b[0m \u001b[32m━━━━━━━━━━━━━━━━━━━━\u001b[0m\u001b[37m\u001b[0m \u001b[1m7s\u001b[0m 2ms/step - accuracy: 0.8335 - loss: 0.4023 - val_accuracy: 0.8315 - val_loss: 0.3992\n",
            "Epoch 31/50\n",
            "\u001b[1m3118/3118\u001b[0m \u001b[32m━━━━━━━━━━━━━━━━━━━━\u001b[0m\u001b[37m\u001b[0m \u001b[1m6s\u001b[0m 2ms/step - accuracy: 0.8348 - loss: 0.3992 - val_accuracy: 0.8295 - val_loss: 0.4155\n",
            "Epoch 32/50\n",
            "\u001b[1m3118/3118\u001b[0m \u001b[32m━━━━━━━━━━━━━━━━━━━━\u001b[0m\u001b[37m\u001b[0m \u001b[1m8s\u001b[0m 2ms/step - accuracy: 0.8341 - loss: 0.4018 - val_accuracy: 0.8310 - val_loss: 0.4037\n",
            "Epoch 33/50\n",
            "\u001b[1m3118/3118\u001b[0m \u001b[32m━━━━━━━━━━━━━━━━━━━━\u001b[0m\u001b[37m\u001b[0m \u001b[1m6s\u001b[0m 2ms/step - accuracy: 0.8353 - loss: 0.3993 - val_accuracy: 0.8318 - val_loss: 0.4008\n",
            "Epoch 34/50\n",
            "\u001b[1m3118/3118\u001b[0m \u001b[32m━━━━━━━━━━━━━━━━━━━━\u001b[0m\u001b[37m\u001b[0m \u001b[1m10s\u001b[0m 2ms/step - accuracy: 0.8354 - loss: 0.3963 - val_accuracy: 0.8318 - val_loss: 0.4018\n",
            "Epoch 35/50\n",
            "\u001b[1m3118/3118\u001b[0m \u001b[32m━━━━━━━━━━━━━━━━━━━━\u001b[0m\u001b[37m\u001b[0m \u001b[1m11s\u001b[0m 2ms/step - accuracy: 0.8336 - loss: 0.3996 - val_accuracy: 0.8278 - val_loss: 0.4043\n",
            "Epoch 36/50\n",
            "\u001b[1m3118/3118\u001b[0m \u001b[32m━━━━━━━━━━━━━━━━━━━━\u001b[0m\u001b[37m\u001b[0m \u001b[1m10s\u001b[0m 2ms/step - accuracy: 0.8358 - loss: 0.3971 - val_accuracy: 0.8302 - val_loss: 0.4011\n",
            "Epoch 37/50\n",
            "\u001b[1m3118/3118\u001b[0m \u001b[32m━━━━━━━━━━━━━━━━━━━━\u001b[0m\u001b[37m\u001b[0m \u001b[1m9s\u001b[0m 2ms/step - accuracy: 0.8367 - loss: 0.3974 - val_accuracy: 0.8323 - val_loss: 0.3997\n",
            "Epoch 38/50\n",
            "\u001b[1m3118/3118\u001b[0m \u001b[32m━━━━━━━━━━━━━━━━━━━━\u001b[0m\u001b[37m\u001b[0m \u001b[1m10s\u001b[0m 2ms/step - accuracy: 0.8325 - loss: 0.4024 - val_accuracy: 0.8311 - val_loss: 0.4019\n",
            "Epoch 39/50\n",
            "\u001b[1m3118/3118\u001b[0m \u001b[32m━━━━━━━━━━━━━━━━━━━━\u001b[0m\u001b[37m\u001b[0m \u001b[1m7s\u001b[0m 2ms/step - accuracy: 0.8352 - loss: 0.3969 - val_accuracy: 0.8313 - val_loss: 0.4033\n",
            "Epoch 40/50\n",
            "\u001b[1m3118/3118\u001b[0m \u001b[32m━━━━━━━━━━━━━━━━━━━━\u001b[0m\u001b[37m\u001b[0m \u001b[1m9s\u001b[0m 2ms/step - accuracy: 0.8354 - loss: 0.3997 - val_accuracy: 0.8321 - val_loss: 0.4026\n",
            "Epoch 41/50\n",
            "\u001b[1m3118/3118\u001b[0m \u001b[32m━━━━━━━━━━━━━━━━━━━━\u001b[0m\u001b[37m\u001b[0m \u001b[1m10s\u001b[0m 2ms/step - accuracy: 0.8348 - loss: 0.3996 - val_accuracy: 0.8307 - val_loss: 0.4012\n",
            "Epoch 42/50\n",
            "\u001b[1m3118/3118\u001b[0m \u001b[32m━━━━━━━━━━━━━━━━━━━━\u001b[0m\u001b[37m\u001b[0m \u001b[1m8s\u001b[0m 2ms/step - accuracy: 0.8332 - loss: 0.4014 - val_accuracy: 0.8321 - val_loss: 0.3996\n",
            "Epoch 43/50\n",
            "\u001b[1m3118/3118\u001b[0m \u001b[32m━━━━━━━━━━━━━━━━━━━━\u001b[0m\u001b[37m\u001b[0m \u001b[1m9s\u001b[0m 2ms/step - accuracy: 0.8354 - loss: 0.3987 - val_accuracy: 0.8284 - val_loss: 0.4113\n",
            "Epoch 44/50\n",
            "\u001b[1m3118/3118\u001b[0m \u001b[32m━━━━━━━━━━━━━━━━━━━━\u001b[0m\u001b[37m\u001b[0m \u001b[1m8s\u001b[0m 2ms/step - accuracy: 0.8363 - loss: 0.3975 - val_accuracy: 0.8322 - val_loss: 0.3998\n",
            "Epoch 45/50\n",
            "\u001b[1m3118/3118\u001b[0m \u001b[32m━━━━━━━━━━━━━━━━━━━━\u001b[0m\u001b[37m\u001b[0m \u001b[1m6s\u001b[0m 2ms/step - accuracy: 0.8339 - loss: 0.3985 - val_accuracy: 0.8276 - val_loss: 0.4176\n",
            "Epoch 46/50\n",
            "\u001b[1m3118/3118\u001b[0m \u001b[32m━━━━━━━━━━━━━━━━━━━━\u001b[0m\u001b[37m\u001b[0m \u001b[1m10s\u001b[0m 2ms/step - accuracy: 0.8355 - loss: 0.4006 - val_accuracy: 0.8320 - val_loss: 0.3993\n",
            "Epoch 47/50\n",
            "\u001b[1m3118/3118\u001b[0m \u001b[32m━━━━━━━━━━━━━━━━━━━━\u001b[0m\u001b[37m\u001b[0m \u001b[1m8s\u001b[0m 2ms/step - accuracy: 0.8347 - loss: 0.3986 - val_accuracy: 0.8323 - val_loss: 0.3995\n",
            "Epoch 48/50\n",
            "\u001b[1m3118/3118\u001b[0m \u001b[32m━━━━━━━━━━━━━━━━━━━━\u001b[0m\u001b[37m\u001b[0m \u001b[1m6s\u001b[0m 2ms/step - accuracy: 0.8364 - loss: 0.3971 - val_accuracy: 0.8329 - val_loss: 0.3996\n",
            "Epoch 49/50\n",
            "\u001b[1m3118/3118\u001b[0m \u001b[32m━━━━━━━━━━━━━━━━━━━━\u001b[0m\u001b[37m\u001b[0m \u001b[1m10s\u001b[0m 2ms/step - accuracy: 0.8331 - loss: 0.3990 - val_accuracy: 0.8319 - val_loss: 0.4006\n",
            "Epoch 50/50\n",
            "\u001b[1m3118/3118\u001b[0m \u001b[32m━━━━━━━━━━━━━━━━━━━━\u001b[0m\u001b[37m\u001b[0m \u001b[1m7s\u001b[0m 2ms/step - accuracy: 0.8343 - loss: 0.3995 - val_accuracy: 0.8321 - val_loss: 0.3995\n",
            "\u001b[1m780/780\u001b[0m \u001b[32m━━━━━━━━━━━━━━━━━━━━\u001b[0m\u001b[37m\u001b[0m \u001b[1m1s\u001b[0m 1ms/step - accuracy: 0.8316 - loss: 0.4002\n"
          ]
        },
        {
          "output_type": "execute_result",
          "data": {
            "text/plain": [
              "[0.39953139424324036, 0.8321437239646912]"
            ]
          },
          "metadata": {},
          "execution_count": 144
        }
      ],
      "source": [
        "# Seu código aqui\n",
        "\n",
        "print(x_train.shape)\n",
        "\n",
        "# criando modelo\n",
        "model = keras.Sequential([\n",
        "    keras.layers.Dense(units=5, activation='relu', input_shape=(4,)),\n",
        "    keras.layers.Dense(units=5, activation='relu'),\n",
        "    keras.layers.Dense(units=1, activation='sigmoid')\n",
        "])\n",
        "\n",
        "# compilando\n",
        "model.compile(optimizer='adam', loss='binary_crossentropy', metrics=['accuracy'])\n",
        "\n",
        "# treinando\n",
        "model.fit(x_train, y_train, epochs=50, batch_size=32, validation_data=(x_val, y_val))\n",
        "\n",
        "# avaliando\n",
        "model.evaluate(x_val, y_val)"
      ]
    },
    {
      "cell_type": "code",
      "source": [
        "# fazendo previsões com o modelo\n",
        "previsoes = model.predict(x_val)\n",
        "\n",
        "# aplicando o limiar para obter rótulos binários\n",
        "limiar = 0.5\n",
        "previsoes_binarias = (previsoes > limiar).astype(int)\n",
        "\n",
        "# comparando\n",
        "print('Predictions (Probabilities):\\n', previsoes)\n",
        "print('\\n\\n')\n",
        "print('Predictions (Binary Labels):\\n', previsoes_binarias[:5])\n",
        "print('\\n')\n",
        "print('Real Values:\\n', y_val[:5])"
      ],
      "metadata": {
        "colab": {
          "base_uri": "https://localhost:8080/"
        },
        "id": "um9VRYXVomzy",
        "outputId": "a880aca5-1cee-4c0a-97af-f81252c11441"
      },
      "execution_count": null,
      "outputs": [
        {
          "output_type": "stream",
          "name": "stdout",
          "text": [
            "\u001b[1m780/780\u001b[0m \u001b[32m━━━━━━━━━━━━━━━━━━━━\u001b[0m\u001b[37m\u001b[0m \u001b[1m1s\u001b[0m 1ms/step\n",
            "Predictions (Probabilities):\n",
            " [[0.55905426]\n",
            " [0.11892185]\n",
            " [0.6853251 ]\n",
            " ...\n",
            " [0.22558427]\n",
            " [0.03861083]\n",
            " [0.07405997]]\n",
            "\n",
            "\n",
            "\n",
            "Predictions (Binary Labels):\n",
            " [[1]\n",
            " [0]\n",
            " [1]\n",
            " [0]\n",
            " [0]]\n",
            "\n",
            "\n",
            "Real Values:\n",
            " [1 0 1 0 0]\n"
          ]
        }
      ]
    },
    {
      "cell_type": "code",
      "source": [
        "acertos = 0\n",
        "erros = 0\n",
        "for i, prev in enumerate(previsoes_binarias):\n",
        "    if prev == y_val[i]:\n",
        "        acertos += 1\n",
        "    else:\n",
        "        erros += 1\n",
        "\n",
        "print('Acertos:', acertos)\n",
        "print('Erros:', erros)\n",
        "print('Acurácia:', acertos / (acertos + erros))"
      ],
      "metadata": {
        "colab": {
          "base_uri": "https://localhost:8080/"
        },
        "id": "_AOklrRB2_jx",
        "outputId": "6317d64c-711c-42df-a73a-77d3664ddf60"
      },
      "execution_count": null,
      "outputs": [
        {
          "output_type": "stream",
          "name": "stdout",
          "text": [
            "Acertos: 20752\n",
            "Erros: 4186\n",
            "Acurácia: 0.8321437164167135\n"
          ]
        }
      ]
    }
  ],
  "metadata": {
    "kernelspec": {
      "display_name": ".venv_tutorial",
      "language": "python",
      "name": ".venv_tutorial"
    },
    "language_info": {
      "codemirror_mode": {
        "name": "ipython",
        "version": 3
      },
      "file_extension": ".py",
      "mimetype": "text/x-python",
      "name": "python",
      "nbconvert_exporter": "python",
      "pygments_lexer": "ipython3",
      "version": "3.8.5"
    },
    "colab": {
      "provenance": []
    }
  },
  "nbformat": 4,
  "nbformat_minor": 0
}